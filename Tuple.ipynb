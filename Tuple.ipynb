{
  "nbformat": 4,
  "nbformat_minor": 0,
  "metadata": {
    "colab": {
      "provenance": []
    },
    "kernelspec": {
      "name": "python3",
      "display_name": "Python 3"
    },
    "language_info": {
      "name": "python"
    }
  },
  "cells": [
    {
      "cell_type": "code",
      "execution_count": null,
      "metadata": {
        "id": "tmsreKkDjEbS"
      },
      "outputs": [],
      "source": [
        "# TUPLE DATATYPE ASSIGNMENT\n",
        "# ========================\n",
        "\n",
        "# SOLVED EXAMPLE\n",
        "# --------------\n",
        "# Question: Find the sum and product of all elements in a tuple\n",
        "print(\"SOLVED EXAMPLE:\")\n",
        "print(\"Find the sum and product of all elements in a tuple\")\n",
        "numbers = (2, 4, 6, 8, 10)\n",
        "sum_tuple = sum(numbers)\n",
        "product = 1\n",
        "for num in numbers:\n",
        "    product *= num\n",
        "print(f\"Tuple: {numbers}\")\n",
        "print(f\"Sum: {sum_tuple}\")\n",
        "print(f\"Product: {product}\")\n",
        "print(\"-\" * 50)\n",
        "\n",
        "# ASSIGNMENT QUESTIONS\n",
        "# ===================\n",
        "\n",
        "# Question 1: Create a tuple of first 10 natural numbers\n",
        "print(\"Question 1: Create a tuple of first 10 natural numbers\")\n",
        "# Your code here\n",
        "\n",
        "# Question 2: Find the length of tuple (1, 2, 3, 4, 5, 6, 7, 8, 9, 10)\n",
        "print(\"\\nQuestion 2: Find the length of tuple (1, 2, 3, 4, 5, 6, 7, 8, 9, 10)\")\n",
        "# Your code here\n",
        "\n",
        "# Question 3: Access the 3rd element from tuple ('a', 'b', 'c', 'd', 'e')\n",
        "print(\"\\nQuestion 3: Access the 3rd element from tuple ('a', 'b', 'c', 'd', 'e')\")\n",
        "# Your code here\n",
        "\n",
        "# Question 4: Find the maximum value in tuple (23, 45, 12, 67, 34, 89, 56)\n",
        "print(\"\\nQuestion 4: Find the maximum value in tuple (23, 45, 12, 67, 34, 89, 56)\")\n",
        "# Your code here\n",
        "\n",
        "# Question 5: Count how many times 5 appears in (1, 5, 2, 5, 3, 5, 4, 5, 6)\n",
        "print(\"\\nQuestion 5: Count how many times 5 appears in (1, 5, 2, 5, 3, 5, 4, 5, 6)\")\n",
        "# Your code here\n",
        "\n",
        "# Question 6: Create a tuple of mixed data types (integer, float, string, boolean)\n",
        "print(\"\\nQuestion 6: Create a tuple of mixed data types (integer, float, string, boolean)\")\n",
        "# Your code here\n",
        "\n",
        "# Question 7: Find the index of element 'python' in ('java', 'python', 'c++', 'javascript')\n",
        "print(\"\\nQuestion 7: Find the index of element 'python' in ('java', 'python', 'c++', 'javascript')\")\n",
        "# Your code here\n",
        "\n",
        "# Question 8: Check if 25 exists in tuple (10, 20, 30, 40, 50)\n",
        "print(\"\\nQuestion 8: Check if 25 exists in tuple (10, 20, 30, 40, 50)\")\n",
        "# Your code here\n",
        "\n",
        "# Question 9: Create a tuple of first 5 even numbers\n",
        "print(\"\\nQuestion 9: Create a tuple of first 5 even numbers\")\n",
        "# Your code here\n",
        "\n",
        "# Question 10: Find the average of numbers in tuple (15, 23, 31, 42, 56, 78)\n",
        "print(\"\\nQuestion 10: Find the average of numbers in tuple (15, 23, 31, 42, 56, 78)\")\n",
        "# Your code here"
      ]
    },
    {
      "cell_type": "code",
      "source": [
        "# Question 1: Create a tuple of first 10 natural numbers\n",
        "print(\"Question 1: Create a tuple of first 10 natural numbers\")\n",
        "# Your code here\n",
        "\n",
        "natural_numbers = tuple(range(1, 11))\n",
        "natural_numbers"
      ],
      "metadata": {
        "colab": {
          "base_uri": "https://localhost:8080/"
        },
        "id": "G-S7q2_AjI4m",
        "outputId": "54f4b5c3-98e2-4fa3-ee09-0490d9332474"
      },
      "execution_count": null,
      "outputs": [
        {
          "output_type": "stream",
          "name": "stdout",
          "text": [
            "Question 1: Create a tuple of first 10 natural numbers\n"
          ]
        },
        {
          "output_type": "execute_result",
          "data": {
            "text/plain": [
              "(1, 2, 3, 4, 5, 6, 7, 8, 9, 10)"
            ]
          },
          "metadata": {},
          "execution_count": 1
        }
      ]
    },
    {
      "cell_type": "code",
      "source": [
        "# Question 2: Find the length of tuple (1, 2, 3, 4, 5, 6, 7, 8, 9, 10)\n",
        "print(\"\\nQuestion 2: Find the length of tuple (1, 2, 3, 4, 5, 6, 7, 8, 9, 10)\")\n",
        "# Your code here\n",
        "T=(1, 2, 3, 4, 5, 6, 7, 8, 9, 10)\n",
        "len(T)"
      ],
      "metadata": {
        "colab": {
          "base_uri": "https://localhost:8080/"
        },
        "id": "-3eSVDWrjsj_",
        "outputId": "a0660bc9-3518-4794-c4b5-56eba185144c"
      },
      "execution_count": null,
      "outputs": [
        {
          "output_type": "stream",
          "name": "stdout",
          "text": [
            "\n",
            "Question 2: Find the length of tuple (1, 2, 3, 4, 5, 6, 7, 8, 9, 10)\n"
          ]
        },
        {
          "output_type": "execute_result",
          "data": {
            "text/plain": [
              "10"
            ]
          },
          "metadata": {},
          "execution_count": 2
        }
      ]
    },
    {
      "cell_type": "code",
      "source": [
        "# Question 3: Access the 3rd element from tuple ('a', 'b', 'c', 'd', 'e')\n",
        "print(\"\\nQuestion 3: Access the 3rd element from tuple ('a', 'b', 'c', 'd', 'e')\")\n",
        "# Your code here\n",
        "T=('a', 'b', 'c', 'd', 'e')\n",
        "T[2]"
      ],
      "metadata": {
        "colab": {
          "base_uri": "https://localhost:8080/",
          "height": 70
        },
        "id": "DTn7lMvYj2dA",
        "outputId": "537f09ab-ebac-4e0b-cdaa-44fe42142729"
      },
      "execution_count": null,
      "outputs": [
        {
          "output_type": "stream",
          "name": "stdout",
          "text": [
            "\n",
            "Question 3: Access the 3rd element from tuple ('a', 'b', 'c', 'd', 'e')\n"
          ]
        },
        {
          "output_type": "execute_result",
          "data": {
            "text/plain": [
              "'c'"
            ],
            "application/vnd.google.colaboratory.intrinsic+json": {
              "type": "string"
            }
          },
          "metadata": {},
          "execution_count": 4
        }
      ]
    },
    {
      "cell_type": "code",
      "source": [
        "# Question 4: Find the maximum value in tuple (23, 45, 12, 67, 34, 89, 56)\n",
        "print(\"\\nQuestion 4: Find the maximum value in tuple (23, 45, 12, 67, 34, 89, 56)\")\n",
        "# Your code here\n",
        "T=(23, 45, 12, 67, 34, 89, 56)\n",
        "max(T)"
      ],
      "metadata": {
        "id": "RqTA8YbOkfPw",
        "colab": {
          "base_uri": "https://localhost:8080/"
        },
        "outputId": "e5c2183a-896d-46db-b11e-2aac04bbb6b3"
      },
      "execution_count": 5,
      "outputs": [
        {
          "output_type": "stream",
          "name": "stdout",
          "text": [
            "\n",
            "Question 4: Find the maximum value in tuple (23, 45, 12, 67, 34, 89, 56)\n"
          ]
        },
        {
          "output_type": "execute_result",
          "data": {
            "text/plain": [
              "89"
            ]
          },
          "metadata": {},
          "execution_count": 5
        }
      ]
    },
    {
      "cell_type": "code",
      "source": [
        "# Question 5: Count how many times 5 appears in (1, 5, 2, 5, 3, 5, 4, 5, 6)\n",
        "print(\"\\nQuestion 5: Count how many times 5 appears in (1, 5, 2, 5, 3, 5, 4, 5, 6)\")\n",
        "# Your code here\n",
        "T=(1, 5, 2, 5, 3, 5, 4, 5, 6)\n",
        "T.count(5)"
      ],
      "metadata": {
        "colab": {
          "base_uri": "https://localhost:8080/"
        },
        "id": "HXn3jMPMlTm9",
        "outputId": "95ebe14b-c8b1-4532-c492-294afb7fede7"
      },
      "execution_count": 6,
      "outputs": [
        {
          "output_type": "stream",
          "name": "stdout",
          "text": [
            "\n",
            "Question 5: Count how many times 5 appears in (1, 5, 2, 5, 3, 5, 4, 5, 6)\n"
          ]
        },
        {
          "output_type": "execute_result",
          "data": {
            "text/plain": [
              "4"
            ]
          },
          "metadata": {},
          "execution_count": 6
        }
      ]
    },
    {
      "cell_type": "code",
      "source": [
        "# Question 6: Create a tuple of mixed data types (integer, float, string, boolean)\n",
        "print(\"\\nQuestion 6: Create a tuple of mixed data types (integer, float, string, boolean)\")\n",
        "\n",
        "T = (42, 3.14, \"hello\", True)\n",
        "T"
      ],
      "metadata": {
        "colab": {
          "base_uri": "https://localhost:8080/"
        },
        "id": "AkzcVao7lqvE",
        "outputId": "e41b716c-1c8e-42fe-e847-a2f0e732dab8"
      },
      "execution_count": 7,
      "outputs": [
        {
          "output_type": "stream",
          "name": "stdout",
          "text": [
            "\n",
            "Question 6: Create a tuple of mixed data types (integer, float, string, boolean)\n"
          ]
        },
        {
          "output_type": "execute_result",
          "data": {
            "text/plain": [
              "(42, 3.14, 'hello', True)"
            ]
          },
          "metadata": {},
          "execution_count": 7
        }
      ]
    },
    {
      "cell_type": "code",
      "source": [
        "# Question 7: Find the index of element 'python' in ('java', 'python', 'c++', 'javascript')\n",
        "print(\"\\nQuestion 7: Find the index of element 'python' in ('java', 'python', 'c++', 'javascript')\")\n",
        "# Your code here\n",
        "T=('java', 'python', 'c++', 'javascript')\n",
        "T.index('python')"
      ],
      "metadata": {
        "colab": {
          "base_uri": "https://localhost:8080/"
        },
        "id": "u-L4PFLOmayj",
        "outputId": "8031d43d-6a00-4d35-9373-280bcff2fb82"
      },
      "execution_count": 8,
      "outputs": [
        {
          "output_type": "stream",
          "name": "stdout",
          "text": [
            "\n",
            "Question 7: Find the index of element 'python' in ('java', 'python', 'c++', 'javascript')\n"
          ]
        },
        {
          "output_type": "execute_result",
          "data": {
            "text/plain": [
              "1"
            ]
          },
          "metadata": {},
          "execution_count": 8
        }
      ]
    },
    {
      "cell_type": "code",
      "source": [
        "# Question 8: Check if 25 exists in tuple (10, 20, 30, 40, 50)\n",
        "print(\"\\nQuestion 8: Check if 25 exists in tuple (10, 20, 30, 40, 50)\")\n",
        "# Your code here\n",
        "T=(10, 20, 30, 40, 50)\n",
        "25 in T"
      ],
      "metadata": {
        "colab": {
          "base_uri": "https://localhost:8080/"
        },
        "id": "a-mhBbKnmeNI",
        "outputId": "432b9b36-28ab-47d0-a693-83fbe599d7c0"
      },
      "execution_count": 9,
      "outputs": [
        {
          "output_type": "stream",
          "name": "stdout",
          "text": [
            "\n",
            "Question 8: Check if 25 exists in tuple (10, 20, 30, 40, 50)\n"
          ]
        },
        {
          "output_type": "execute_result",
          "data": {
            "text/plain": [
              "False"
            ]
          },
          "metadata": {},
          "execution_count": 9
        }
      ]
    },
    {
      "cell_type": "code",
      "source": [
        "# Question 9: Create a tuple of first 5 even numbers\n",
        "print(\"\\nQuestion 9: Create a tuple of first 5 even numbers\")\n",
        "# Your code here\n",
        "T=tuple(range(2, 11, 2))\n",
        "T"
      ],
      "metadata": {
        "colab": {
          "base_uri": "https://localhost:8080/"
        },
        "id": "MX3QKF6smngy",
        "outputId": "d374ed9d-ec99-43f6-b76d-fdd287461faf"
      },
      "execution_count": 10,
      "outputs": [
        {
          "output_type": "stream",
          "name": "stdout",
          "text": [
            "\n",
            "Question 9: Create a tuple of first 5 even numbers\n"
          ]
        },
        {
          "output_type": "execute_result",
          "data": {
            "text/plain": [
              "(2, 4, 6, 8, 10)"
            ]
          },
          "metadata": {},
          "execution_count": 10
        }
      ]
    },
    {
      "cell_type": "code",
      "source": [
        "# Question 10: Find the average of numbers in tuple (15, 23, 31, 42, 56, 78)\n",
        "print(\"\\nQuestion 10: Find the average of numbers in tuple (15, 23, 31, 42, 56, 78)\")\n",
        "# Your code here\n",
        "T=(15, 23, 31, 42, 56, 78)\n",
        "sum(T)/len(T)"
      ],
      "metadata": {
        "colab": {
          "base_uri": "https://localhost:8080/"
        },
        "id": "AXFQm1LWm2Rb",
        "outputId": "4eb2a9ed-f342-4f48-f336-1f07809cdcc8"
      },
      "execution_count": 12,
      "outputs": [
        {
          "output_type": "stream",
          "name": "stdout",
          "text": [
            "\n",
            "Question 10: Find the average of numbers in tuple (15, 23, 31, 42, 56, 78)\n"
          ]
        },
        {
          "output_type": "execute_result",
          "data": {
            "text/plain": [
              "40.833333333333336"
            ]
          },
          "metadata": {},
          "execution_count": 12
        }
      ]
    }
  ]
}