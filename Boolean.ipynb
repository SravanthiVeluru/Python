{
  "nbformat": 4,
  "nbformat_minor": 0,
  "metadata": {
    "colab": {
      "provenance": []
    },
    "kernelspec": {
      "name": "python3",
      "display_name": "Python 3"
    },
    "language_info": {
      "name": "python"
    }
  },
  "cells": [
    {
      "cell_type": "code",
      "execution_count": null,
      "metadata": {
        "id": "148oHVuWBHtM"
      },
      "outputs": [],
      "source": [
        "# BOOLEAN DATATYPE ASSIGNMENT\n",
        "# ==========================\n",
        "\n",
        "# SOLVED EXAMPLE\n",
        "# --------------\n",
        "# Question: Check if a number is both even and greater than 10\n",
        "print(\"SOLVED EXAMPLE:\")\n",
        "print(\"Check if a number is both even and greater than 10\")\n",
        "number = 16\n",
        "is_even = number % 2 == 0\n",
        "is_greater_than_10 = number > 10\n",
        "result = is_even and is_greater_than_10\n",
        "print(f\"Number: {number}\")\n",
        "print(f\"Is even: {is_even}\")\n",
        "print(f\"Is greater than 10: {is_greater_than_10}\")\n",
        "print(f\"Both conditions: {result}\")\n",
        "print(\"-\" * 50)\n",
        "\n",
        "# ASSIGNMENT QUESTIONS\n",
        "# ===================\n",
        "\n",
        "# Question 1: Check if 25 is greater than 20 and less than 30\n",
        "print(\"Question 1: Check if 25 is greater than 20 and less than 30\")\n",
        "# Your code here\n",
        "\n",
        "# Question 2: Check if string \"python\" is equal to \"Python\" (case sensitive)\n",
        "print(\"\\nQuestion 2: Check if string 'python' is equal to 'Python' (case sensitive)\")\n",
        "# Your code here\n",
        "\n",
        "# Question 3: Check if 15 is divisible by both 3 and 5\n",
        "print(\"\\nQuestion 3: Check if 15 is divisible by both 3 and 5\")\n",
        "# Your code here\n",
        "\n",
        "# Question 4: Check if 7 is not equal to 8\n",
        "print(\"\\nQuestion 4: Check if 7 is not equal to 8\")\n",
        "# Your code here\n",
        "\n",
        "# Question 5: Check if 100 is greater than 50 or less than 25\n",
        "print(\"\\nQuestion 5: Check if 100 is greater than 50 or less than 25\")\n",
        "# Your code here\n",
        "\n",
        "# Question 6: Check if 0 is falsy in Python\n",
        "print(\"\\nQuestion 6: Check if 0 is falsy in Python\")\n",
        "# Your code here\n",
        "\n",
        "# Question 7: Check if empty string \"\" is falsy in Python\n",
        "print(\"\\nQuestion 7: Check if empty string '' is falsy in Python\")\n",
        "# Your code here\n",
        "\n",
        "# Question 8: Check if 42 is truthy in Python\n",
        "print(\"\\nQuestion 8: Check if 42 is truthy in Python\")\n",
        "# Your code here\n",
        "\n",
        "# Question 9: Check if 10 is between 5 and 15 (inclusive)\n",
        "print(\"\\nQuestion 9: Check if 10 is between 5 and 15 (inclusive)\")\n",
        "# Your code here\n",
        "\n",
        "# Question 10: Check if 3.14 is greater than 3 and less than 4\n",
        "print(\"\\nQuestion 10: Check if 3.14 is greater than 3 and less than 4\")\n",
        "# Your code here"
      ]
    },
    {
      "cell_type": "code",
      "source": [
        "# Question 1: Check if 25 is greater than 20 and less than 30\n",
        "print(\"Question 1: Check if 25 is greater than 20 and less than 30\")\n",
        "# Your code here\n",
        "n=25\n",
        "n>20 and n<30"
      ],
      "metadata": {
        "colab": {
          "base_uri": "https://localhost:8080/"
        },
        "id": "twO5bHL9BaJt",
        "outputId": "bd355ecb-63b9-4ddd-f1bd-9162378551b2"
      },
      "execution_count": 1,
      "outputs": [
        {
          "output_type": "stream",
          "name": "stdout",
          "text": [
            "Question 1: Check if 25 is greater than 20 and less than 30\n"
          ]
        },
        {
          "output_type": "execute_result",
          "data": {
            "text/plain": [
              "True"
            ]
          },
          "metadata": {},
          "execution_count": 1
        }
      ]
    },
    {
      "cell_type": "code",
      "source": [
        "# Question 2: Check if string \"python\" is equal to \"Python\" (case sensitive)\n",
        "print(\"\\nQuestion 2: Check if string 'python' is equal to 'Python' (case sensitive)\")\n",
        "# Your code here\n",
        "\"python\"==\"Python\""
      ],
      "metadata": {
        "colab": {
          "base_uri": "https://localhost:8080/"
        },
        "id": "QZ0AAjPbCwuV",
        "outputId": "0827cf5a-608d-4fe4-873f-44fa8841044a"
      },
      "execution_count": 3,
      "outputs": [
        {
          "output_type": "stream",
          "name": "stdout",
          "text": [
            "\n",
            "Question 2: Check if string 'python' is equal to 'Python' (case sensitive)\n"
          ]
        },
        {
          "output_type": "execute_result",
          "data": {
            "text/plain": [
              "False"
            ]
          },
          "metadata": {},
          "execution_count": 3
        }
      ]
    },
    {
      "cell_type": "code",
      "source": [
        "# Question 3: Check if 15 is divisible by both 3 and 5\n",
        "print(\"\\nQuestion 3: Check if 15 is divisible by both 3 and 5\")\n",
        "# Your code here\n",
        "S=15\n",
        "n1=15%3\n",
        "n2=15%5\n",
        "n1&n2==0"
      ],
      "metadata": {
        "colab": {
          "base_uri": "https://localhost:8080/"
        },
        "id": "4RAOOKr3Dk4C",
        "outputId": "c8bd4758-8fa3-4558-dcae-42c0731a2184"
      },
      "execution_count": 8,
      "outputs": [
        {
          "output_type": "stream",
          "name": "stdout",
          "text": [
            "\n",
            "Question 3: Check if 15 is divisible by both 3 and 5\n"
          ]
        },
        {
          "output_type": "execute_result",
          "data": {
            "text/plain": [
              "True"
            ]
          },
          "metadata": {},
          "execution_count": 8
        }
      ]
    },
    {
      "cell_type": "code",
      "source": [
        "# Question 4: Check if 7 is not equal to 8\n",
        "print(\"\\nQuestion 4: Check if 7 is not equal to 8\")\n",
        "# Your code here\n",
        "7!=8"
      ],
      "metadata": {
        "colab": {
          "base_uri": "https://localhost:8080/"
        },
        "id": "FB8s1PxWEbQo",
        "outputId": "967986ac-a4ec-4c4a-c146-a8e527184270"
      },
      "execution_count": 12,
      "outputs": [
        {
          "output_type": "stream",
          "name": "stdout",
          "text": [
            "\n",
            "Question 4: Check if 7 is not equal to 8\n"
          ]
        },
        {
          "output_type": "execute_result",
          "data": {
            "text/plain": [
              "True"
            ]
          },
          "metadata": {},
          "execution_count": 12
        }
      ]
    },
    {
      "cell_type": "code",
      "source": [
        "n=100\n",
        "n>50 & n<25"
      ],
      "metadata": {
        "colab": {
          "base_uri": "https://localhost:8080/"
        },
        "id": "2EYIgTD3EzUM",
        "outputId": "10dae116-9ad1-4940-abac-e01f269b3c52"
      },
      "execution_count": 13,
      "outputs": [
        {
          "output_type": "execute_result",
          "data": {
            "text/plain": [
              "False"
            ]
          },
          "metadata": {},
          "execution_count": 13
        }
      ]
    },
    {
      "cell_type": "code",
      "source": [
        "# Question 6: Check if 0 is falsy in Python\n",
        "print(\"\\nQuestion 6: Check if 0 is falsy in Python\")\n",
        "# Your code here\n",
        "n=0\n",
        "bool(n)"
      ],
      "metadata": {
        "colab": {
          "base_uri": "https://localhost:8080/"
        },
        "id": "jvK-IFWjE667",
        "outputId": "76fe05e9-9b80-4c42-aebd-2371d9f4bffc"
      },
      "execution_count": 15,
      "outputs": [
        {
          "output_type": "stream",
          "name": "stdout",
          "text": [
            "\n",
            "Question 6: Check if 0 is falsy in Python\n"
          ]
        },
        {
          "output_type": "execute_result",
          "data": {
            "text/plain": [
              "False"
            ]
          },
          "metadata": {},
          "execution_count": 15
        }
      ]
    },
    {
      "cell_type": "code",
      "source": [
        "# Question 7: Check if empty string \"\" is falsy in Python\n",
        "print(\"\\nQuestion 7: Check if empty string '' is falsy in Python\")\n",
        "# Your code here\n",
        "n=\"\"\n",
        "bool(n)"
      ],
      "metadata": {
        "colab": {
          "base_uri": "https://localhost:8080/"
        },
        "id": "aZHUjD5YFHco",
        "outputId": "f66367c8-a7fc-4e90-ee96-3498775f9af3"
      },
      "execution_count": 16,
      "outputs": [
        {
          "output_type": "stream",
          "name": "stdout",
          "text": [
            "\n",
            "Question 7: Check if empty string '' is falsy in Python\n"
          ]
        },
        {
          "output_type": "execute_result",
          "data": {
            "text/plain": [
              "False"
            ]
          },
          "metadata": {},
          "execution_count": 16
        }
      ]
    },
    {
      "cell_type": "code",
      "source": [
        "# Question 8: Check if 42 is truthy in Python\n",
        "print(\"\\nQuestion 8: Check if 42 is truthy in Python\")\n",
        "# Your code here\n",
        "n=42\n",
        "bool(n)"
      ],
      "metadata": {
        "colab": {
          "base_uri": "https://localhost:8080/"
        },
        "id": "HZXhggRqFPoG",
        "outputId": "7919056c-abfe-402c-892c-e12908c3d081"
      },
      "execution_count": 17,
      "outputs": [
        {
          "output_type": "stream",
          "name": "stdout",
          "text": [
            "\n",
            "Question 8: Check if 42 is truthy in Python\n"
          ]
        },
        {
          "output_type": "execute_result",
          "data": {
            "text/plain": [
              "True"
            ]
          },
          "metadata": {},
          "execution_count": 17
        }
      ]
    },
    {
      "cell_type": "code",
      "source": [
        "# Question 9: Check if 10 is between 5 and 15 (inclusive)\n",
        "print(\"\\nQuestion 9: Check if 10 is between 5 and 15 (inclusive)\")\n",
        "# Your code here\n",
        "n=10\n",
        "n>=5 & n<=15"
      ],
      "metadata": {
        "colab": {
          "base_uri": "https://localhost:8080/"
        },
        "id": "nhMFwH0MFVUM",
        "outputId": "d703078c-5f9e-4a06-ed4b-d388b3a1e6bd"
      },
      "execution_count": 18,
      "outputs": [
        {
          "output_type": "stream",
          "name": "stdout",
          "text": [
            "\n",
            "Question 9: Check if 10 is between 5 and 15 (inclusive)\n"
          ]
        },
        {
          "output_type": "execute_result",
          "data": {
            "text/plain": [
              "True"
            ]
          },
          "metadata": {},
          "execution_count": 18
        }
      ]
    },
    {
      "cell_type": "code",
      "source": [
        "# Question 10: Check if 3.14 is greater than 3 and less than 4\n",
        "print(\"\\nQuestion 10: Check if 3.14 is greater than 3 and less than 4\")\n",
        "# Your code here\n",
        "n=3.14\n",
        "3<n<4"
      ],
      "metadata": {
        "colab": {
          "base_uri": "https://localhost:8080/"
        },
        "id": "FX2UoTuWFoOg",
        "outputId": "2a0e96a6-f657-4b65-a1da-a5f848e9971f"
      },
      "execution_count": 21,
      "outputs": [
        {
          "output_type": "stream",
          "name": "stdout",
          "text": [
            "\n",
            "Question 10: Check if 3.14 is greater than 3 and less than 4\n"
          ]
        },
        {
          "output_type": "execute_result",
          "data": {
            "text/plain": [
              "True"
            ]
          },
          "metadata": {},
          "execution_count": 21
        }
      ]
    }
  ]
}