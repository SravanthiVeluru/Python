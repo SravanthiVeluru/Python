{
  "nbformat": 4,
  "nbformat_minor": 0,
  "metadata": {
    "colab": {
      "provenance": []
    },
    "kernelspec": {
      "name": "python3",
      "display_name": "Python 3"
    },
    "language_info": {
      "name": "python"
    }
  },
  "cells": [
    {
      "cell_type": "code",
      "execution_count": null,
      "metadata": {
        "id": "oOi1tLRwVkR3"
      },
      "outputs": [],
      "source": [
        "# NONE DATATYPE ASSIGNMENT\n",
        "# =======================\n",
        "\n",
        "# SOLVED EXAMPLE\n",
        "# --------------\n",
        "# Question: Check if a variable is None\n",
        "print(\"SOLVED EXAMPLE:\")\n",
        "print(\"Check if a variable is None\")\n",
        "variable = None\n",
        "is_none = variable is None\n",
        "print(f\"Variable: {variable}\")\n",
        "print(f\"Is None: {is_none}\")\n",
        "print(\"-\" * 50)\n",
        "\n",
        "# ASSIGNMENT QUESTIONS\n",
        "# ===================\n",
        "\n",
        "# Question 1: Create a variable and assign None to it\n",
        "print(\"Question 1: Create a variable and assign None to it\")\n",
        "# Your code here\n",
        "\n",
        "# Question 2: Check if None equals None\n",
        "print(\"\\nQuestion 2: Check if None equals None\")\n",
        "# Your code here\n",
        "\n",
        "# Question 3: Check if None is None\n",
        "print(\"\\nQuestion 3: Check if None is None\")\n",
        "# Your code here\n",
        "\n",
        "# Question 4: Check if 0 is None\n",
        "print(\"\\nQuestion 4: Check if 0 is None\")\n",
        "# Your code here\n",
        "\n",
        "# Question 5: Check if empty string is None\n",
        "print(\"\\nQuestion 5: Check if empty string is None\")\n",
        "# Your code here\n",
        "\n",
        "# Question 6: Check if False is None\n",
        "print(\"\\nQuestion 6: Check if False is None\")\n",
        "# Your code here\n",
        "\n",
        "# Question 7: Check if empty list is None\n",
        "print(\"\\nQuestion 7: Check if empty list is None\")\n",
        "# Your code here\n",
        "\n",
        "# Question 8: Check if empty dictionary is None\n",
        "print(\"\\nQuestion 8: Check if empty dictionary is None\")\n",
        "# Your code here\n",
        "\n",
        "# Question 9: Check if empty tuple is None\n",
        "print(\"\\nQuestion 9: Check if empty tuple is None\")\n",
        "# Your code here\n",
        "\n",
        "# Question 10: Check if empty set is None\n",
        "print(\"\\nQuestion 10: Check if empty set is None\")\n",
        "# Your code here"
      ]
    },
    {
      "cell_type": "code",
      "source": [
        "# Question 1: Create a variable and assign None to it\n",
        "print(\"Question 1: Create a variable and assign None to it\")\n",
        "# Your code here\n",
        "n = None\n",
        "{n}"
      ],
      "metadata": {
        "colab": {
          "base_uri": "https://localhost:8080/"
        },
        "id": "oE18GQmyVnQ7",
        "outputId": "9e66cfa8-f5b2-48c3-8492-fa06eb5aa267"
      },
      "execution_count": 2,
      "outputs": [
        {
          "output_type": "stream",
          "name": "stdout",
          "text": [
            "Question 1: Create a variable and assign None to it\n"
          ]
        },
        {
          "output_type": "execute_result",
          "data": {
            "text/plain": [
              "{None}"
            ]
          },
          "metadata": {},
          "execution_count": 2
        }
      ]
    },
    {
      "cell_type": "code",
      "source": [
        "# Question 2: Check if None equals None\n",
        "print(\"\\nQuestion 2: Check if None equals None\")\n",
        "# Your code here\n",
        "None==None"
      ],
      "metadata": {
        "colab": {
          "base_uri": "https://localhost:8080/"
        },
        "id": "tKIu7SI3V-GZ",
        "outputId": "1012d40d-0adb-4256-d6b1-e985c529e808"
      },
      "execution_count": 3,
      "outputs": [
        {
          "output_type": "stream",
          "name": "stdout",
          "text": [
            "\n",
            "Question 2: Check if None equals None\n"
          ]
        },
        {
          "output_type": "execute_result",
          "data": {
            "text/plain": [
              "True"
            ]
          },
          "metadata": {},
          "execution_count": 3
        }
      ]
    },
    {
      "cell_type": "code",
      "source": [
        "# Question 3: Check if None is None\n",
        "print(\"\\nQuestion 3: Check if None is None\")\n",
        "# Your code here\n",
        "None is None"
      ],
      "metadata": {
        "colab": {
          "base_uri": "https://localhost:8080/"
        },
        "id": "KpQFzHPnWKPK",
        "outputId": "073874df-39b0-4976-fb6c-607e2726640d"
      },
      "execution_count": 4,
      "outputs": [
        {
          "output_type": "stream",
          "name": "stdout",
          "text": [
            "\n",
            "Question 3: Check if None is None\n"
          ]
        },
        {
          "output_type": "execute_result",
          "data": {
            "text/plain": [
              "True"
            ]
          },
          "metadata": {},
          "execution_count": 4
        }
      ]
    },
    {
      "cell_type": "code",
      "source": [
        "# Question 4: Check if 0 is None\n",
        "print(\"\\nQuestion 4: Check if 0 is None\")\n",
        "# Your code here\n",
        "0 is None"
      ],
      "metadata": {
        "colab": {
          "base_uri": "https://localhost:8080/"
        },
        "id": "yz4Lkan_WS8Y",
        "outputId": "6f8d9b60-d94d-463f-ac78-d4bc190f200e"
      },
      "execution_count": 5,
      "outputs": [
        {
          "output_type": "stream",
          "name": "stdout",
          "text": [
            "\n",
            "Question 4: Check if 0 is None\n"
          ]
        },
        {
          "output_type": "stream",
          "name": "stderr",
          "text": [
            "<>:4: SyntaxWarning: \"is\" with a literal. Did you mean \"==\"?\n",
            "<>:4: SyntaxWarning: \"is\" with a literal. Did you mean \"==\"?\n",
            "/tmp/ipython-input-3791702952.py:4: SyntaxWarning: \"is\" with a literal. Did you mean \"==\"?\n",
            "  0 is None\n"
          ]
        },
        {
          "output_type": "execute_result",
          "data": {
            "text/plain": [
              "False"
            ]
          },
          "metadata": {},
          "execution_count": 5
        }
      ]
    },
    {
      "cell_type": "code",
      "source": [
        "# Question 5: Check if empty string is None\n",
        "print(\"\\nQuestion 5: Check if empty string is None\")\n",
        "# Your code here\n",
        "\"\" is None"
      ],
      "metadata": {
        "colab": {
          "base_uri": "https://localhost:8080/"
        },
        "id": "h6ZQ7QeeWfLz",
        "outputId": "e30d0626-6506-4083-a812-8edd190b0a68"
      },
      "execution_count": 6,
      "outputs": [
        {
          "output_type": "stream",
          "name": "stdout",
          "text": [
            "\n",
            "Question 5: Check if empty string is None\n"
          ]
        },
        {
          "output_type": "stream",
          "name": "stderr",
          "text": [
            "<>:4: SyntaxWarning: \"is\" with a literal. Did you mean \"==\"?\n",
            "<>:4: SyntaxWarning: \"is\" with a literal. Did you mean \"==\"?\n",
            "/tmp/ipython-input-386705709.py:4: SyntaxWarning: \"is\" with a literal. Did you mean \"==\"?\n",
            "  \"\" is None\n"
          ]
        },
        {
          "output_type": "execute_result",
          "data": {
            "text/plain": [
              "False"
            ]
          },
          "metadata": {},
          "execution_count": 6
        }
      ]
    },
    {
      "cell_type": "code",
      "source": [
        "# Question 6: Check if False is None\n",
        "print(\"\\nQuestion 6: Check if False is None\")\n",
        "# Your code here\n",
        "False is None"
      ],
      "metadata": {
        "colab": {
          "base_uri": "https://localhost:8080/"
        },
        "id": "XI0w0BOJWwhc",
        "outputId": "220cc187-bf99-46b7-e0be-8ffec40ea8d7"
      },
      "execution_count": 13,
      "outputs": [
        {
          "output_type": "stream",
          "name": "stdout",
          "text": [
            "\n",
            "Question 6: Check if False is None\n"
          ]
        },
        {
          "output_type": "execute_result",
          "data": {
            "text/plain": [
              "False"
            ]
          },
          "metadata": {},
          "execution_count": 13
        }
      ]
    },
    {
      "cell_type": "code",
      "source": [
        "# Question 7: Check if empty list is None\n",
        "print(\"\\nQuestion 7: Check if empty list is None\")\n",
        "# Your code here\n",
        "[] is None"
      ],
      "metadata": {
        "colab": {
          "base_uri": "https://localhost:8080/"
        },
        "id": "MC-VSKJWW2GP",
        "outputId": "688e6f57-bd6f-4398-cba2-972499e1487c"
      },
      "execution_count": 11,
      "outputs": [
        {
          "output_type": "stream",
          "name": "stdout",
          "text": [
            "\n",
            "Question 7: Check if empty list is None\n"
          ]
        },
        {
          "output_type": "execute_result",
          "data": {
            "text/plain": [
              "False"
            ]
          },
          "metadata": {},
          "execution_count": 11
        }
      ]
    },
    {
      "cell_type": "code",
      "source": [
        "# Question 8: Check if empty dictionary is None\n",
        "print(\"\\nQuestion 8: Check if empty dictionary is None\")\n",
        "# Your code here\n",
        "{} is None"
      ],
      "metadata": {
        "colab": {
          "base_uri": "https://localhost:8080/"
        },
        "id": "a1cnpV9DW7vk",
        "outputId": "ecea1c37-c37b-40b2-c04b-b0aa37e34e1d"
      },
      "execution_count": 10,
      "outputs": [
        {
          "output_type": "stream",
          "name": "stdout",
          "text": [
            "\n",
            "Question 8: Check if empty dictionary is None\n"
          ]
        },
        {
          "output_type": "execute_result",
          "data": {
            "text/plain": [
              "False"
            ]
          },
          "metadata": {},
          "execution_count": 10
        }
      ]
    },
    {
      "cell_type": "code",
      "source": [
        "# Question 9: Check if empty tuple is None\n",
        "print(\"\\nQuestion 9: Check if empty tuple is None\")\n",
        "# Your code here\n",
        "()== None"
      ],
      "metadata": {
        "colab": {
          "base_uri": "https://localhost:8080/"
        },
        "id": "2YGAapzaXBLg",
        "outputId": "a36582ad-a8e8-4836-bc1f-bbe2511478ef"
      },
      "execution_count": 15,
      "outputs": [
        {
          "output_type": "stream",
          "name": "stdout",
          "text": [
            "\n",
            "Question 9: Check if empty tuple is None\n"
          ]
        },
        {
          "output_type": "execute_result",
          "data": {
            "text/plain": [
              "False"
            ]
          },
          "metadata": {},
          "execution_count": 15
        }
      ]
    }
  ]
}