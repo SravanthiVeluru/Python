{
  "nbformat": 4,
  "nbformat_minor": 0,
  "metadata": {
    "colab": {
      "provenance": []
    },
    "kernelspec": {
      "name": "python3",
      "display_name": "Python 3"
    },
    "language_info": {
      "name": "python"
    }
  },
  "cells": [
    {
      "cell_type": "code",
      "execution_count": 1,
      "metadata": {
        "colab": {
          "base_uri": "https://localhost:8080/",
          "height": 315
        },
        "collapsed": true,
        "id": "Ovvrnkcie-A6",
        "outputId": "6433c54c-fb57-48b8-f3f0-f8eeaf02bde0"
      },
      "outputs": [
        {
          "output_type": "stream",
          "name": "stdout",
          "text": [
            "SOLVED EXAMPLE:\n",
            "Count vowels in the string 'Hello World'\n",
            "String: Hello World\n",
            "Number of vowels: 3\n",
            "--------------------------------------------------\n",
            "Question 1: Reverse the string 'Python Programming'\n"
          ]
        },
        {
          "output_type": "error",
          "ename": "NameError",
          "evalue": "name 'original_string' is not defined",
          "traceback": [
            "\u001b[0;31m---------------------------------------------------------------------------\u001b[0m",
            "\u001b[0;31mNameError\u001b[0m                                 Traceback (most recent call last)",
            "\u001b[0;32m/tmp/ipython-input-2551407190.py\u001b[0m in \u001b[0;36m<cell line: 0>\u001b[0;34m()\u001b[0m\n\u001b[1;32m     20\u001b[0m \u001b[0mprint\u001b[0m\u001b[0;34m(\u001b[0m\u001b[0;34m\"Question 1: Reverse the string 'Python Programming'\"\u001b[0m\u001b[0;34m)\u001b[0m\u001b[0;34m\u001b[0m\u001b[0;34m\u001b[0m\u001b[0m\n\u001b[1;32m     21\u001b[0m \u001b[0mString\u001b[0m \u001b[0;34m=\u001b[0m \u001b[0;34m\"Python Programming\"\u001b[0m\u001b[0;34m\u001b[0m\u001b[0;34m\u001b[0m\u001b[0m\n\u001b[0;32m---> 22\u001b[0;31m \u001b[0mrstring\u001b[0m \u001b[0;34m=\u001b[0m \u001b[0moriginal_string\u001b[0m\u001b[0;34m[\u001b[0m\u001b[0;34m:\u001b[0m\u001b[0;34m:\u001b[0m\u001b[0;34m-\u001b[0m\u001b[0;36m1\u001b[0m\u001b[0;34m]\u001b[0m\u001b[0;34m\u001b[0m\u001b[0;34m\u001b[0m\u001b[0m\n\u001b[0m\u001b[1;32m     23\u001b[0m \u001b[0mprint\u001b[0m\u001b[0;34m(\u001b[0m\u001b[0mrstring\u001b[0m\u001b[0;34m)\u001b[0m\u001b[0;34m\u001b[0m\u001b[0;34m\u001b[0m\u001b[0m\n\u001b[1;32m     24\u001b[0m \u001b[0;34m\u001b[0m\u001b[0m\n",
            "\u001b[0;31mNameError\u001b[0m: name 'original_string' is not defined"
          ]
        }
      ],
      "source": [
        "# STRING DATATYPE ASSIGNMENT - 50 QUESTIONS\n",
        "# ========================================\n",
        "\n",
        "# SOLVED EXAMPLE\n",
        "# --------------\n",
        "# Question: Count vowels in the string \"Hello World\"\n",
        "print(\"SOLVED EXAMPLE:\")\n",
        "print(\"Count vowels in the string 'Hello World'\")\n",
        "text = \"Hello World\"\n",
        "vowels = \"aeiouAEIOU\"\n",
        "count = sum(1 for char in text if char in vowels)\n",
        "print(f\"String: {text}\")\n",
        "print(f\"Number of vowels: {count}\")\n",
        "print(\"-\" * 50)\n",
        "\n",
        "# ASSIGNMENT QUESTIONS (50 QUESTIONS)\n",
        "# ==================================\n",
        "\n",
        "# Question 1: Reverse the string \"Python Programming\"\n",
        "print(\"Question 1: Reverse the string 'Python Programming'\")\n",
        "String = \"Python Programming\"\n",
        "rstring = original_string[::-1]\n",
        "print(rstring)\n",
        "\n",
        "# Question 2: Check if \"racecar\" is a palindrome\n",
        "print(\"\\nQuestion 2: Check if 'racecar' is a palindrome\")\n",
        "# Your code here\n",
        "\n",
        "# Question 3: Count the number of words in \"Python is a great programming language\"\n",
        "print(\"\\nQuestion 3: Count the number of words in 'Python is a great programming language'\")\n",
        "# Your code here\n",
        "\n",
        "# Question 4: Convert \"hello world\" to title case\n",
        "print(\"\\nQuestion 4: Convert 'hello world' to title case\")\n",
        "# Your code here\n",
        "\n",
        "# Question 5: Find the length of string \"Data Science\"\n",
        "print(\"\\nQuestion 5: Find the length of string 'Data Science'\")\n",
        "# Your code here\n",
        "\n",
        "# Question 6: Replace all spaces with underscores in \"Machine Learning\"\n",
        "print(\"\\nQuestion 6: Replace all spaces with underscores in 'Machine Learning'\")\n",
        "# Your code here\n",
        "\n",
        "# Question 7: Check if \"python\" is in \"Python Programming Language\"\n",
        "print(\"\\nQuestion 7: Check if 'python' is in 'Python Programming Language'\")\n",
        "# Your code here\n",
        "\n",
        "# Question 8: Extract the first 5 characters from \"Artificial Intelligence\"\n",
        "print(\"\\nQuestion 8: Extract the first 5 characters from 'Artificial Intelligence'\")\n",
        "# Your code here\n",
        "\n",
        "# Question 9: Convert \"UPPERCASE\" to lowercase\n",
        "print(\"\\nQuestion 9: Convert 'UPPERCASE' to lowercase\")\n",
        "# Your code here\n",
        "\n",
        "# Question 10: Remove all vowels from \"Computer Science\"\n",
        "print(\"\\nQuestion 10: Remove all vowels from 'Computer Science'\")\n",
        "# Your code here\n",
        "\n",
        "# Question 11: Find the most frequent character in \"mississippi\"\n",
        "print(\"\\nQuestion 11: Find the most frequent character in 'mississippi'\")\n",
        "# Your code here\n",
        "\n",
        "# Question 12: Check if two strings are anagrams: \"listen\" and \"silent\"\n",
        "print(\"\\nQuestion 12: Check if two strings are anagrams: 'listen' and 'silent'\")\n",
        "# Your code here\n",
        "\n",
        "# Question 13: Capitalize first letter of each word in \"python programming language\"\n",
        "print(\"\\nQuestion 13: Capitalize first letter of each word in 'python programming language'\")\n",
        "# Your code here\n",
        "\n",
        "# Question 14: Count consonants in \"Hello World\"\n",
        "print(\"\\nQuestion 14: Count consonants in 'Hello World'\")\n",
        "# Your code here\n",
        "\n",
        "# Question 15: Find the longest word in \"Python is a programming language\"\n",
        "print(\"\\nQuestion 15: Find the longest word in 'Python is a programming language'\")\n",
        "# Your code here\n",
        "\n",
        "# Question 16: Remove all punctuation from \"Hello, World! How are you?\"\n",
        "print(\"\\nQuestion 16: Remove all punctuation from 'Hello, World! How are you?'\")\n",
        "# Your code here\n",
        "\n",
        "# Question 17: Check if string starts with \"Python\"\n",
        "print(\"\\nQuestion 17: Check if string starts with 'Python'\")\n",
        "# Your code here\n",
        "\n",
        "# Question 18: Find the index of first occurrence of 'o' in \"Hello World\"\n",
        "print(\"\\nQuestion 18: Find the index of first occurrence of 'o' in 'Hello World'\")\n",
        "# Your code here\n",
        "\n",
        "# Question 19: Split string \"apple,banana,orange\" by comma\n",
        "print(\"\\nQuestion 19: Split string 'apple,banana,orange' by comma\")\n",
        "# Your code here\n",
        "\n",
        "# Question 20: Join list ['Python', 'is', 'awesome'] with spaces\n",
        "print(\"\\nQuestion 20: Join list ['Python', 'is', 'awesome'] with spaces\")\n",
        "# Your code here\n",
        "\n",
        "# Question 21: Check if string contains only digits: \"12345\"\n",
        "print(\"\\nQuestion 21: Check if string contains only digits: '12345'\")\n",
        "# Your code here\n",
        "\n",
        "# Question 22: Check if string contains only letters: \"HelloWorld\"\n",
        "print(\"\\nQuestion 22: Check if string contains only letters: 'HelloWorld'\")\n",
        "# Your code here\n",
        "\n",
        "# Question 23: Convert \"hello world\" to \"hElLo WoRlD\" (alternating case)\n",
        "print(\"\\nQuestion 23: Convert 'hello world' to 'hElLo WoRlD' (alternating case)\")\n",
        "# Your code here\n",
        "\n",
        "# Question 24: Find all positions of 'a' in \"banana\"\n",
        "print(\"\\nQuestion 24: Find all positions of 'a' in 'banana'\")\n",
        "# Your code here\n",
        "\n",
        "# Question 25: Remove leading and trailing whitespace from \"  Hello World  \"\n",
        "print(\"\\nQuestion 25: Remove leading and trailing whitespace from '  Hello World  '\")\n",
        "# Your code here\n",
        "\n",
        "# Question 26: Check if string ends with \"ing\": \"programming\"\n",
        "print(\"\\nQuestion 26: Check if string ends with 'ing': 'programming'\")\n",
        "# Your code here\n",
        "\n",
        "# Question 27: Replace first occurrence of 'o' with '0' in \"Hello World\"\n",
        "print(\"\\nQuestion 27: Replace first occurrence of 'o' with '0' in 'Hello World'\")\n",
        "# Your code here\n",
        "\n",
        "# Question 28: Find the shortest word in \"Python is a programming language\"\n",
        "print(\"\\nQuestion 28: Find the shortest word in 'Python is a programming language'\")\n",
        "# Your code here\n",
        "\n",
        "# Question 29: Count words that start with 'p' in \"Python programming is powerful\"\n",
        "print(\"\\nQuestion 29: Count words that start with 'p' in 'Python programming is powerful'\")\n",
        "# Your code here\n",
        "\n",
        "# Question 30: Reverse words in \"Hello World Python\"\n",
        "print(\"\\nQuestion 30: Reverse words in 'Hello World Python'\")\n",
        "# Your code here\n",
        "\n",
        "# Question 31: Check if string is a valid email format: \"user@example.com\"\n",
        "print(\"\\nQuestion 31: Check if string is a valid email format: 'user@example.com'\")\n",
        "# Your code here\n",
        "\n",
        "# Question 32: Extract domain from \"https://www.example.com/path\"\n",
        "print(\"\\nQuestion 32: Extract domain from 'https://www.example.com/path'\")\n",
        "# Your code here\n",
        "\n",
        "# Question 33: Count lines in multi-line string\n",
        "print(\"\\nQuestion 33: Count lines in multi-line string\")\n",
        "# Your code here\n",
        "\n",
        "# Question 34: Find common characters between \"hello\" and \"world\"\n",
        "print(\"\\nQuestion 34: Find common characters between 'hello' and 'world'\")\n",
        "# Your code here\n",
        "\n",
        "# Question 35: Check if string is a valid phone number: \"+1-555-123-4567\"\n",
        "print(\"\\nQuestion 35: Check if string is a valid phone number: '+1-555-123-4567'\")\n",
        "# Your code here\n",
        "\n",
        "# Question 36: Extract numbers from \"abc123def456ghi789\"\n",
        "print(\"\\nQuestion 36: Extract numbers from 'abc123def456ghi789'\")\n",
        "# Your code here\n",
        "\n",
        "# Question 37: Convert \"snake_case\" to \"camelCase\"\n",
        "print(\"\\nQuestion 37: Convert 'snake_case' to 'camelCase'\")\n",
        "# Your code here\n",
        "\n",
        "# Question 38: Check if string is a valid palindrome ignoring case: \"A man a plan a canal Panama\"\n",
        "print(\"\\nQuestion 38: Check if string is a valid palindrome ignoring case: 'A man a plan a canal Panama'\")\n",
        "# Your code here\n",
        "\n",
        "# Question 39: Find the most common word in \"the quick brown fox jumps over the lazy dog\"\n",
        "print(\"\\nQuestion 39: Find the most common word in 'the quick brown fox jumps over the lazy dog'\")\n",
        "# Your code here\n",
        "\n",
        "# Question 40: Generate acronym from \"National Aeronautics and Space Administration\"\n",
        "print(\"\\nQuestion 40: Generate acronym from 'National Aeronautics and Space Administration'\")\n",
        "# Your code here\n",
        "\n",
        "# Question 41: Check if string contains balanced parentheses: \"((()))\"\n",
        "print(\"\\nQuestion 41: Check if string contains balanced parentheses: '((()))'\")\n",
        "# Your code here\n",
        "\n",
        "# Question 42: Convert \"hello world\" to Morse code\n",
        "print(\"\\nQuestion 42: Convert 'hello world' to Morse code\")\n",
        "# Your code here\n",
        "\n",
        "# Question 43: Find the longest common substring between \"programming\" and \"grammar\"\n",
        "print(\"\\nQuestion 43: Find the longest common substring between 'programming' and 'grammar'\")\n",
        "# Your code here\n",
        "\n",
        "# Question 44: Check if string is a valid URL: \"https://www.google.com\"\n",
        "print(\"\\nQuestion 44: Check if string is a valid URL: 'https://www.google.com'\")\n",
        "# Your code here\n",
        "\n",
        "# Question 45: Extract all words with length > 5 from \"Python programming is amazing and powerful\"\n",
        "print(\"\\nQuestion 45: Extract all words with length > 5 from 'Python programming is amazing and powerful'\")\n",
        "# Your code here\n",
        "\n",
        "# Question 46: Convert \"hello world\" to Pig Latin\n",
        "print(\"\\nQuestion 46: Convert 'hello world' to Pig Latin\")\n",
        "# Your code here\n",
        "\n",
        "# Question 47: Check if string is a valid IPv4 address: \"192.168.1.1\"\n",
        "print(\"\\nQuestion 47: Check if string is a valid IPv4 address: '192.168.1.1'\")\n",
        "# Your code here\n",
        "\n",
        "# Question 48: Find all substrings of \"abc\"\n",
        "print(\"\\nQuestion 48: Find all substrings of 'abc'\")\n",
        "# Your code here\n",
        "\n",
        "# Question 49: Convert \"hello world\" to ROT13 encoding\n",
        "print(\"\\nQuestion 49: Convert 'hello world' to ROT13 encoding\")\n",
        "# Your code here\n",
        "\n",
        "# Question 50: Check if string is a valid credit card number: \"4532015112830366\"\n",
        "print(\"\\nQuestion 50: Check if string is a valid credit card number: '4532015112830366'\")\n",
        "# Your code here"
      ]
    },
    {
      "cell_type": "code",
      "source": [
        "# Question 1: Reverse the string \"Python Programming\"\n",
        "print(\"Question 1: Reverse the string 'Python Programming'\")\n",
        "Str = \"Python Programming\"\n",
        "rstring = Str[::-1]\n",
        "rstring"
      ],
      "metadata": {
        "colab": {
          "base_uri": "https://localhost:8080/",
          "height": 52
        },
        "id": "1j_w6eykfTj2",
        "outputId": "81c0e832-00fc-4af1-bd8c-1a572d73d52b"
      },
      "execution_count": 5,
      "outputs": [
        {
          "output_type": "stream",
          "name": "stdout",
          "text": [
            "Question 1: Reverse the string 'Python Programming'\n"
          ]
        },
        {
          "output_type": "execute_result",
          "data": {
            "text/plain": [
              "'gnimmargorP nohtyP'"
            ],
            "application/vnd.google.colaboratory.intrinsic+json": {
              "type": "string"
            }
          },
          "metadata": {},
          "execution_count": 5
        }
      ]
    },
    {
      "cell_type": "code",
      "source": [
        "# Question 2: Check if \"racecar\" is a palindrome\n",
        "print(\"\\nQuestion 2: Check if 'racecar' is a palindrome\")\n",
        "# Your code here\n",
        "str=\"racecar\"\n",
        "rstr=str[::-1]\n",
        "if str==rstr:\n",
        "  print(\"palindrome\")\n",
        "else:\n",
        "  print(\"Not Palindrome\")"
      ],
      "metadata": {
        "colab": {
          "base_uri": "https://localhost:8080/"
        },
        "id": "HMTDdtJ5fm-0",
        "outputId": "9ce80a3c-c0b0-455d-8b67-ba087fe20994"
      },
      "execution_count": 10,
      "outputs": [
        {
          "output_type": "stream",
          "name": "stdout",
          "text": [
            "\n",
            "Question 2: Check if 'racecar' is a palindrome\n",
            "palindrome\n"
          ]
        }
      ]
    },
    {
      "cell_type": "code",
      "source": [
        "# Question 3: Count the number of words in \"Python is a great programming language\"\n",
        "print(\"\\nQuestion 3: Count the number of words in 'Python is a great programming language'\")\n",
        "# Your code here\n",
        "x=\"Python is a great programming language\"\n",
        "y=x.split()\n",
        "len(y)"
      ],
      "metadata": {
        "colab": {
          "base_uri": "https://localhost:8080/"
        },
        "id": "UABupSkqgh-7",
        "outputId": "61e89bc7-daa6-49fe-af22-febf9f84371c"
      },
      "execution_count": 17,
      "outputs": [
        {
          "output_type": "stream",
          "name": "stdout",
          "text": [
            "\n",
            "Question 3: Count the number of words in 'Python is a great programming language'\n"
          ]
        },
        {
          "output_type": "execute_result",
          "data": {
            "text/plain": [
              "6"
            ]
          },
          "metadata": {},
          "execution_count": 17
        }
      ]
    },
    {
      "cell_type": "code",
      "source": [
        "# Question 4: Convert \"hello world\" to title case\n",
        "print(\"\\nQuestion 4: Convert 'hello world' to title case\")\n",
        "# Your code here\n",
        "x=\"hello world\"\n",
        "x.title()"
      ],
      "metadata": {
        "colab": {
          "base_uri": "https://localhost:8080/",
          "height": 70
        },
        "id": "sTr5rGVqhjPD",
        "outputId": "326be439-43ef-4d48-c043-2d0916b73dd6"
      },
      "execution_count": 18,
      "outputs": [
        {
          "output_type": "stream",
          "name": "stdout",
          "text": [
            "\n",
            "Question 4: Convert 'hello world' to title case\n"
          ]
        },
        {
          "output_type": "execute_result",
          "data": {
            "text/plain": [
              "'Hello World'"
            ],
            "application/vnd.google.colaboratory.intrinsic+json": {
              "type": "string"
            }
          },
          "metadata": {},
          "execution_count": 18
        }
      ]
    },
    {
      "cell_type": "code",
      "source": [
        "# Question 5: Find the length of string \"Data Science\"\n",
        "print(\"\\nQuestion 5: Find the length of string 'Data Science'\")\n",
        "# Your code here\n",
        "s=\"Data Science\"\n",
        "len(s)"
      ],
      "metadata": {
        "colab": {
          "base_uri": "https://localhost:8080/"
        },
        "id": "kPp4HDMlhqwz",
        "outputId": "93ede7ba-868d-4a75-e811-8f718d87934a"
      },
      "execution_count": 19,
      "outputs": [
        {
          "output_type": "stream",
          "name": "stdout",
          "text": [
            "\n",
            "Question 5: Find the length of string 'Data Science'\n"
          ]
        },
        {
          "output_type": "execute_result",
          "data": {
            "text/plain": [
              "12"
            ]
          },
          "metadata": {},
          "execution_count": 19
        }
      ]
    },
    {
      "cell_type": "code",
      "source": [
        "# Question 6: Replace all spaces with underscores in \"Machine Learning\"\n",
        "print(\"\\nQuestion 6: Replace all spaces with underscores in 'Machine Learning'\")\n",
        "# Your code here\n",
        "s=\"Machine Learning\"\n",
        "s.replace(\" \", \"_\")"
      ],
      "metadata": {
        "colab": {
          "base_uri": "https://localhost:8080/",
          "height": 70
        },
        "id": "aHAULjBTh0Js",
        "outputId": "74dcfabf-6f43-47ca-d1f7-f4bc8feea2e2"
      },
      "execution_count": 23,
      "outputs": [
        {
          "output_type": "stream",
          "name": "stdout",
          "text": [
            "\n",
            "Question 6: Replace all spaces with underscores in 'Machine Learning'\n"
          ]
        },
        {
          "output_type": "execute_result",
          "data": {
            "text/plain": [
              "'Machine_Learning'"
            ],
            "application/vnd.google.colaboratory.intrinsic+json": {
              "type": "string"
            }
          },
          "metadata": {},
          "execution_count": 23
        }
      ]
    },
    {
      "cell_type": "code",
      "source": [
        "# Question 7: Check if \"python\" is in \"Python Programming Language\"\n",
        "print(\"\\nQuestion 7: Check if 'python' is in 'Python Programming Language'\")\n",
        "# Your code here\n",
        "s=\"Python Programming Language\"\n",
        "\"Python\" in s"
      ],
      "metadata": {
        "colab": {
          "base_uri": "https://localhost:8080/"
        },
        "id": "ih451LNAio52",
        "outputId": "252f1b6a-c007-48a8-d7b3-343ad1ac48d1"
      },
      "execution_count": 26,
      "outputs": [
        {
          "output_type": "stream",
          "name": "stdout",
          "text": [
            "\n",
            "Question 7: Check if 'python' is in 'Python Programming Language'\n"
          ]
        },
        {
          "output_type": "execute_result",
          "data": {
            "text/plain": [
              "True"
            ]
          },
          "metadata": {},
          "execution_count": 26
        }
      ]
    },
    {
      "cell_type": "code",
      "source": [
        "# Question 8: Extract the first 5 characters from \"Artificial Intelligence\"\n",
        "print(\"\\nQuestion 8: Extract the first 5 characters from 'Artificial Intelligence'\")\n",
        "# Your code here\n",
        "S=\"Artificial Intelligence\"\n",
        "S[0:5]"
      ],
      "metadata": {
        "colab": {
          "base_uri": "https://localhost:8080/",
          "height": 70
        },
        "id": "I0ophdU-ljmo",
        "outputId": "0dfda6c0-a273-4852-9555-ed260ebb3a16"
      },
      "execution_count": 29,
      "outputs": [
        {
          "output_type": "stream",
          "name": "stdout",
          "text": [
            "\n",
            "Question 8: Extract the first 5 characters from 'Artificial Intelligence'\n"
          ]
        },
        {
          "output_type": "execute_result",
          "data": {
            "text/plain": [
              "'Artif'"
            ],
            "application/vnd.google.colaboratory.intrinsic+json": {
              "type": "string"
            }
          },
          "metadata": {},
          "execution_count": 29
        }
      ]
    },
    {
      "cell_type": "code",
      "source": [
        "# Question 9: Convert \"UPPERCASE\" to lowercase\n",
        "print(\"\\nQuestion 9: Convert 'UPPERCASE' to lowercase\")\n",
        "# Your code here\n",
        "S=\"UPPERCASE\"\n",
        "S.lower()"
      ],
      "metadata": {
        "colab": {
          "base_uri": "https://localhost:8080/",
          "height": 70
        },
        "id": "3GbX8hFbl6hR",
        "outputId": "7ab4d2d2-0a7e-4b75-dd5a-4a95d307fd24"
      },
      "execution_count": 30,
      "outputs": [
        {
          "output_type": "stream",
          "name": "stdout",
          "text": [
            "\n",
            "Question 9: Convert 'UPPERCASE' to lowercase\n"
          ]
        },
        {
          "output_type": "execute_result",
          "data": {
            "text/plain": [
              "'uppercase'"
            ],
            "application/vnd.google.colaboratory.intrinsic+json": {
              "type": "string"
            }
          },
          "metadata": {},
          "execution_count": 30
        }
      ]
    },
    {
      "cell_type": "code",
      "source": [
        "# Question 10: Remove all vowels from \"Computer Science\"\n",
        "print(\"\\nQuestion 10: Remove all vowels from 'Computer Science'\")\n",
        "# Your code here\n",
        "S=\"Computer Science\"\n",
        "s.translate({ord(i): None for i in 'aeiouAEIOU'})"
      ],
      "metadata": {
        "colab": {
          "base_uri": "https://localhost:8080/",
          "height": 70
        },
        "id": "kl-mfrsImKGE",
        "outputId": "d36bfb52-f44c-498e-e8d0-97a0c4442685"
      },
      "execution_count": 32,
      "outputs": [
        {
          "output_type": "stream",
          "name": "stdout",
          "text": [
            "\n",
            "Question 10: Remove all vowels from 'Computer Science'\n"
          ]
        },
        {
          "output_type": "execute_result",
          "data": {
            "text/plain": [
              "'Pythn Prgrmmng Lngg'"
            ],
            "application/vnd.google.colaboratory.intrinsic+json": {
              "type": "string"
            }
          },
          "metadata": {},
          "execution_count": 32
        }
      ]
    },
    {
      "cell_type": "code",
      "source": [
        "# Question 11: Find the most frequent character in \"mississippi\"\n",
        "print(\"\\nQuestion 11: Find the most frequent character in 'mississippi'\")\n",
        "# Your code here\n",
        "S=\"mississippi\"\n",
        "max(S, key=S.count)"
      ],
      "metadata": {
        "colab": {
          "base_uri": "https://localhost:8080/",
          "height": 70
        },
        "id": "x1XeD-bvnsIp",
        "outputId": "f2bbdc18-e7e1-40bc-d70c-fcd13bd30442"
      },
      "execution_count": 33,
      "outputs": [
        {
          "output_type": "stream",
          "name": "stdout",
          "text": [
            "\n",
            "Question 11: Find the most frequent character in 'mississippi'\n"
          ]
        },
        {
          "output_type": "execute_result",
          "data": {
            "text/plain": [
              "'i'"
            ],
            "application/vnd.google.colaboratory.intrinsic+json": {
              "type": "string"
            }
          },
          "metadata": {},
          "execution_count": 33
        }
      ]
    },
    {
      "cell_type": "code",
      "source": [
        "# Question 12: Check if two strings are anagrams: \"listen\" and \"silent\"\n",
        "print(\"\\nQuestion 12: Check if two strings are anagrams: 'listen' and 'silent'\")\n",
        "# Your code here\n",
        "a=\"listen\"\n",
        "b=\"silent\"\n",
        "c=sorted(a)\n",
        "d=sorted(b)\n",
        "c==d"
      ],
      "metadata": {
        "colab": {
          "base_uri": "https://localhost:8080/"
        },
        "id": "ljzmU3QLn4gk",
        "outputId": "10ddf6b0-27e9-414b-dedb-f93d14128ee7"
      },
      "execution_count": 38,
      "outputs": [
        {
          "output_type": "stream",
          "name": "stdout",
          "text": [
            "\n",
            "Question 12: Check if two strings are anagrams: 'listen' and 'silent'\n"
          ]
        },
        {
          "output_type": "execute_result",
          "data": {
            "text/plain": [
              "True"
            ]
          },
          "metadata": {},
          "execution_count": 38
        }
      ]
    },
    {
      "cell_type": "code",
      "source": [
        "# Question 13: Capitalize first letter of each word in \"python programming language\"\n",
        "print(\"\\nQuestion 13: Capitalize first letter of each word in 'python programming language'\")\n",
        "# Your code here\n",
        "S=\"python programming language\"\n",
        "s.title()"
      ],
      "metadata": {
        "colab": {
          "base_uri": "https://localhost:8080/",
          "height": 70
        },
        "id": "tGpQz5isoz0y",
        "outputId": "af25cedd-7bc4-4f0a-e948-c64715992254"
      },
      "execution_count": 39,
      "outputs": [
        {
          "output_type": "stream",
          "name": "stdout",
          "text": [
            "\n",
            "Question 13: Capitalize first letter of each word in 'python programming language'\n"
          ]
        },
        {
          "output_type": "execute_result",
          "data": {
            "text/plain": [
              "'Python Programming Language'"
            ],
            "application/vnd.google.colaboratory.intrinsic+json": {
              "type": "string"
            }
          },
          "metadata": {},
          "execution_count": 39
        }
      ]
    },
    {
      "cell_type": "code",
      "source": [
        "# Question 14: Count consonants in \"Hello World\"\n",
        "print(\"\\nQuestion 14: Count consonants in 'Hello World'\")\n",
        "# Your code here\n",
        "S=\"Hello World\"\n",
        "y=S.translate({ord(i): None for i in 'aeiouAEIOU'})\n",
        "len(y)"
      ],
      "metadata": {
        "colab": {
          "base_uri": "https://localhost:8080/"
        },
        "id": "PhJS8J7gpBEJ",
        "outputId": "deae3bb3-092b-4012-fffe-6556a15d5dab"
      },
      "execution_count": 44,
      "outputs": [
        {
          "output_type": "stream",
          "name": "stdout",
          "text": [
            "\n",
            "Question 14: Count consonants in 'Hello World'\n"
          ]
        },
        {
          "output_type": "execute_result",
          "data": {
            "text/plain": [
              "8"
            ]
          },
          "metadata": {},
          "execution_count": 44
        }
      ]
    },
    {
      "cell_type": "code",
      "source": [
        "# Question 15: Find the longest word in \"Python is a programming language\"\n",
        "print(\"\\nQuestion 15: Find the longest word in 'Python is a programming language'\")\n",
        "# Your code here\n",
        "S=\"Python is a programming language\"\n",
        "y=S.split()\n",
        "y=max(y, key=len)\n",
        "y"
      ],
      "metadata": {
        "colab": {
          "base_uri": "https://localhost:8080/",
          "height": 70
        },
        "id": "6Tt9pQZdpRiN",
        "outputId": "066ee9d8-7aad-4956-cec0-2a2647324248"
      },
      "execution_count": 48,
      "outputs": [
        {
          "output_type": "stream",
          "name": "stdout",
          "text": [
            "\n",
            "Question 15: Find the longest word in 'Python is a programming language'\n"
          ]
        },
        {
          "output_type": "execute_result",
          "data": {
            "text/plain": [
              "'programming'"
            ],
            "application/vnd.google.colaboratory.intrinsic+json": {
              "type": "string"
            }
          },
          "metadata": {},
          "execution_count": 48
        }
      ]
    },
    {
      "cell_type": "code",
      "source": [
        "# Question 16: Remove all punctuation from \"Hello, World! How are you?\"\n",
        "print(\"\\nQuestion 16: Remove all punctuation from 'Hello, World! How are you?'\")\n",
        "# Your code here\n",
        "S=\"Hello, World! How are you?\"\n",
        "S.translate({ord(i): None for i in '.,!?;:'})"
      ],
      "metadata": {
        "colab": {
          "base_uri": "https://localhost:8080/",
          "height": 70
        },
        "id": "4epyF7DLpmwu",
        "outputId": "024c82ec-8089-4ed6-9cac-10cae3a150e6"
      },
      "execution_count": 50,
      "outputs": [
        {
          "output_type": "stream",
          "name": "stdout",
          "text": [
            "\n",
            "Question 16: Remove all punctuation from 'Hello, World! How are you?'\n"
          ]
        },
        {
          "output_type": "execute_result",
          "data": {
            "text/plain": [
              "'Hello World How are you'"
            ],
            "application/vnd.google.colaboratory.intrinsic+json": {
              "type": "string"
            }
          },
          "metadata": {},
          "execution_count": 50
        }
      ]
    },
    {
      "cell_type": "code",
      "source": [
        "# Question 17: Check if string starts with \"Python\"\n",
        "print(\"\\nQuestion 17: Check if string starts with 'Python'\")\n",
        "# Your code here\n",
        "S=\"Hello, World! How are you?\"\n",
        "S.startswith(\"Python\")"
      ],
      "metadata": {
        "colab": {
          "base_uri": "https://localhost:8080/"
        },
        "id": "fg0pjVK-p8Cb",
        "outputId": "ac22e92f-c799-42da-bd8f-d2a550535778"
      },
      "execution_count": 51,
      "outputs": [
        {
          "output_type": "stream",
          "name": "stdout",
          "text": [
            "\n",
            "Question 17: Check if string starts with 'Python'\n"
          ]
        },
        {
          "output_type": "execute_result",
          "data": {
            "text/plain": [
              "False"
            ]
          },
          "metadata": {},
          "execution_count": 51
        }
      ]
    },
    {
      "cell_type": "code",
      "source": [
        "# Question 18: Find the index of first occurrence of 'o' in \"Hello World\"\n",
        "print(\"\\nQuestion 18: Find the index of first occurrence of 'o' in 'Hello World'\")\n",
        "# Your code here\n",
        "S=\"Hello World\"\n",
        "S.index(\"o\")"
      ],
      "metadata": {
        "colab": {
          "base_uri": "https://localhost:8080/"
        },
        "id": "aMEuPtWJqL8P",
        "outputId": "1bf8306f-c8e9-4104-b2f2-a1aa7a7aba15"
      },
      "execution_count": 52,
      "outputs": [
        {
          "output_type": "stream",
          "name": "stdout",
          "text": [
            "\n",
            "Question 18: Find the index of first occurrence of 'o' in 'Hello World'\n"
          ]
        },
        {
          "output_type": "execute_result",
          "data": {
            "text/plain": [
              "4"
            ]
          },
          "metadata": {},
          "execution_count": 52
        }
      ]
    },
    {
      "cell_type": "code",
      "source": [
        "# Question 19: Split string \"apple,banana,orange\" by comma\n",
        "print(\"\\nQuestion 19: Split string 'apple,banana,orange' by comma\")\n",
        "# Your code here\n",
        "S='apple,banana,orange'\n",
        "S.split(\",\")"
      ],
      "metadata": {
        "colab": {
          "base_uri": "https://localhost:8080/"
        },
        "id": "WG5hW3sfqX9R",
        "outputId": "a4d49f7a-7f57-482c-b6b3-c561a7bee052"
      },
      "execution_count": 53,
      "outputs": [
        {
          "output_type": "stream",
          "name": "stdout",
          "text": [
            "\n",
            "Question 19: Split string 'apple,banana,orange' by comma\n"
          ]
        },
        {
          "output_type": "execute_result",
          "data": {
            "text/plain": [
              "['apple', 'banana', 'orange']"
            ]
          },
          "metadata": {},
          "execution_count": 53
        }
      ]
    },
    {
      "cell_type": "code",
      "source": [
        "# Question 20: Join list ['Python', 'is', 'awesome'] with spaces\n",
        "print(\"\\nQuestion 20: Join list ['Python', 'is', 'awesome'] with spaces\")\n",
        "# Your code here\n",
        "l=['Python', 'is', 'awesome']\n",
        "' '.join(l)"
      ],
      "metadata": {
        "colab": {
          "base_uri": "https://localhost:8080/",
          "height": 70
        },
        "id": "J5X03ixjqlmv",
        "outputId": "ce7fd589-ef2e-4ba5-e47a-3ffea5a09deb"
      },
      "execution_count": 57,
      "outputs": [
        {
          "output_type": "stream",
          "name": "stdout",
          "text": [
            "\n",
            "Question 20: Join list ['Python', 'is', 'awesome'] with spaces\n"
          ]
        },
        {
          "output_type": "execute_result",
          "data": {
            "text/plain": [
              "'Python is awesome'"
            ],
            "application/vnd.google.colaboratory.intrinsic+json": {
              "type": "string"
            }
          },
          "metadata": {},
          "execution_count": 57
        }
      ]
    },
    {
      "cell_type": "code",
      "source": [
        "# Question 21: Check if string contains only digits: \"12345\"\n",
        "print(\"\\nQuestion 21: Check if string contains only digits: '12345'\")\n",
        "# Your code here\n",
        "S=\"12345\"\n",
        "S.isnumeric()"
      ],
      "metadata": {
        "colab": {
          "base_uri": "https://localhost:8080/"
        },
        "id": "CipaDlEqrVA9",
        "outputId": "af8daedd-092e-422c-898e-a7a3b9ed7088"
      },
      "execution_count": 61,
      "outputs": [
        {
          "output_type": "stream",
          "name": "stdout",
          "text": [
            "\n",
            "Question 21: Check if string contains only digits: '12345'\n"
          ]
        },
        {
          "output_type": "execute_result",
          "data": {
            "text/plain": [
              "True"
            ]
          },
          "metadata": {},
          "execution_count": 61
        }
      ]
    },
    {
      "cell_type": "code",
      "source": [
        "# Question 22: Check if string contains only letters: \"HelloWorld\"\n",
        "print(\"\\nQuestion 22: Check if string contains only letters: 'HelloWorld'\")\n",
        "# Your code here\n",
        "S=\"HelloWorld\"\n",
        "S.isalpha()"
      ],
      "metadata": {
        "colab": {
          "base_uri": "https://localhost:8080/"
        },
        "id": "johOhGZDrsGo",
        "outputId": "8cb89085-5119-4934-ea7d-e35af6ad20bc"
      },
      "execution_count": 62,
      "outputs": [
        {
          "output_type": "stream",
          "name": "stdout",
          "text": [
            "\n",
            "Question 22: Check if string contains only letters: 'HelloWorld'\n"
          ]
        },
        {
          "output_type": "execute_result",
          "data": {
            "text/plain": [
              "True"
            ]
          },
          "metadata": {},
          "execution_count": 62
        }
      ]
    },
    {
      "cell_type": "code",
      "source": [
        "# Question 23: Convert \"hello world\" to \"hElLo WoRlD\" (alternating case)\n",
        "print(\"\\nQuestion 23: Convert 'hello world' to 'hElLo WoRlD' (alternating case)\")\n",
        "# Your code here\n",
        "t = \"hello world\"\n",
        "r = \"\"\n",
        "for i in range(len(t)):\n",
        "    if i % 2 == 0:\n",
        "        r += t[i].lower()\n",
        "    else:\n",
        "        r += t[i].upper()\n",
        "r"
      ],
      "metadata": {
        "colab": {
          "base_uri": "https://localhost:8080/",
          "height": 70
        },
        "id": "RNXp9bQgr1L-",
        "outputId": "d716fef1-d2e7-4a98-d03e-acda36a0c944"
      },
      "execution_count": 64,
      "outputs": [
        {
          "output_type": "stream",
          "name": "stdout",
          "text": [
            "\n",
            "Question 23: Convert 'hello world' to 'hElLo WoRlD' (alternating case)\n"
          ]
        },
        {
          "output_type": "execute_result",
          "data": {
            "text/plain": [
              "'hElLo wOrLd'"
            ],
            "application/vnd.google.colaboratory.intrinsic+json": {
              "type": "string"
            }
          },
          "metadata": {},
          "execution_count": 64
        }
      ]
    },
    {
      "cell_type": "code",
      "source": [
        "# Question 24: Find all count of 'a' in \"banana\"\n",
        "print(\"\\nQuestion 24: Find all count of 'a' in 'banana'\")\n",
        "# Your code here\n",
        "S=\"banana\"\n",
        "S.count('a')"
      ],
      "metadata": {
        "colab": {
          "base_uri": "https://localhost:8080/"
        },
        "id": "PgoC_Bx8sgYC",
        "outputId": "0cc96d8c-f9f8-41f6-f981-4cdc3071dd23"
      },
      "execution_count": 70,
      "outputs": [
        {
          "output_type": "stream",
          "name": "stdout",
          "text": [
            "\n",
            "Question 24: Find all positions of 'a' in 'banana'\n"
          ]
        },
        {
          "output_type": "execute_result",
          "data": {
            "text/plain": [
              "3"
            ]
          },
          "metadata": {},
          "execution_count": 70
        }
      ]
    },
    {
      "cell_type": "code",
      "source": [
        "# Question 25: Remove leading and trailing whitespace from \"  Hello World  \"\n",
        "print(\"\\nQuestion 25: Remove leading and trailing whitespace from '  Hello World  '\")\n",
        "# Your code here\n",
        "S=\"  Hello World  \"\n",
        "T=S.lstrip()\n",
        "Z=T.rstrip()\n",
        "Z"
      ],
      "metadata": {
        "colab": {
          "base_uri": "https://localhost:8080/",
          "height": 70
        },
        "id": "dd6Jrct4tN5A",
        "outputId": "f4848ffc-9142-4743-a758-a9343458baf5"
      },
      "execution_count": 72,
      "outputs": [
        {
          "output_type": "stream",
          "name": "stdout",
          "text": [
            "\n",
            "Question 25: Remove leading and trailing whitespace from '  Hello World  '\n"
          ]
        },
        {
          "output_type": "execute_result",
          "data": {
            "text/plain": [
              "'Hello World'"
            ],
            "application/vnd.google.colaboratory.intrinsic+json": {
              "type": "string"
            }
          },
          "metadata": {},
          "execution_count": 72
        }
      ]
    },
    {
      "cell_type": "code",
      "source": [
        "# Question 26: Check if string ends with \"ing\": \"programming\"\n",
        "print(\"\\nQuestion 26: Check if string ends with 'ing': 'programming'\")\n",
        "# Your code here\n",
        "S=\"programming\"\n",
        "S.endswith(\"ing\")"
      ],
      "metadata": {
        "colab": {
          "base_uri": "https://localhost:8080/"
        },
        "id": "MFzCzDortgxH",
        "outputId": "c1846e2e-26c2-4a83-8a85-79131de62e95"
      },
      "execution_count": 73,
      "outputs": [
        {
          "output_type": "stream",
          "name": "stdout",
          "text": [
            "\n",
            "Question 26: Check if string ends with 'ing': 'programming'\n"
          ]
        },
        {
          "output_type": "execute_result",
          "data": {
            "text/plain": [
              "True"
            ]
          },
          "metadata": {},
          "execution_count": 73
        }
      ]
    },
    {
      "cell_type": "code",
      "source": [
        "# Question 27: Replace first occurrence of 'o' with '0' in \"Hello World\"\n",
        "print(\"\\nQuestion 27: Replace first occurrence of 'o' with '0' in 'Hello World'\")\n",
        "# Your code here\n",
        "S=\"Hello World\"\n",
        "S.replace('o','0',1)\n"
      ],
      "metadata": {
        "colab": {
          "base_uri": "https://localhost:8080/",
          "height": 70
        },
        "id": "d0fFkcAbtoD9",
        "outputId": "64c29073-fe2f-4cad-b0bd-3d1d4beda6a7"
      },
      "execution_count": 81,
      "outputs": [
        {
          "output_type": "stream",
          "name": "stdout",
          "text": [
            "\n",
            "Question 27: Replace first occurrence of 'o' with '0' in 'Hello World'\n"
          ]
        },
        {
          "output_type": "execute_result",
          "data": {
            "text/plain": [
              "'Hell0 World'"
            ],
            "application/vnd.google.colaboratory.intrinsic+json": {
              "type": "string"
            }
          },
          "metadata": {},
          "execution_count": 81
        }
      ]
    }
  ]
}