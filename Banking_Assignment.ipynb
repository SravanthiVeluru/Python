{
  "nbformat": 4,
  "nbformat_minor": 0,
  "metadata": {
    "colab": {
      "provenance": []
    },
    "kernelspec": {
      "name": "python3",
      "display_name": "Python 3"
    },
    "language_info": {
      "name": "python"
    }
  },
  "cells": [
    {
      "cell_type": "code",
      "source": [
        "#BANKING DATA ANALYSIS\n",
        "#The assignment uses banking industry data with 10 rows × 5 columns:\n",
        "\n",
        "#Customer_ID: Unique identifier for each customer\n",
        "#Account_Balance: Customer's account balance in dollars\n",
        "#Credit_Score: Customer's credit score (300-900 range)\n",
        "#Transaction_Count: Number of transactions in the last month\n",
        "#Years_Active: Number of years the customer has been with"
      ],
      "metadata": {
        "id": "f2oERuHC0j2P"
      },
      "execution_count": null,
      "outputs": []
    },
    {
      "cell_type": "code",
      "source": [
        "import numpy as np\n",
        "print(\"=\" * 60)\n",
        "print(\"NUMPY ASSIGNMENT: BANKING DATA ANALYSIS\")\n",
        "print(\"=\" * 60)\n",
        "# Create banking_data: 10 rows × 5 columns\n",
        "# Columns: Customer_ID, Account_Balance, Credit_Score, Transaction_Count, Years_Active\n",
        "banking_data = np.array([\n",
        "    [1001, 125000, 745, 42, 15],\n",
        "    [1002, 89000, 632, 45, 8],\n",
        "    [1003, 45000, 878, 38, 22],\n",
        "    [1004, 25000, 712, 47, 5],\n",
        "    [1005, 75000, 895, 40, 18],\n",
        "    [1006, 18000, 628, 43, 12],\n",
        "    [1007, 95000, 756, 39, 20],\n",
        "    [1008, 320000, 718, 46, 7],\n",
        "    [1009, 65000, 867, 41, 16],\n",
        "    [1010, 140000, 734, 44, 10]\n",
        "])\n",
        "\n",
        "print(\"\\nORIGINAL BANKING DATA:\")\n",
        "print(banking_data)\n",
        "print(f\"\\nData shape: {banking_data.shape}\")\n",
        "print(f\"Data type: {banking_data.dtype}\")\n"
      ],
      "metadata": {
        "colab": {
          "base_uri": "https://localhost:8080/"
        },
        "id": "xqKaptUt1LiR",
        "outputId": "4e091b81-4c18-458c-b6de-17d4ccca58c3"
      },
      "execution_count": 5,
      "outputs": [
        {
          "output_type": "stream",
          "name": "stdout",
          "text": [
            "============================================================\n",
            "NUMPY ASSIGNMENT: BANKING DATA ANALYSIS\n",
            "============================================================\n",
            "\n",
            "ORIGINAL BANKING DATA:\n",
            "[[  1001 125000    745     42     15]\n",
            " [  1002  89000    632     45      8]\n",
            " [  1003  45000    878     38     22]\n",
            " [  1004  25000    712     47      5]\n",
            " [  1005  75000    895     40     18]\n",
            " [  1006  18000    628     43     12]\n",
            " [  1007  95000    756     39     20]\n",
            " [  1008 320000    718     46      7]\n",
            " [  1009  65000    867     41     16]\n",
            " [  1010 140000    734     44     10]]\n",
            "\n",
            "Data shape: (10, 5)\n",
            "Data type: int64\n"
          ]
        }
      ]
    },
    {
      "cell_type": "code",
      "source": [
        "#Q1:ARRAY CREATION AND MANIPULATION\n",
        "\n",
        "\n",
        "#Q1.1: Create a 4x4 identity matrix using np.eye()\n",
        "identity_matrix = np.eye(4)\n",
        "print(identity_matrix)"
      ],
      "metadata": {
        "colab": {
          "base_uri": "https://localhost:8080/"
        },
        "id": "gOKdw5er4al2",
        "outputId": "b32736a9-feea-449a-ab23-91e469bd4835"
      },
      "execution_count": null,
      "outputs": [
        {
          "output_type": "stream",
          "name": "stdout",
          "text": [
            "[[1. 0. 0. 0.]\n",
            " [0. 1. 0. 0.]\n",
            " [0. 0. 1. 0.]\n",
            " [0. 0. 0. 1.]]\n"
          ]
        }
      ]
    },
    {
      "cell_type": "code",
      "source": [
        "#Q1.2: Create an array of 8 zeros using np.zeros()\n",
        "zeros_array = np.zeros(8)\n",
        "print(zeros_array)"
      ],
      "metadata": {
        "colab": {
          "base_uri": "https://localhost:8080/"
        },
        "id": "X2FyVlXi4lU_",
        "outputId": "ee02ac51-9547-421c-e446-c70275266911"
      },
      "execution_count": null,
      "outputs": [
        {
          "output_type": "stream",
          "name": "stdout",
          "text": [
            "[0. 0. 0. 0. 0. 0. 0. 0.]\n"
          ]
        }
      ]
    },
    {
      "cell_type": "code",
      "source": [
        "#Q1.3: Create an array of 6 ones using np.ones()\n",
        "ones_array = np.ones(6)\n",
        "print(ones_array)"
      ],
      "metadata": {
        "colab": {
          "base_uri": "https://localhost:8080/"
        },
        "id": "3nyawvVa75v4",
        "outputId": "13815c91-42a3-4f43-ef27-985e9ffd0965"
      },
      "execution_count": null,
      "outputs": [
        {
          "output_type": "stream",
          "name": "stdout",
          "text": [
            "[1. 1. 1. 1. 1. 1.]\n"
          ]
        }
      ]
    },
    {
      "cell_type": "code",
      "source": [
        "#Q1.4: Create an array with values from 0 to 15 using np.arange()\n",
        "range_array = np.arange(16)\n",
        "print(range_array)"
      ],
      "metadata": {
        "colab": {
          "base_uri": "https://localhost:8080/"
        },
        "id": "5ELxU7fb8NR7",
        "outputId": "760290d6-e214-41f3-eba7-b21aa48ddd17"
      },
      "execution_count": null,
      "outputs": [
        {
          "output_type": "stream",
          "name": "stdout",
          "text": [
            "[ 0  1  2  3  4  5  6  7  8  9 10 11 12 13 14 15]\n"
          ]
        }
      ]
    },
    {
      "cell_type": "code",
      "source": [
        "#Q1.5: Create an array with 8 evenly spaced values from 0 to 100 using np.linspace()\n",
        "linspace_array = np.linspace(0,100,8)\n",
        "print(linspace_array)"
      ],
      "metadata": {
        "colab": {
          "base_uri": "https://localhost:8080/"
        },
        "id": "PPCcPaJS80YV",
        "outputId": "d702c14d-0d34-42b4-901a-5c196072d480"
      },
      "execution_count": null,
      "outputs": [
        {
          "output_type": "stream",
          "name": "stdout",
          "text": [
            "[  0.          14.28571429  28.57142857  42.85714286  57.14285714\n",
            "  71.42857143  85.71428571 100.        ]\n"
          ]
        }
      ]
    },
    {
      "cell_type": "code",
      "source": [
        "#Question 2: Array Attributes and Information\n",
        "\n",
        "#Q2.1: What is the shape of the banking_data array?\n",
        "x = banking_data.shape\n",
        "print(x)"
      ],
      "metadata": {
        "colab": {
          "base_uri": "https://localhost:8080/"
        },
        "id": "1joRgJHF883b",
        "outputId": "b327b8b6-8c99-4d95-9ee7-f51e0c9df1c8"
      },
      "execution_count": null,
      "outputs": [
        {
          "output_type": "stream",
          "name": "stdout",
          "text": [
            "(10, 5)\n"
          ]
        }
      ]
    },
    {
      "cell_type": "code",
      "source": [
        "#Q2.2: What is the data type of the banking_data array?\n",
        "x = banking_data.dtype\n",
        "print(x)"
      ],
      "metadata": {
        "colab": {
          "base_uri": "https://localhost:8080/"
        },
        "id": "bLDF-Yha_nil",
        "outputId": "02d7513b-40a1-4384-d894-38c63abd0c5d"
      },
      "execution_count": null,
      "outputs": [
        {
          "output_type": "stream",
          "name": "stdout",
          "text": [
            "float64\n"
          ]
        }
      ]
    },
    {
      "cell_type": "code",
      "source": [
        "#Q2.3: What is the size (total number of elements) of the banking_data array?\n",
        "x = banking_data.size\n",
        "print(x)"
      ],
      "metadata": {
        "colab": {
          "base_uri": "https://localhost:8080/"
        },
        "id": "zb0kJYfFAEbB",
        "outputId": "d86b9091-7d96-4fed-d91c-1231001a92a9"
      },
      "execution_count": null,
      "outputs": [
        {
          "output_type": "stream",
          "name": "stdout",
          "text": [
            "50\n"
          ]
        }
      ]
    },
    {
      "cell_type": "code",
      "source": [
        "#Q2.4: What is the number of dimensions of the banking_data array?\n",
        "x = banking_data.ndim\n",
        "print(x)"
      ],
      "metadata": {
        "colab": {
          "base_uri": "https://localhost:8080/"
        },
        "id": "uw8FvYtzAUru",
        "outputId": "637c12f4-39eb-432e-ae33-7565ec537f5f"
      },
      "execution_count": null,
      "outputs": [
        {
          "output_type": "stream",
          "name": "stdout",
          "text": [
            "2\n"
          ]
        }
      ]
    },
    {
      "cell_type": "code",
      "source": [
        "#Q2.5: What is the memory size of the banking_data array in bytes?\n",
        "x = banking_data.nbytes\n",
        "print(x)"
      ],
      "metadata": {
        "colab": {
          "base_uri": "https://localhost:8080/"
        },
        "id": "ZLKFKtFlAzs2",
        "outputId": "0167ff1d-5691-4cc3-fdf7-6a7c8e90a0ae"
      },
      "execution_count": null,
      "outputs": [
        {
          "output_type": "stream",
          "name": "stdout",
          "text": [
            "400\n"
          ]
        }
      ]
    },
    {
      "cell_type": "code",
      "source": [
        "#Question 3: Indexing and Slicing\n",
        "\n",
        "\n",
        "#Q3.1: Extract the first row of banking_data\n",
        "first_row = banking_data[0]\n",
        "print(first_row)"
      ],
      "metadata": {
        "colab": {
          "base_uri": "https://localhost:8080/"
        },
        "id": "Mdp74qUKBSwK",
        "outputId": "12fd12d3-a34c-4d12-f2f3-03d659e5a9d3"
      },
      "execution_count": null,
      "outputs": [
        {
          "output_type": "stream",
          "name": "stdout",
          "text": [
            "[  1001 125000    745     42     15]\n"
          ]
        }
      ]
    },
    {
      "cell_type": "code",
      "source": [
        "#Q3.2: Extract the last row of banking_data\n",
        "last_row = banking_data[-1]\n",
        "print(last_row)"
      ],
      "metadata": {
        "colab": {
          "base_uri": "https://localhost:8080/"
        },
        "id": "ccw0_tpzCBsp",
        "outputId": "146d114b-8300-497f-d452-197e53934480"
      },
      "execution_count": null,
      "outputs": [
        {
          "output_type": "stream",
          "name": "stdout",
          "text": [
            "[  1010 140000    734     44     10]\n"
          ]
        }
      ]
    },
    {
      "cell_type": "code",
      "source": [
        "#Q3.3: Extract the Account_Balance column (column index 1)\n",
        "account_balance = banking_data[:,1]\n",
        "print(account_balance)\n"
      ],
      "metadata": {
        "colab": {
          "base_uri": "https://localhost:8080/"
        },
        "id": "hSaI0gr0CSUN",
        "outputId": "06065c96-4bd3-447a-d765-3d662d6cf24e"
      },
      "execution_count": null,
      "outputs": [
        {
          "output_type": "stream",
          "name": "stdout",
          "text": [
            "[125000  89000  45000  25000  75000  18000  95000 320000  65000 140000]\n"
          ]
        }
      ]
    },
    {
      "cell_type": "code",
      "source": [
        "#Q3.4: Extract the first 4 rows and first 3 columns\n",
        "s = banking_data[:4, :3]\n",
        "print(s)\n"
      ],
      "metadata": {
        "colab": {
          "base_uri": "https://localhost:8080/"
        },
        "id": "byCkVRQ7CYcE",
        "outputId": "9855f7fd-2c9b-49d9-f4f0-80fecf62aae7"
      },
      "execution_count": null,
      "outputs": [
        {
          "output_type": "stream",
          "name": "stdout",
          "text": [
            "[[  1001 125000    745]\n",
            " [  1002  89000    632]\n",
            " [  1003  45000    878]\n",
            " [  1004  25000    712]]\n"
          ]
        }
      ]
    },
    {
      "cell_type": "code",
      "source": [
        "#Q3.5: Extract rows 3 to 7 (inclusive)\n",
        "s = banking_data[3:8]\n",
        "print(s)"
      ],
      "metadata": {
        "colab": {
          "base_uri": "https://localhost:8080/"
        },
        "id": "TYNpDJOFCYNi",
        "outputId": "47af36ee-43fb-47aa-859f-b4c64435ed7c"
      },
      "execution_count": null,
      "outputs": [
        {
          "output_type": "stream",
          "name": "stdout",
          "text": [
            "[[  1004  25000    712     47      5]\n",
            " [  1005  75000    895     40     18]\n",
            " [  1006  18000    628     43     12]\n",
            " [  1007  95000    756     39     20]\n",
            " [  1008 320000    718     46      7]]\n"
          ]
        }
      ]
    },
    {
      "cell_type": "code",
      "source": [
        "#Question 4: Mathematical Operations\n",
        "\n",
        "#Q4.1: Calculate the sum of all account balances\n",
        "s = banking_data[:, 1]\n",
        "print(np.sum(s))\n"
      ],
      "metadata": {
        "colab": {
          "base_uri": "https://localhost:8080/"
        },
        "id": "CD3SysYsEZsx",
        "outputId": "75e89e40-19c5-44b6-c410-35b85cb99050"
      },
      "execution_count": null,
      "outputs": [
        {
          "output_type": "stream",
          "name": "stdout",
          "text": [
            "997000\n"
          ]
        }
      ]
    },
    {
      "cell_type": "code",
      "source": [
        "#Q4.2: Calculate the mean account balance\n",
        "s = banking_data[:,1]\n",
        "print(np.mean(s))"
      ],
      "metadata": {
        "colab": {
          "base_uri": "https://localhost:8080/"
        },
        "id": "-3kuF9ldElJ-",
        "outputId": "91854e28-682e-4805-d938-5fb57bf5f85b"
      },
      "execution_count": null,
      "outputs": [
        {
          "output_type": "stream",
          "name": "stdout",
          "text": [
            "99700.0\n"
          ]
        }
      ]
    },
    {
      "cell_type": "code",
      "source": [
        "#Q4.3: Calculate the standard deviation of account balances\n",
        "s = banking_data[:, 1]\n",
        "print(np.std(s))"
      ],
      "metadata": {
        "colab": {
          "base_uri": "https://localhost:8080/"
        },
        "id": "sLZURjynE2Zm",
        "outputId": "ead95b79-c645-491e-b823-c35c52b0da47"
      },
      "execution_count": null,
      "outputs": [
        {
          "output_type": "stream",
          "name": "stdout",
          "text": [
            "82458.53503428254\n"
          ]
        }
      ]
    },
    {
      "cell_type": "code",
      "source": [
        "#Q4.4: Calculate the variance of account balances\n",
        "s = banking_data[:,1]\n",
        "print(np.var(s))"
      ],
      "metadata": {
        "colab": {
          "base_uri": "https://localhost:8080/"
        },
        "id": "gJk_3xXLFBhF",
        "outputId": "851e3610-57d2-4652-957a-cecb6b1fc2dc"
      },
      "execution_count": null,
      "outputs": [
        {
          "output_type": "stream",
          "name": "stdout",
          "text": [
            "6799410000.0\n"
          ]
        }
      ]
    },
    {
      "cell_type": "code",
      "source": [
        "#Q4.5: Calculate the median account balance\n",
        "s = banking_data[:,1]\n",
        "print(np.median(s))"
      ],
      "metadata": {
        "colab": {
          "base_uri": "https://localhost:8080/"
        },
        "id": "4XKdYsuxFKMQ",
        "outputId": "9d5e2c38-6151-408d-d98f-0e1b5aa7987c"
      },
      "execution_count": null,
      "outputs": [
        {
          "output_type": "stream",
          "name": "stdout",
          "text": [
            "82000.0\n"
          ]
        }
      ]
    },
    {
      "cell_type": "code",
      "source": [
        "#Question 5: Statistical Functions\n",
        "\n",
        "\n",
        "#Q5.1: Find the minimum and maximum account balances\n",
        "s = banking_data[:,1]\n",
        "print(np.min(s))\n",
        "print(np.max(s))"
      ],
      "metadata": {
        "colab": {
          "base_uri": "https://localhost:8080/"
        },
        "id": "oHeKqGdTJz6C",
        "outputId": "5447ba1c-492a-418f-d064-8d120bdfa0cc"
      },
      "execution_count": null,
      "outputs": [
        {
          "output_type": "stream",
          "name": "stdout",
          "text": [
            "18000\n",
            "320000\n"
          ]
        }
      ]
    },
    {
      "cell_type": "code",
      "source": [
        "#Q5.2: Find the minimum and maximum credit scores\n",
        "s = banking_data[:,2]\n",
        "print(np.min(s))\n",
        "print(np.max(s))"
      ],
      "metadata": {
        "colab": {
          "base_uri": "https://localhost:8080/"
        },
        "id": "mB7X_xbXP5Ds",
        "outputId": "b9e4ea41-50b0-4bed-e2e0-ae346cdbc4b8"
      },
      "execution_count": null,
      "outputs": [
        {
          "output_type": "stream",
          "name": "stdout",
          "text": [
            "628\n",
            "895\n"
          ]
        }
      ]
    },
    {
      "cell_type": "code",
      "source": [
        "#Q5.3: Calculate the percentile values for account balances (25th, 50th, 75th)\n",
        "s = banking_data[:,1]\n",
        "print(np.percentile(s,[25, 50, 75]))"
      ],
      "metadata": {
        "colab": {
          "base_uri": "https://localhost:8080/"
        },
        "id": "BIfN355kP406",
        "outputId": "d0ea63b7-07a5-4dc4-a48e-311b199ef576"
      },
      "execution_count": null,
      "outputs": [
        {
          "output_type": "stream",
          "name": "stdout",
          "text": [
            "[ 50000.  82000. 117500.]\n"
          ]
        }
      ]
    },
    {
      "cell_type": "code",
      "source": [
        "#Q5.4: Calculate the correlation between account balance and credit score\n",
        "s = banking_data[:,1]\n",
        "r = banking_data[:,2]\n",
        "print(np.corrcoef(s,r))"
      ],
      "metadata": {
        "colab": {
          "base_uri": "https://localhost:8080/"
        },
        "id": "apuX0xuMP4Zq",
        "outputId": "9b050361-a826-4cf9-a5d9-c44ee96cde80"
      },
      "execution_count": null,
      "outputs": [
        {
          "output_type": "stream",
          "name": "stdout",
          "text": [
            "[[ 1.         -0.11262639]\n",
            " [-0.11262639  1.        ]]\n"
          ]
        }
      ]
    },
    {
      "cell_type": "code",
      "source": [
        "#Q5.5: Calculate the covariance between account balance and credit score\n",
        "s = banking_data[:,1]\n",
        "r = banking_data[:,2]\n",
        "print(np.cov(s,r))"
      ],
      "metadata": {
        "colab": {
          "base_uri": "https://localhost:8080/"
        },
        "id": "gjaJvgZiP4AU",
        "outputId": "dd08ebfc-ada7-4b04-ab6a-8105408ed2d3"
      },
      "execution_count": null,
      "outputs": [
        {
          "output_type": "stream",
          "name": "stdout",
          "text": [
            "[[ 7.55490000e+09 -9.35944444e+05]\n",
            " [-9.35944444e+05  9.14094444e+03]]\n"
          ]
        }
      ]
    },
    {
      "cell_type": "code",
      "source": [
        "#Question 6: Array Reshaping and Manipulation\n",
        "\n",
        "\n",
        "#Q6.1: Reshape the banking_data to 5 rows × 10 columns\n",
        "s = banking_data.reshape(5,10)\n",
        "print(s)"
      ],
      "metadata": {
        "colab": {
          "base_uri": "https://localhost:8080/"
        },
        "id": "1ia41fj9dXDM",
        "outputId": "29100277-3f63-40bb-e0cc-abfa1166309a"
      },
      "execution_count": null,
      "outputs": [
        {
          "output_type": "stream",
          "name": "stdout",
          "text": [
            "[[  1001 125000    745     42     15   1002  89000    632     45      8]\n",
            " [  1003  45000    878     38     22   1004  25000    712     47      5]\n",
            " [  1005  75000    895     40     18   1006  18000    628     43     12]\n",
            " [  1007  95000    756     39     20   1008 320000    718     46      7]\n",
            " [  1009  65000    867     41     16   1010 140000    734     44     10]]\n"
          ]
        }
      ]
    },
    {
      "cell_type": "code",
      "source": [
        "#Q6.2: Flatten the banking_data to a 1D array\n",
        "s = banking_data.flatten()\n",
        "print(s)"
      ],
      "metadata": {
        "colab": {
          "base_uri": "https://localhost:8080/"
        },
        "id": "UNZgR_tCdpD_",
        "outputId": "341a97da-74c5-413b-8073-73146c0d9146"
      },
      "execution_count": null,
      "outputs": [
        {
          "output_type": "stream",
          "name": "stdout",
          "text": [
            "[  1001 125000    745     42     15   1002  89000    632     45      8\n",
            "   1003  45000    878     38     22   1004  25000    712     47      5\n",
            "   1005  75000    895     40     18   1006  18000    628     43     12\n",
            "   1007  95000    756     39     20   1008 320000    718     46      7\n",
            "   1009  65000    867     41     16   1010 140000    734     44     10]\n"
          ]
        }
      ]
    },
    {
      "cell_type": "code",
      "source": [
        "#Q6.3: Transpose the banking_data\n",
        "s = banking_data.T\n",
        "print(s)"
      ],
      "metadata": {
        "colab": {
          "base_uri": "https://localhost:8080/"
        },
        "id": "JslWlWPidulY",
        "outputId": "2b96a1c2-6f8d-4bf6-e2d3-a762f932c7df"
      },
      "execution_count": null,
      "outputs": [
        {
          "output_type": "stream",
          "name": "stdout",
          "text": [
            "[[  1001   1002   1003   1004   1005   1006   1007   1008   1009   1010]\n",
            " [125000  89000  45000  25000  75000  18000  95000 320000  65000 140000]\n",
            " [   745    632    878    712    895    628    756    718    867    734]\n",
            " [    42     45     38     47     40     43     39     46     41     44]\n",
            " [    15      8     22      5     18     12     20      7     16     10]]\n"
          ]
        }
      ]
    },
    {
      "cell_type": "code",
      "source": [
        "#Q6.4:Split the banking_data into 2 equal parts vertically\n",
        "s,r = np.vsplit(banking_data, 2)\n",
        "print(s,r)\n",
        "\n"
      ],
      "metadata": {
        "colab": {
          "base_uri": "https://localhost:8080/"
        },
        "id": "-hEiQt9Od6vO",
        "outputId": "3fdb3c8d-4885-4c06-971a-6ebf221f1f9b"
      },
      "execution_count": null,
      "outputs": [
        {
          "output_type": "stream",
          "name": "stdout",
          "text": [
            "[[  1001 125000    745     42     15]\n",
            " [  1002  89000    632     45      8]\n",
            " [  1003  45000    878     38     22]\n",
            " [  1004  25000    712     47      5]\n",
            " [  1005  75000    895     40     18]] [[  1006  18000    628     43     12]\n",
            " [  1007  95000    756     39     20]\n",
            " [  1008 320000    718     46      7]\n",
            " [  1009  65000    867     41     16]\n",
            " [  1010 140000    734     44     10]]\n"
          ]
        }
      ]
    },
    {
      "cell_type": "code",
      "source": [
        "#Q6.5: Split the banking_data into 2 equal parts horizontally\n",
        "s,r = np.hsplit(banking_data,[3])\n",
        "print(s,r)\n"
      ],
      "metadata": {
        "colab": {
          "base_uri": "https://localhost:8080/"
        },
        "id": "s7zDT0dGd_zP",
        "outputId": "b41accd5-e849-4c95-e937-11f8a12c783b"
      },
      "execution_count": null,
      "outputs": [
        {
          "output_type": "stream",
          "name": "stdout",
          "text": [
            "[[  1001 125000    745]\n",
            " [  1002  89000    632]\n",
            " [  1003  45000    878]\n",
            " [  1004  25000    712]\n",
            " [  1005  75000    895]\n",
            " [  1006  18000    628]\n",
            " [  1007  95000    756]\n",
            " [  1008 320000    718]\n",
            " [  1009  65000    867]\n",
            " [  1010 140000    734]] [[42 15]\n",
            " [45  8]\n",
            " [38 22]\n",
            " [47  5]\n",
            " [40 18]\n",
            " [43 12]\n",
            " [39 20]\n",
            " [46  7]\n",
            " [41 16]\n",
            " [44 10]]\n"
          ]
        }
      ]
    },
    {
      "cell_type": "code",
      "source": [
        "#Question 7: Logical Operations and Filtering\n",
        "\n",
        "\n",
        "#Q7.1: Find customers with account balance greater than $100,000\n",
        "s = banking_data[:,1]>100000\n",
        "r = tuple(s)\n",
        "print(r.count(True))"
      ],
      "metadata": {
        "colab": {
          "base_uri": "https://localhost:8080/"
        },
        "id": "HDv335ekCFOY",
        "outputId": "fec8e083-87f3-461e-c8bd-6e393355efbb"
      },
      "execution_count": null,
      "outputs": [
        {
          "output_type": "stream",
          "name": "stdout",
          "text": [
            "3\n"
          ]
        }
      ]
    },
    {
      "cell_type": "code",
      "source": [
        "#Q7.2: Find customers with credit score greater than 800\n",
        "s = banking_data[:,2]>800\n",
        "r = tuple(s)\n",
        "print(r.count(True))"
      ],
      "metadata": {
        "id": "Y6_g8AnctJpy",
        "colab": {
          "base_uri": "https://localhost:8080/"
        },
        "outputId": "5a6c7402-d7e6-4d5f-f6b2-dd1c19520d87"
      },
      "execution_count": null,
      "outputs": [
        {
          "output_type": "stream",
          "name": "stdout",
          "text": [
            "3\n"
          ]
        }
      ]
    },
    {
      "cell_type": "code",
      "source": [
        "#Q7.3: Find customers with transaction count greater than 50 AND credit score less than 750\n",
        "s = (banking_data[:,3]>50) &(banking_data[:,2]<750)\n",
        "r = tuple(s)\n",
        "print(r.count(True))"
      ],
      "metadata": {
        "id": "GGfLqAe7tnpt",
        "colab": {
          "base_uri": "https://localhost:8080/"
        },
        "outputId": "f5a8d298-8a3e-4569-d99b-c61111e30071"
      },
      "execution_count": null,
      "outputs": [
        {
          "output_type": "stream",
          "name": "stdout",
          "text": [
            "0\n"
          ]
        }
      ]
    },
    {
      "cell_type": "code",
      "source": [
        "#Q7.4: Count how many customers have account balance between $10,000 and $100,000\n",
        "s = banking_data[:,1]\n",
        "r = (s > 10000) & (s < 100000)\n",
        "print(tuple(r).count(True))\n"
      ],
      "metadata": {
        "id": "Qu6gaFF7ttke",
        "colab": {
          "base_uri": "https://localhost:8080/"
        },
        "outputId": "ac9e3f84-e4a2-4713-fd00-30ededeac553"
      },
      "execution_count": null,
      "outputs": [
        {
          "output_type": "stream",
          "name": "stdout",
          "text": [
            "7\n"
          ]
        }
      ]
    },
    {
      "cell_type": "code",
      "source": [
        "#Q7.5: Find the index of the customer with the highest credit score\n",
        "s = banking_data[:,2]\n",
        "print(np.argmax(s))"
      ],
      "metadata": {
        "id": "g0e1NV7Gt6Wc",
        "colab": {
          "base_uri": "https://localhost:8080/"
        },
        "outputId": "ec1e20b9-967e-49d5-9376-3e89a121a450"
      },
      "execution_count": null,
      "outputs": [
        {
          "output_type": "stream",
          "name": "stdout",
          "text": [
            "4\n"
          ]
        }
      ]
    },
    {
      "cell_type": "code",
      "source": [
        "#Question 8: Sorting and Searching\n",
        "\n",
        "\n",
        "#Q8.1: Sort the banking_data by account balance (ascending)\n",
        "s = banking_data[:,1]\n",
        "print(np.argsort(s))"
      ],
      "metadata": {
        "id": "gYJ4MSzLt_7U",
        "colab": {
          "base_uri": "https://localhost:8080/"
        },
        "outputId": "edfaa8e8-0279-4dc1-9f2e-2e9131bfbe41"
      },
      "execution_count": null,
      "outputs": [
        {
          "output_type": "stream",
          "name": "stdout",
          "text": [
            "[5 3 2 8 4 1 6 0 9 7]\n"
          ]
        }
      ]
    },
    {
      "cell_type": "code",
      "source": [
        "#Q8.2: Sort the banking_data by credit score (descending)\n",
        "s = banking_data[:,2]\n",
        "print(np.argsort(s))"
      ],
      "metadata": {
        "id": "A-fSnLa0uPp-",
        "colab": {
          "base_uri": "https://localhost:8080/"
        },
        "outputId": "202ce7d4-dc37-4f0b-af70-1f6b64e47dc2"
      },
      "execution_count": null,
      "outputs": [
        {
          "output_type": "stream",
          "name": "stdout",
          "text": [
            "[5 1 3 7 9 0 6 8 2 4]\n"
          ]
        }
      ]
    },
    {
      "cell_type": "code",
      "source": [
        "#Q8.3: Find the indices that would sort the array by years active\n",
        "s = banking_data[:,-1]\n",
        "print(np.argsort(s))"
      ],
      "metadata": {
        "id": "vQuYuWdAuv-f",
        "colab": {
          "base_uri": "https://localhost:8080/"
        },
        "outputId": "895696d8-4500-4573-a69f-988ab3ee9b01"
      },
      "execution_count": null,
      "outputs": [
        {
          "output_type": "stream",
          "name": "stdout",
          "text": [
            "[3 7 1 9 5 0 8 4 6 2]\n"
          ]
        }
      ]
    },
    {
      "cell_type": "code",
      "source": [
        "#Q8.4: Find the customer with the second highest account balance\n",
        "s = banking_data[:,1]\n",
        "y = np.sort(s)\n",
        "print(y[-2])"
      ],
      "metadata": {
        "id": "20Gv_D70u-vc",
        "colab": {
          "base_uri": "https://localhost:8080/"
        },
        "outputId": "8cbb30b6-55f6-4f26-ff21-d87facce1030"
      },
      "execution_count": null,
      "outputs": [
        {
          "output_type": "stream",
          "name": "stdout",
          "text": [
            "140000\n"
          ]
        }
      ]
    },
    {
      "cell_type": "code",
      "source": [
        "#Q8.5: Find the customer with the lowest transaction count\n",
        "s = banking_data[:,-2]\n",
        "r = np.argmin(s)\n",
        "print(r)"
      ],
      "metadata": {
        "id": "zy2HNwzivIi6",
        "colab": {
          "base_uri": "https://localhost:8080/"
        },
        "outputId": "fbf7bc7f-fb74-48c2-f782-42f84059df64"
      },
      "execution_count": null,
      "outputs": [
        {
          "output_type": "stream",
          "name": "stdout",
          "text": [
            "2\n"
          ]
        }
      ]
    },
    {
      "cell_type": "code",
      "source": [
        "#Question 9: Mathematical Functions\n",
        "\n",
        "\n",
        "#Q9.1: Calculate the absolute values of all elements\n",
        "s = banking_data\n",
        "print(np.abs(s))"
      ],
      "metadata": {
        "id": "j1sxqVxcvf07",
        "colab": {
          "base_uri": "https://localhost:8080/"
        },
        "outputId": "945b7b11-a9ce-4cbe-e005-71eac0870c6d"
      },
      "execution_count": null,
      "outputs": [
        {
          "output_type": "stream",
          "name": "stdout",
          "text": [
            "[[  1001  18000    745     42     15]\n",
            " [  1002  25000    632     45      8]\n",
            " [  1003  45000    878     38     22]\n",
            " [  1004  65000    712     47      5]\n",
            " [  1005  75000    895     40     18]\n",
            " [  1006  89000    628     43     12]\n",
            " [  1007  95000    756     39     20]\n",
            " [  1008 125000    718     46      7]\n",
            " [  1009 140000    867     41     16]\n",
            " [  1010 320000    734     44     10]]\n"
          ]
        }
      ]
    },
    {
      "cell_type": "code",
      "source": [
        "#Q9.2: Calculate the square root of all account balances\n",
        "s = banking_data[:,1]\n",
        "print(np.sqrt(s))\n"
      ],
      "metadata": {
        "id": "a3aDwpDvv0vw",
        "colab": {
          "base_uri": "https://localhost:8080/"
        },
        "outputId": "700e6495-8935-45f5-fd23-639a537c0171"
      },
      "execution_count": null,
      "outputs": [
        {
          "output_type": "stream",
          "name": "stdout",
          "text": [
            "[134.16407865 158.11388301 212.13203436 254.95097568 273.86127875\n",
            " 298.3286778  308.22070015 353.55339059 374.16573868 565.68542495]\n"
          ]
        }
      ]
    },
    {
      "cell_type": "code",
      "source": [
        "#Q9.3: Calculate the square of all credit scores\n",
        "\n",
        "s = banking_data[:,2]\n",
        "print(np.square(s))\n"
      ],
      "metadata": {
        "id": "qoj5sxk7wCQB",
        "colab": {
          "base_uri": "https://localhost:8080/"
        },
        "outputId": "258304ab-b11c-49ee-f95b-30d3ee67b465"
      },
      "execution_count": null,
      "outputs": [
        {
          "output_type": "stream",
          "name": "stdout",
          "text": [
            "[555025 399424 770884 506944 801025 394384 571536 515524 751689 538756]\n"
          ]
        }
      ]
    },
    {
      "cell_type": "code",
      "source": [
        "#Q9.4: Calculate the exponential of all transaction counts\n",
        "s = banking_data[:,3]\n",
        "print(np.exp(s))\n"
      ],
      "metadata": {
        "id": "VYFCbXK0wMkJ",
        "colab": {
          "base_uri": "https://localhost:8080/"
        },
        "outputId": "d288c42c-eb68-401e-c48c-e3c5983c8ecb"
      },
      "execution_count": null,
      "outputs": [
        {
          "output_type": "stream",
          "name": "stdout",
          "text": [
            "[1.73927494e+18 3.49342711e+19 3.18559318e+16 2.58131289e+20\n",
            " 2.35385267e+17 4.72783947e+18 8.65934004e+16 9.49611942e+19\n",
            " 6.39843494e+17 1.28516001e+19]\n"
          ]
        }
      ]
    },
    {
      "cell_type": "code",
      "source": [
        "#Q9.5: Calculate the natural logarithm of all account balances\n",
        "s = banking_data[:,1]\n",
        "print(np.log(s))"
      ],
      "metadata": {
        "id": "vDuoRjvVwZAr",
        "colab": {
          "base_uri": "https://localhost:8080/"
        },
        "outputId": "5234ef87-470b-4dd3-a962-ffa37b8d6cb2"
      },
      "execution_count": null,
      "outputs": [
        {
          "output_type": "stream",
          "name": "stdout",
          "text": [
            "[ 9.79812704 10.1266311  10.71441777 11.08214255 11.22524339 11.39639165\n",
            " 11.46163217 11.73606902 11.8493977  12.67607627]\n"
          ]
        }
      ]
    },
    {
      "cell_type": "code",
      "source": [
        "#Question 10: Advanced Operations\n",
        "\n",
        "\n",
        "\n",
        "#Q10.1: Calculate the cumulative sum of account balances\n",
        "s = banking_data[:,1]\n",
        "print(np.cumsum(s))"
      ],
      "metadata": {
        "id": "ORQcYByqwkS5",
        "colab": {
          "base_uri": "https://localhost:8080/"
        },
        "outputId": "33844acd-1c34-444a-9af2-6b96399bf74f"
      },
      "execution_count": null,
      "outputs": [
        {
          "output_type": "stream",
          "name": "stdout",
          "text": [
            "[ 18000  43000  88000 153000 228000 317000 412000 537000 677000 997000]\n"
          ]
        }
      ]
    },
    {
      "cell_type": "code",
      "source": [
        "#Q10.2: Calculate the cumulative product of transaction counts\n",
        "s = banking_data[:,3]\n",
        "print(np.cumprod(s))"
      ],
      "metadata": {
        "colab": {
          "base_uri": "https://localhost:8080/"
        },
        "id": "_B09BeUsv73F",
        "outputId": "ef27a358-647c-4637-888d-87693df9ef1b"
      },
      "execution_count": null,
      "outputs": [
        {
          "output_type": "stream",
          "name": "stdout",
          "text": [
            "[               42              1890             71820           3375540\n",
            "         135021600        5805928800      226431223200    10415836267200\n",
            "   427049286955200 18790168626028800]\n"
          ]
        }
      ]
    },
    {
      "cell_type": "code",
      "source": [
        "#Q10.3: Calculate the difference between consecutive account balances\n",
        "s = banking_data[:,1]\n",
        "print(np.diff(s))"
      ],
      "metadata": {
        "colab": {
          "base_uri": "https://localhost:8080/"
        },
        "id": "u59cjuSSwMkz",
        "outputId": "6bfdf3f9-1a1b-47c8-c30d-502fd78008fc"
      },
      "execution_count": null,
      "outputs": [
        {
          "output_type": "stream",
          "name": "stdout",
          "text": [
            "[  7000  20000  20000  10000  14000   6000  30000  15000 180000]\n"
          ]
        }
      ]
    },
    {
      "cell_type": "code",
      "source": [
        "#Q10.4: Calculate the gradient of account balances\n",
        "s = banking_data[:,1]\n",
        "print(np.gradient(s))"
      ],
      "metadata": {
        "colab": {
          "base_uri": "https://localhost:8080/"
        },
        "id": "kChjKLqWwV2u",
        "outputId": "efe40095-3aa5-4bd2-cce0-2c08f98bc809"
      },
      "execution_count": null,
      "outputs": [
        {
          "output_type": "stream",
          "name": "stdout",
          "text": [
            "[  7000.  13500.  20000.  15000.  12000.  10000.  18000.  22500.  97500.\n",
            " 180000.]\n"
          ]
        }
      ]
    },
    {
      "cell_type": "code",
      "source": [
        "#Q10.5: Calculate the histogram of account balances with 5 bins\n",
        "s,r = np.histogram(banking_data[:,1],bins=5)\n",
        "print(s,r)"
      ],
      "metadata": {
        "colab": {
          "base_uri": "https://localhost:8080/"
        },
        "id": "gAW-LWNqwgud",
        "outputId": "25c02e64-7f49-40cd-afbf-7389b663fcdf"
      },
      "execution_count": null,
      "outputs": [
        {
          "output_type": "stream",
          "name": "stdout",
          "text": [
            "[5 3 1 0 1] [ 18000.  78400. 138800. 199200. 259600. 320000.]\n"
          ]
        }
      ]
    },
    {
      "cell_type": "code",
      "source": [
        "#Question 11: Random Numbers and Simulation\n",
        "\n",
        "\n",
        "#Q11.1: Generate 6 random integers between 1 and 1000\n",
        "s = np.random.randint(1,1001,6)\n",
        "print(s)"
      ],
      "metadata": {
        "colab": {
          "base_uri": "https://localhost:8080/"
        },
        "id": "wsZ9X5zw58Su",
        "outputId": "c3d572aa-b095-4e93-b3aa-039e00165396"
      },
      "execution_count": null,
      "outputs": [
        {
          "output_type": "stream",
          "name": "stdout",
          "text": [
            "[618 684 723 327 726 906]\n"
          ]
        }
      ]
    },
    {
      "cell_type": "code",
      "source": [
        "#Q11.2: Generate 6 random floats between 0 and 1\n",
        "s = np.random.random(6)\n",
        "print(s)"
      ],
      "metadata": {
        "colab": {
          "base_uri": "https://localhost:8080/"
        },
        "id": "ZAtv24NI58Hx",
        "outputId": "70be2f8c-2e81-41ab-f18d-9ddda59d55f4"
      },
      "execution_count": null,
      "outputs": [
        {
          "output_type": "stream",
          "name": "stdout",
          "text": [
            "[0.22005927 0.9020154  0.54545147 0.23875036 0.2176603  0.52006391]\n"
          ]
        }
      ]
    },
    {
      "cell_type": "code",
      "source": [
        "#Q11.3: Generate 6 random numbers from normal distribution (mean=700, std=100)\n",
        "s = np.random.normal(700,100,6)\n",
        "print(s)\n"
      ],
      "metadata": {
        "colab": {
          "base_uri": "https://localhost:8080/"
        },
        "id": "uI6MMEL358ET",
        "outputId": "a0e7abf6-0db8-4afc-a994-36910071c2ab"
      },
      "execution_count": null,
      "outputs": [
        {
          "output_type": "stream",
          "name": "stdout",
          "text": [
            "[648.95686887 579.85859722 753.08550033 658.11733638 816.38776051\n",
            " 689.33319029]\n"
          ]
        }
      ]
    },
    {
      "cell_type": "code",
      "source": [
        "#Q11.4: Shuffle the banking_data rows randomly\n",
        "s = banking_data.copy()\n",
        "np.random.shuffle(s)\n",
        "print(s)\n"
      ],
      "metadata": {
        "colab": {
          "base_uri": "https://localhost:8080/"
        },
        "id": "Ffcc7u9K578R",
        "outputId": "70ef6916-68f7-46b5-e4a9-966750f80895"
      },
      "execution_count": null,
      "outputs": [
        {
          "output_type": "stream",
          "name": "stdout",
          "text": [
            "[[  1002  25000    632     45      8]\n",
            " [  1006  89000    628     43     12]\n",
            " [  1004  65000    712     47      5]\n",
            " [  1007  95000    756     39     20]\n",
            " [  1001  18000    745     42     15]\n",
            " [  1003  45000    878     38     22]\n",
            " [  1008 125000    718     46      7]\n",
            " [  1010 320000    734     44     10]\n",
            " [  1005  75000    895     40     18]\n",
            " [  1009 140000    867     41     16]]\n"
          ]
        }
      ]
    },
    {
      "cell_type": "code",
      "source": [
        "#Q11.5: Set random seed to 123 and generate 4 random numbers\n",
        "np.random.seed(123)\n",
        "s = np.random.random(4)\n",
        "print(s)"
      ],
      "metadata": {
        "colab": {
          "base_uri": "https://localhost:8080/"
        },
        "id": "E2i1RXLG57dO",
        "outputId": "4264380c-4df9-4ae1-d720-a940c0b84012"
      },
      "execution_count": null,
      "outputs": [
        {
          "output_type": "stream",
          "name": "stdout",
          "text": [
            "[0.69646919 0.28613933 0.22685145 0.55131477]\n"
          ]
        }
      ]
    },
    {
      "cell_type": "code",
      "source": [
        "#Question 12: Linear Algebra\n",
        "\n",
        "\n",
        "\n",
        "#Q12.1: Calculate the dot product of account balance and credit score columns\n",
        "s = banking_data[:, 1]\n",
        "r = banking_data[:, 2]\n",
        "print(np.dot(s, r))\n"
      ],
      "metadata": {
        "colab": {
          "base_uri": "https://localhost:8080/"
        },
        "id": "WxnedKnGBdbU",
        "outputId": "edcacfb7-31e2-41e1-8097-85b8b48b56e5"
      },
      "execution_count": null,
      "outputs": [
        {
          "output_type": "stream",
          "name": "stdout",
          "text": [
            "755847000\n"
          ]
        }
      ]
    },
    {
      "cell_type": "code",
      "source": [
        "#Q12.2: Calculate the cross product of first two rows\n",
        "s = banking_data[0,:3]\n",
        "r = banking_data[1,:3]\n",
        "print(np.cross(s,r))"
      ],
      "metadata": {
        "colab": {
          "base_uri": "https://localhost:8080/"
        },
        "id": "RlyPR2nUBdPI",
        "outputId": "0d39a878-6ed5-4234-ccf2-93813e2fa81b"
      },
      "execution_count": null,
      "outputs": [
        {
          "output_type": "stream",
          "name": "stdout",
          "text": [
            "[-7249000   113858  6989000]\n"
          ]
        }
      ]
    },
    {
      "cell_type": "code",
      "source": [
        "#Q12.3: Calculate the norm (magnitude) of the account balance column\n",
        "s = banking_data[:,1]\n",
        "print(np.linalg.norm(s))\n"
      ],
      "metadata": {
        "colab": {
          "base_uri": "https://localhost:8080/"
        },
        "id": "lzFBypqiBdC2",
        "outputId": "6549a0f3-0df8-4b3c-f268-0d4e9ed3b157"
      },
      "execution_count": null,
      "outputs": [
        {
          "output_type": "stream",
          "name": "stdout",
          "text": [
            "409139.34056748933\n"
          ]
        }
      ]
    },
    {
      "cell_type": "code",
      "source": [
        "#Q12.4: Create a 3x3 matrix and calculate its determinant\n",
        "s = np.array([[1, 4, 3], [2, 5, 6], [5, 8, 9]])\n",
        "r = np.linalg.det(s)\n",
        "print(r)\n"
      ],
      "metadata": {
        "colab": {
          "base_uri": "https://localhost:8080/"
        },
        "id": "Z1HMJ4a6Bc3Z",
        "outputId": "3d88ce46-7b9f-4432-f2cd-ae52301ada21"
      },
      "execution_count": null,
      "outputs": [
        {
          "output_type": "stream",
          "name": "stdout",
          "text": [
            "17.999999999999996\n"
          ]
        }
      ]
    },
    {
      "cell_type": "code",
      "source": [
        "#Q12.5: Calculate the inverse of the 3x3 matrix\n",
        "x = np.linalg.inv(s)\n",
        "print(x)"
      ],
      "metadata": {
        "colab": {
          "base_uri": "https://localhost:8080/"
        },
        "id": "AUfyRtT1BcnI",
        "outputId": "f45e3f6a-011c-4038-a13d-d5b79210528c"
      },
      "execution_count": null,
      "outputs": [
        {
          "output_type": "stream",
          "name": "stdout",
          "text": [
            "[[-1.66666667e-01 -6.66666667e-01  5.00000000e-01]\n",
            " [ 6.66666667e-01 -3.33333333e-01 -1.15648232e-17]\n",
            " [-5.00000000e-01  6.66666667e-01 -1.66666667e-01]]\n"
          ]
        }
      ]
    },
    {
      "cell_type": "code",
      "source": [
        "#Question 13: String Operations\n",
        "\n",
        "\n",
        "#Q13.1: Convert all customer IDs to strings\n",
        "s = banking_data[:,0].astype(str)\n",
        "print(s)"
      ],
      "metadata": {
        "colab": {
          "base_uri": "https://localhost:8080/"
        },
        "id": "L51vO75RuH7J",
        "outputId": "5b170b2c-37d1-4418-e4ef-39188ea71c76"
      },
      "execution_count": null,
      "outputs": [
        {
          "output_type": "stream",
          "name": "stdout",
          "text": [
            "['1001' '1002' '1003' '1004' '1005' '1006' '1007' '1008' '1009' '1010']\n"
          ]
        }
      ]
    },
    {
      "cell_type": "code",
      "source": [
        "#Q13.2: Check if any customer ID contains '100'\n",
        "r = banking_data[:, 0].astype(str)\n",
        "k = np.char.find(r, '100')\n",
        "print(r,k)"
      ],
      "metadata": {
        "colab": {
          "base_uri": "https://localhost:8080/"
        },
        "id": "wxVl2qSduHtX",
        "outputId": "fd8da355-13ba-4ec4-a332-51681d8d9916"
      },
      "execution_count": null,
      "outputs": [
        {
          "output_type": "stream",
          "name": "stdout",
          "text": [
            "['1001' '1002' '1003' '1004' '1005' '1006' '1007' '1008' '1009' '1010'] [ 0  0  0  0  0  0  0  0  0 -1]\n"
          ]
        }
      ]
    },
    {
      "cell_type": "code",
      "source": [
        "#Q13.3: Convert all customer IDs to uppercase (if they were strings)\n",
        "j = np.char.upper(r)\n",
        "print(j)\n"
      ],
      "metadata": {
        "colab": {
          "base_uri": "https://localhost:8080/"
        },
        "id": "i5XETWMruHcq",
        "outputId": "9dfff676-11a7-459a-dc0e-a07a535a3e17"
      },
      "execution_count": null,
      "outputs": [
        {
          "output_type": "stream",
          "name": "stdout",
          "text": [
            "['1001' '1002' '1003' '1004' '1005' '1006' '1007' '1008' '1009' '1010']\n"
          ]
        }
      ]
    },
    {
      "cell_type": "code",
      "source": [
        "#Q13.4: Count the length of each customer ID string\n",
        "j = np.char.str_len(r)\n",
        "print(j)"
      ],
      "metadata": {
        "colab": {
          "base_uri": "https://localhost:8080/"
        },
        "id": "wVgF2FPyuHOc",
        "outputId": "d0d59d4a-efe0-4700-80e8-310e9e458849"
      },
      "execution_count": null,
      "outputs": [
        {
          "output_type": "stream",
          "name": "stdout",
          "text": [
            "[4 4 4 4 4 4 4 4 4 4]\n"
          ]
        }
      ]
    },
    {
      "cell_type": "code",
      "source": [
        "#Q13.5: Replace '100' with 'CUST' in customer IDs\n",
        "k = np.char.replace(r,'100','CUST')\n",
        "print(k)"
      ],
      "metadata": {
        "colab": {
          "base_uri": "https://localhost:8080/"
        },
        "id": "TuycnMEmuG3h",
        "outputId": "c0357fba-3071-4f0e-a69d-09c55a84ed92"
      },
      "execution_count": null,
      "outputs": [
        {
          "output_type": "stream",
          "name": "stdout",
          "text": [
            "['CUST1' 'CUST2' 'CUST3' 'CUST4' 'CUST5' 'CUST6' 'CUST7' 'CUST8' 'CUST9'\n",
            " '1010']\n"
          ]
        }
      ]
    },
    {
      "cell_type": "code",
      "source": [
        "#Question 14: Date and Time Operations\n",
        "\n",
        "\n",
        "#Q14.1: Convert years active to months\n",
        "s = banking_data[:,-1] * 12\n",
        "print(s)"
      ],
      "metadata": {
        "colab": {
          "base_uri": "https://localhost:8080/"
        },
        "id": "V7nkHVtS1zTZ",
        "outputId": "b10adb67-0817-40b2-8685-fa5ca517f289"
      },
      "execution_count": null,
      "outputs": [
        {
          "output_type": "stream",
          "name": "stdout",
          "text": [
            "[180  96 264  60 216 144 240  84 192 120]\n"
          ]
        }
      ]
    },
    {
      "cell_type": "code",
      "source": [
        "#Q14.2: Calculate the average years active\n",
        "s = banking_data[:,-1]\n",
        "print(np.mean(s))\n"
      ],
      "metadata": {
        "colab": {
          "base_uri": "https://localhost:8080/"
        },
        "id": "RpLvhwYs1zGf",
        "outputId": "bd8236d0-fe8d-4d28-f79e-94c99c8e0053"
      },
      "execution_count": null,
      "outputs": [
        {
          "output_type": "stream",
          "name": "stdout",
          "text": [
            "13.3\n"
          ]
        }
      ]
    },
    {
      "cell_type": "code",
      "source": [
        "#Q14.3: Find customers who have been active for more than 5 years\n",
        "s = banking_data[:,-1]>5\n",
        "r = tuple(s)\n",
        "print(r.count(True))"
      ],
      "metadata": {
        "colab": {
          "base_uri": "https://localhost:8080/"
        },
        "id": "IFjgN2WN1y6_",
        "outputId": "647f3f43-dd9d-4a67-da48-b415dee94cbd"
      },
      "execution_count": null,
      "outputs": [
        {
          "output_type": "stream",
          "name": "stdout",
          "text": [
            "9\n"
          ]
        }
      ]
    },
    {
      "cell_type": "code",
      "source": [
        "#Q14.4: Calculate the total time all customers have been active (in years)\n",
        "s = banking_data[:,-1]\n",
        "print(np.sum(s))"
      ],
      "metadata": {
        "colab": {
          "base_uri": "https://localhost:8080/"
        },
        "id": "kqhDyIzL1yv3",
        "outputId": "07171ec5-d834-49ad-b320-bbc244ff57e4"
      },
      "execution_count": null,
      "outputs": [
        {
          "output_type": "stream",
          "name": "stdout",
          "text": [
            "133\n"
          ]
        }
      ]
    },
    {
      "cell_type": "code",
      "source": [
        "#Q14.5: Find the customer with the shortest time active\n",
        "s = banking_data[:, -1]\n",
        "r = np.argmin(s)\n",
        "print (s,r)\n",
        "\n",
        "\n"
      ],
      "metadata": {
        "colab": {
          "base_uri": "https://localhost:8080/"
        },
        "id": "7LGYgDqu1yi6",
        "outputId": "68b0673c-7952-4b5c-d37f-a57d69a6a4d4"
      },
      "execution_count": null,
      "outputs": [
        {
          "output_type": "stream",
          "name": "stdout",
          "text": [
            "[15  8 22  5 18 12 20  7 16 10] 3\n"
          ]
        }
      ]
    },
    {
      "cell_type": "code",
      "source": [
        "#Question 15: Advanced Array Operations\n",
        "\n",
        "\n",
        "#Q15.1: Apply a function to calculate 5% interest on all account balances\n",
        "s= banking_data[:, 1]\n",
        "y=0.05*s\n",
        "print(y)\n"
      ],
      "metadata": {
        "id": "luk09QH627bV",
        "colab": {
          "base_uri": "https://localhost:8080/"
        },
        "outputId": "df259435-913a-452d-c17b-891d22525580"
      },
      "execution_count": null,
      "outputs": [
        {
          "output_type": "stream",
          "name": "stdout",
          "text": [
            "[ 6250.  4450.  2250.  1250.  3750.   900.  4750. 16000.  3250.  7000.]\n"
          ]
        }
      ]
    },
    {
      "cell_type": "code",
      "source": [
        "#Q15.2: Use np.where to categorize customers by balance ranges\n",
        "s = banking_data[:, 1]\n",
        "x = np.where(s > 100000, 'High', np.where(s < 1000, 'Low', 'Medium'))\n",
        "print(x)"
      ],
      "metadata": {
        "id": "f1n-F04g27Dy",
        "colab": {
          "base_uri": "https://localhost:8080/"
        },
        "outputId": "644a7722-006d-44c7-f0fa-79a968f27b63"
      },
      "execution_count": null,
      "outputs": [
        {
          "output_type": "stream",
          "name": "stdout",
          "text": [
            "['High' 'Medium' 'Medium' 'Medium' 'Medium' 'Medium' 'Medium' 'High'\n",
            " 'Medium' 'High']\n"
          ]
        }
      ]
    },
    {
      "cell_type": "code",
      "source": [
        "#Q15.3: Use np.select to categorize customers by credit score ranges\n",
        "s = banking_data[:, 2]\n",
        "x = np.select([s > 800, s < 300], ['High', 'Low'], default='Medium')\n",
        "print(x)\n"
      ],
      "metadata": {
        "id": "AaTw9n8A26sj",
        "colab": {
          "base_uri": "https://localhost:8080/"
        },
        "outputId": "85ff23d2-e99a-4fe5-e437-40e5b21c65ed"
      },
      "execution_count": null,
      "outputs": [
        {
          "output_type": "stream",
          "name": "stdout",
          "text": [
            "['Medium' 'Medium' 'High' 'Medium' 'High' 'Medium' 'Medium' 'Medium'\n",
            " 'High' 'Medium']\n"
          ]
        }
      ]
    },
    {
      "cell_type": "code",
      "source": [
        "#Q15.4: Use np.piecewise to apply different interest rates based on balance\n",
        "\n"
      ],
      "metadata": {
        "id": "nZrjuadG26Zy"
      },
      "execution_count": null,
      "outputs": []
    },
    {
      "cell_type": "code",
      "source": [
        "#Q15.5: Use np.apply_along_axis to calculate the sum of each row\n",
        "s = np.apply_along_axis( np.sum,1,banking_data)\n",
        "print(s)"
      ],
      "metadata": {
        "id": "xxxfqyWn26Fw",
        "colab": {
          "base_uri": "https://localhost:8080/"
        },
        "outputId": "5d725473-04e8-4c77-a55e-00632d8ae356"
      },
      "execution_count": 8,
      "outputs": [
        {
          "output_type": "stream",
          "name": "stdout",
          "text": [
            "[126803  90687  46941  26768  76958  19689  96822 321779  66933 141798]\n"
          ]
        }
      ]
    },
    {
      "cell_type": "code",
      "source": [
        "#Question 16: Array Concatenation and Stacking\n",
        "\n",
        "\n",
        "#Q16.1: Concatenate two arrays horizontally using np.hstack()\n",
        "s=banking_data[:,0]\n",
        "r=banking_data[:,1]\n",
        "x=np.hstack((s,r))\n",
        "print(x)"
      ],
      "metadata": {
        "colab": {
          "base_uri": "https://localhost:8080/"
        },
        "id": "sqxZ10UUwBea",
        "outputId": "98b34324-9697-4cbb-e1a6-36d9290c0be7"
      },
      "execution_count": null,
      "outputs": [
        {
          "output_type": "stream",
          "name": "stdout",
          "text": [
            "[  1001   1002   1003   1004   1005   1006   1007   1008   1009   1010\n",
            " 125000  89000  45000  25000  75000  18000  95000 320000  65000 140000]\n"
          ]
        }
      ]
    },
    {
      "cell_type": "code",
      "source": [
        "#Q16.2: Concatenate two arrays vertically using np.vstack()\n",
        "s=banking_data[:,0]\n",
        "r=banking_data[:,1]\n",
        "x=np.vstack((s,r))\n",
        "print(x)"
      ],
      "metadata": {
        "colab": {
          "base_uri": "https://localhost:8080/"
        },
        "id": "OWPZCDRSwWLI",
        "outputId": "25e16139-f89a-45ed-8191-d34d85971b3c"
      },
      "execution_count": null,
      "outputs": [
        {
          "output_type": "stream",
          "name": "stdout",
          "text": [
            "[[  1001   1002   1003   1004   1005   1006   1007   1008   1009   1010]\n",
            " [125000  89000  45000  25000  75000  18000  95000 320000  65000 140000]]\n"
          ]
        }
      ]
    },
    {
      "cell_type": "code",
      "source": [
        "#Q16.3: Concatenate arrays along a specific axis using np.concatenate()\n",
        "s=banking_data[:,0]\n",
        "r=banking_data[:,1]\n",
        "x=np.concatenate((s,r))\n",
        "print(x)"
      ],
      "metadata": {
        "colab": {
          "base_uri": "https://localhost:8080/"
        },
        "id": "en6AnaGywbgb",
        "outputId": "568a8061-55e6-4596-87b2-0309b5aa8041"
      },
      "execution_count": null,
      "outputs": [
        {
          "output_type": "stream",
          "name": "stdout",
          "text": [
            "[  1001   1002   1003   1004   1005   1006   1007   1008   1009   1010\n",
            " 125000  89000  45000  25000  75000  18000  95000 320000  65000 140000]\n"
          ]
        }
      ]
    },
    {
      "cell_type": "code",
      "source": [
        "#Q16.4: Stack arrays depth-wise using np.dstack()\n",
        "s=banking_data[:,0]\n",
        "r=banking_data[:,1]\n",
        "x=np.dstack((s,r))\n",
        "print(x)"
      ],
      "metadata": {
        "colab": {
          "base_uri": "https://localhost:8080/"
        },
        "id": "PTFBZbtZxRod",
        "outputId": "85644f51-6b4d-4335-aedc-ee5510b8627a"
      },
      "execution_count": null,
      "outputs": [
        {
          "output_type": "stream",
          "name": "stdout",
          "text": [
            "[[[  1001 125000]\n",
            "  [  1002  89000]\n",
            "  [  1003  45000]\n",
            "  [  1004  25000]\n",
            "  [  1005  75000]\n",
            "  [  1006  18000]\n",
            "  [  1007  95000]\n",
            "  [  1008 320000]\n",
            "  [  1009  65000]\n",
            "  [  1010 140000]]]\n"
          ]
        }
      ]
    },
    {
      "cell_type": "code",
      "source": [
        "#Q16.5: Create a column stack using np.column_stack()\n",
        "s=banking_data[:,0]\n",
        "r=banking_data[:,1]\n",
        "x=np.column_stack((s,r))\n",
        "print(x)"
      ],
      "metadata": {
        "colab": {
          "base_uri": "https://localhost:8080/"
        },
        "id": "TWe6xDX0xT2H",
        "outputId": "129a8ca1-9bbe-4471-8810-d1183deead23"
      },
      "execution_count": null,
      "outputs": [
        {
          "output_type": "stream",
          "name": "stdout",
          "text": [
            "[[  1001 125000]\n",
            " [  1002  89000]\n",
            " [  1003  45000]\n",
            " [  1004  25000]\n",
            " [  1005  75000]\n",
            " [  1006  18000]\n",
            " [  1007  95000]\n",
            " [  1008 320000]\n",
            " [  1009  65000]\n",
            " [  1010 140000]]\n"
          ]
        }
      ]
    },
    {
      "cell_type": "code",
      "source": [
        "#Question 17: Array Splitting Operations\n",
        "\n",
        "\n",
        "#Q17.1: Split an array into 3 equal parts using np.split()\n",
        "s=banking_data[:,1]\n",
        "r=np.array_split(s,3)\n",
        "print(r)"
      ],
      "metadata": {
        "colab": {
          "base_uri": "https://localhost:8080/"
        },
        "id": "1hLj6IBqxfHu",
        "outputId": "dd68e4b0-1a60-4115-8c7c-df20f52cc8ab"
      },
      "execution_count": null,
      "outputs": [
        {
          "output_type": "stream",
          "name": "stdout",
          "text": [
            "[array([125000,  89000,  45000,  25000]), array([75000, 18000, 95000]), array([320000,  65000, 140000])]\n"
          ]
        }
      ]
    },
    {
      "cell_type": "code",
      "source": [
        "#Q17.2: Split an array at specific indices using np.split()\n",
        "s=banking_data[:,1]\n",
        "r=np.split(s,[3,7])\n",
        "print(r)"
      ],
      "metadata": {
        "colab": {
          "base_uri": "https://localhost:8080/"
        },
        "id": "QJjXR01pyDnJ",
        "outputId": "84e08e7a-572e-423d-f0c9-9ab4bfe61f5c"
      },
      "execution_count": null,
      "outputs": [
        {
          "output_type": "stream",
          "name": "stdout",
          "text": [
            "[array([125000,  89000,  45000]), array([25000, 75000, 18000, 95000]), array([320000,  65000, 140000])]\n"
          ]
        }
      ]
    },
    {
      "cell_type": "code",
      "source": [
        "#Q17.3: Split an array horizontally using np.hsplit()\n",
        "s=banking_data[:,1]\n",
        "r=np.hsplit(s,2)\n",
        "print(r)"
      ],
      "metadata": {
        "colab": {
          "base_uri": "https://localhost:8080/"
        },
        "id": "-b8lev1UyRRF",
        "outputId": "56ca5fa5-b040-4c96-96b7-c4d3e6893683"
      },
      "execution_count": null,
      "outputs": [
        {
          "output_type": "stream",
          "name": "stdout",
          "text": [
            "[array([125000,  89000,  45000,  25000,  75000]), array([ 18000,  95000, 320000,  65000, 140000])]\n"
          ]
        }
      ]
    },
    {
      "cell_type": "code",
      "source": [
        "#Q17.4: Split an array vertically using np.vsplit()\n",
        "s=banking_data[:,1]\n",
        "r=banking_data[:,2]\n",
        "k=np.vstack((s,r))\n",
        "print(k)"
      ],
      "metadata": {
        "colab": {
          "base_uri": "https://localhost:8080/"
        },
        "id": "XIqgInz2ybFL",
        "outputId": "0874a406-1d44-49ec-c193-915d15a7e6f6"
      },
      "execution_count": null,
      "outputs": [
        {
          "output_type": "stream",
          "name": "stdout",
          "text": [
            "[[125000  89000  45000  25000  75000  18000  95000 320000  65000 140000]\n",
            " [   745    632    878    712    895    628    756    718    867    734]]\n"
          ]
        }
      ]
    },
    {
      "cell_type": "code",
      "source": [
        "#Q17.5: Split an array into equal chunks using np.array_split()\n",
        "s=banking_data[:,1]\n",
        "r= np.array_split(s, 4)\n",
        "print(r)"
      ],
      "metadata": {
        "colab": {
          "base_uri": "https://localhost:8080/"
        },
        "id": "uucj1tsUylRD",
        "outputId": "2e1c515c-8fc4-4beb-cde2-0bd05df22047"
      },
      "execution_count": null,
      "outputs": [
        {
          "output_type": "stream",
          "name": "stdout",
          "text": [
            "[array([125000,  89000,  45000]), array([25000, 75000, 18000]), array([ 95000, 320000]), array([ 65000, 140000])]\n"
          ]
        }
      ]
    },
    {
      "cell_type": "code",
      "source": [
        "#Question 18: Array Repetition and Tiling\n",
        "\n",
        "\n",
        "\n",
        "#Q18.1: Repeat each element of an array 3 times using np.repeat()\n",
        "s=banking_data[:,1]\n",
        "r=np.repeat(s,3)\n",
        "print(r)"
      ],
      "metadata": {
        "colab": {
          "base_uri": "https://localhost:8080/"
        },
        "id": "S5DVVa-ryty-",
        "outputId": "27193a3d-0796-47c9-ba1d-324c6ea3fe88"
      },
      "execution_count": null,
      "outputs": [
        {
          "output_type": "stream",
          "name": "stdout",
          "text": [
            "[125000 125000 125000  89000  89000  89000  45000  45000  45000  25000\n",
            "  25000  25000  75000  75000  75000  18000  18000  18000  95000  95000\n",
            "  95000 320000 320000 320000  65000  65000  65000 140000 140000 140000]\n"
          ]
        }
      ]
    },
    {
      "cell_type": "code",
      "source": [
        "#Q18.2: Repeat an entire array 2 times using np.tile()\n",
        "s=banking_data[:,1]\n",
        "r=np.tile(s,2)\n",
        "print(r)"
      ],
      "metadata": {
        "colab": {
          "base_uri": "https://localhost:8080/"
        },
        "id": "HF9ReHDYyySR",
        "outputId": "206ab437-0bc2-4d33-b3af-015bc872006c"
      },
      "execution_count": null,
      "outputs": [
        {
          "output_type": "stream",
          "name": "stdout",
          "text": [
            "[125000  89000  45000  25000  75000  18000  95000 320000  65000 140000\n",
            " 125000  89000  45000  25000  75000  18000  95000 320000  65000 140000]\n"
          ]
        }
      ]
    },
    {
      "cell_type": "code",
      "source": [
        "#Q18.3: Repeat a 2D array using np.tile()\n",
        "s=banking_data[:,1]\n",
        "r=s.reshape(1,-1)\n",
        "k=np.tile(r,(2,2))\n",
        "print(k)"
      ],
      "metadata": {
        "colab": {
          "base_uri": "https://localhost:8080/"
        },
        "id": "6ez4hI7by9Wf",
        "outputId": "e310602f-b0b7-4d5b-c15f-59b53cf143e6"
      },
      "execution_count": null,
      "outputs": [
        {
          "output_type": "stream",
          "name": "stdout",
          "text": [
            "[[125000  89000  45000  25000  75000  18000  95000 320000  65000 140000\n",
            "  125000  89000  45000  25000  75000  18000  95000 320000  65000 140000]\n",
            " [125000  89000  45000  25000  75000  18000  95000 320000  65000 140000\n",
            "  125000  89000  45000  25000  75000  18000  95000 320000  65000 140000]]\n"
          ]
        }
      ]
    },
    {
      "cell_type": "code",
      "source": [
        "#Q18.4: Create a pattern using np.tile()\n",
        "s=banking_data[:,1]\n",
        "r=np.tile(s,1)\n",
        "print(r)"
      ],
      "metadata": {
        "colab": {
          "base_uri": "https://localhost:8080/"
        },
        "id": "KJ2SfyewzWBP",
        "outputId": "b51806ea-2d23-46c2-b2bc-f127c31c02ce"
      },
      "execution_count": null,
      "outputs": [
        {
          "output_type": "stream",
          "name": "stdout",
          "text": [
            "[125000  89000  45000  25000  75000  18000  95000 320000  65000 140000]\n"
          ]
        }
      ]
    },
    {
      "cell_type": "code",
      "source": [
        "#Q18.5: Repeat elements with different counts using np.repeat()\n",
        "s=banking_data[:,1]\n",
        "r=[1,2,3,1,3,3,2,1,1,1]\n",
        "k=np.repeat(s,r)\n",
        "print(k)"
      ],
      "metadata": {
        "colab": {
          "base_uri": "https://localhost:8080/"
        },
        "id": "hC_XKkKMzefc",
        "outputId": "c751e24f-c5a5-4ade-a7b9-9c819ad713cd"
      },
      "execution_count": null,
      "outputs": [
        {
          "output_type": "stream",
          "name": "stdout",
          "text": [
            "[125000  89000  89000  45000  45000  45000  25000  75000  75000  75000\n",
            "  18000  18000  18000  95000  95000 320000  65000 140000]\n"
          ]
        }
      ]
    },
    {
      "cell_type": "code",
      "source": [
        "#Question 19: Array Comparison and Logical Operations\n",
        "#Q19.1: Compare two arrays for equality using np.array_equal()\n",
        "array1 = np.array([4,5,6])\n",
        "array2 = np.array([7,8,9])\n",
        "s = np.array_equal(array1,array2)\n",
        "print(s)\n"
      ],
      "metadata": {
        "colab": {
          "base_uri": "https://localhost:8080/"
        },
        "id": "GhAquselLpOM",
        "outputId": "b98c469c-7685-4c07-9b51-d01adcbb82e1"
      },
      "execution_count": 13,
      "outputs": [
        {
          "output_type": "stream",
          "name": "stdout",
          "text": [
            "False\n"
          ]
        }
      ]
    },
    {
      "cell_type": "code",
      "source": [
        "#Q19.2: Check if arrays are close using np.allclose()\n",
        "s = np.allclose(array1,array2)\n",
        "print(s)"
      ],
      "metadata": {
        "colab": {
          "base_uri": "https://localhost:8080/"
        },
        "id": "fk0lme3sLpKp",
        "outputId": "16b6f08f-a5a0-45b5-9362-1a860c416695"
      },
      "execution_count": 14,
      "outputs": [
        {
          "output_type": "stream",
          "name": "stdout",
          "text": [
            "False\n"
          ]
        }
      ]
    },
    {
      "cell_type": "code",
      "source": [
        "#Q19.3: Apply logical AND operation between arrays\n",
        "s = np.logical_and(array1 > 4, array2 > 7)\n",
        "print(s)"
      ],
      "metadata": {
        "colab": {
          "base_uri": "https://localhost:8080/"
        },
        "id": "jeDaCoKxLpHO",
        "outputId": "eb49c201-f6ad-477c-e151-bffc97ad9ada"
      },
      "execution_count": 25,
      "outputs": [
        {
          "output_type": "stream",
          "name": "stdout",
          "text": [
            "[False  True  True]\n"
          ]
        }
      ]
    },
    {
      "cell_type": "code",
      "source": [
        "#Q19.4: Apply logical OR operation between arrays\n",
        "s = np.logical_or(array1 > 4, array2 > 7)\n",
        "print(s)"
      ],
      "metadata": {
        "colab": {
          "base_uri": "https://localhost:8080/"
        },
        "id": "Qi0Efx8aLpDh",
        "outputId": "e71c3d33-d6b6-43b7-a43b-649de34211ce"
      },
      "execution_count": 26,
      "outputs": [
        {
          "output_type": "stream",
          "name": "stdout",
          "text": [
            "[False  True  True]\n"
          ]
        }
      ]
    },
    {
      "cell_type": "code",
      "source": [
        "#Q19.5: Apply logical NOT operation to an array\n",
        "s = np.logical_not(array1 == 4)\n",
        "print(s)"
      ],
      "metadata": {
        "colab": {
          "base_uri": "https://localhost:8080/"
        },
        "id": "DyyfLVC9LpAO",
        "outputId": "575aca0e-6f9e-4fcc-be45-9c1ffac6a55a"
      },
      "execution_count": 27,
      "outputs": [
        {
          "output_type": "stream",
          "name": "stdout",
          "text": [
            "[False  True  True]\n"
          ]
        }
      ]
    },
    {
      "cell_type": "code",
      "source": [
        "#Question 20: Array Set Operations\n",
        "\n",
        "\n",
        "#Q20.1: Find unique elements in an array using np.unique()\n",
        "s = np.array([1,1,4,3,3,5,6,6,8])\n",
        "print(np.unique(s))\n"
      ],
      "metadata": {
        "colab": {
          "base_uri": "https://localhost:8080/"
        },
        "id": "-UnDfEI_Lo0a",
        "outputId": "bf1138d1-c38e-45d2-d883-859eb1a99a1b"
      },
      "execution_count": 28,
      "outputs": [
        {
          "output_type": "stream",
          "name": "stdout",
          "text": [
            "[1 3 4 5 6 8]\n"
          ]
        }
      ]
    },
    {
      "cell_type": "code",
      "source": [
        "#Q20.2: Find the intersection of two arrays using np.intersect1d()\n",
        "array1 = np.array([3,4,5])\n",
        "array2 = np.array([4,7,8])\n",
        "s = np.intersect1d(array1,array2)\n",
        "print(s)"
      ],
      "metadata": {
        "colab": {
          "base_uri": "https://localhost:8080/"
        },
        "id": "rAHt0HvgEOS1",
        "outputId": "3e3b6c6e-d034-4128-b24a-4bf62687c535"
      },
      "execution_count": 33,
      "outputs": [
        {
          "output_type": "stream",
          "name": "stdout",
          "text": [
            "[4]\n"
          ]
        }
      ]
    },
    {
      "cell_type": "code",
      "source": [
        "#Q20.3: Find the union of two arrays using np.union1d()\n",
        "s = np.union1d(array1,array2)\n",
        "print(s)"
      ],
      "metadata": {
        "colab": {
          "base_uri": "https://localhost:8080/"
        },
        "id": "TLjuo5L_EVfb",
        "outputId": "0997b910-cfe2-4ae6-b13c-718d492076b4"
      },
      "execution_count": 35,
      "outputs": [
        {
          "output_type": "stream",
          "name": "stdout",
          "text": [
            "[3 4 5 7 8]\n"
          ]
        }
      ]
    },
    {
      "cell_type": "code",
      "source": [
        "#Q20.4: Find elements in first array but not in second using np.setdiff1d()\n",
        "s = np.setdiff1d(array1,array2)\n",
        "print(s)"
      ],
      "metadata": {
        "colab": {
          "base_uri": "https://localhost:8080/"
        },
        "id": "_HsrUbCbEdHS",
        "outputId": "1b05d67e-e93d-487a-a185-3c1ab5a12b9a"
      },
      "execution_count": 36,
      "outputs": [
        {
          "output_type": "stream",
          "name": "stdout",
          "text": [
            "[3 5]\n"
          ]
        }
      ]
    },
    {
      "cell_type": "code",
      "source": [
        "#Q20.5: Find the symmetric difference between two arrays using np.setxor1d()\n",
        "s = np.setxor1d(array1,array2)\n",
        "print(s)"
      ],
      "metadata": {
        "colab": {
          "base_uri": "https://localhost:8080/"
        },
        "id": "aLX3TkwvEouy",
        "outputId": "f9557a5c-beea-446e-db32-598c648548fc"
      },
      "execution_count": 38,
      "outputs": [
        {
          "output_type": "stream",
          "name": "stdout",
          "text": [
            "[3 5 7 8]\n"
          ]
        }
      ]
    }
  ]
}