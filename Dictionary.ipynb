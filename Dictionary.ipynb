{
  "nbformat": 4,
  "nbformat_minor": 0,
  "metadata": {
    "colab": {
      "provenance": []
    },
    "kernelspec": {
      "name": "python3",
      "display_name": "Python 3"
    },
    "language_info": {
      "name": "python"
    }
  },
  "cells": [
    {
      "cell_type": "code",
      "execution_count": null,
      "metadata": {
        "id": "cGLBRChsnexY"
      },
      "outputs": [],
      "source": [
        "# DICTIONARY DATATYPE ASSIGNMENT - 50 QUESTIONS\n",
        "# ============================================\n",
        "\n",
        "# SOLVED EXAMPLE\n",
        "# --------------\n",
        "# Question: Find the key with maximum value in a dictionary\n",
        "print(\"SOLVED EXAMPLE:\")\n",
        "print(\"Find the key with maximum value in a dictionary\")\n",
        "scores = {'Alice': 85, 'Bob': 92, 'Charlie': 78, 'Diana': 95, 'Eve': 88}\n",
        "max_key = max(scores, key=scores.get)\n",
        "max_value = scores[max_key]\n",
        "print(f\"Dictionary: {scores}\")\n",
        "print(f\"Key with maximum value: {max_key}\")\n",
        "print(f\"Maximum value: {max_value}\")\n",
        "print(\"-\" * 50)\n",
        "\n",
        "# ASSIGNMENT QUESTIONS (50 QUESTIONS)\n",
        "# ==================================\n",
        "\n",
        "# Question 1: Create a dictionary of student names and their ages\n",
        "print(\"Question 1: Create a dictionary of student names and their ages\")\n",
        "# Your code here\n",
        "\n",
        "# Question 2: Add a new key-value pair to dictionary {'a': 1, 'b': 2, 'c': 3}\n",
        "print(\"\\nQuestion 2: Add a new key-value pair to dictionary {'a': 1, 'b': 2, 'c': 3}\")\n",
        "# Your code here\n",
        "\n",
        "# Question 3: Get all keys from dictionary {'name': 'John', 'age': 25, 'city': 'New York'}\n",
        "print(\"\\nQuestion 3: Get all keys from dictionary {'name': 'John', 'age': 25, 'city': 'New York'}\")\n",
        "# Your code here\n",
        "\n",
        "# Question 4: Get all values from dictionary {'python': 3, 'java': 2, 'c++': 1}\n",
        "print(\"\\nQuestion 4: Get all values from dictionary {'python': 3, 'java': 2, 'c++': 1}\")\n",
        "# Your code here\n",
        "\n",
        "# Question 5: Check if key 'age' exists in {'name': 'Alice', 'age': 30, 'city': 'London'}\n",
        "print(\"\\nQuestion 5: Check if key 'age' exists in {'name': 'Alice', 'age': 30, 'city': 'London'}\")\n",
        "# Your code here\n",
        "\n",
        "# Question 6: Remove key 'temp' from {'a': 1, 'b': 2, 'temp': 3, 'c': 4}\n",
        "print(\"\\nQuestion 6: Remove key 'temp' from {'a': 1, 'b': 2, 'temp': 3, 'c': 4}\")\n",
        "# Your code here\n",
        "\n",
        "# Question 7: Find the sum of all values in {'math': 85, 'science': 92, 'english': 78}\n",
        "print(\"\\nQuestion 7: Find the sum of all values in {'math': 85, 'science': 92, 'english': 78}\")\n",
        "# Your code here\n",
        "\n",
        "# Question 8: Create a dictionary with squares of numbers 1 to 5\n",
        "print(\"\\nQuestion 8: Create a dictionary with squares of numbers 1 to 5\")\n",
        "# Your code here\n",
        "\n",
        "# Question 9: Count frequency of each character in string \"hello\"\n",
        "print(\"\\nQuestion 9: Count frequency of each character in string 'hello'\")\n",
        "# Your code here\n",
        "\n",
        "# Question 10: Merge two dictionaries {'a': 1, 'b': 2} and {'c': 3, 'd': 4}\n",
        "print(\"\\nQuestion 10: Merge two dictionaries {'a': 1, 'b': 2} and {'c': 3, 'd': 4}\")\n",
        "# Your code here\n",
        "\n",
        "# Question 11: Create a nested dictionary: {'person': {'name': 'Alice', 'age': 25}}\n",
        "print(\"\\nQuestion 11: Create a nested dictionary: {'person': {'name': 'Alice', 'age': 25}}\")\n",
        "# Your code here\n",
        "\n",
        "# Question 12: Access nested value 'name' from {'person': {'name': 'Alice', 'age': 25}}\n",
        "print(\"\\nQuestion 12: Access nested value 'name' from {'person': {'name': 'Alice', 'age': 25}}\")\n",
        "# Your code here\n",
        "\n",
        "# Question 13: Create a dictionary with list values: {'fruits': ['apple', 'banana'], 'colors': ['red', 'blue']}\n",
        "print(\"\\nQuestion 13: Create a dictionary with list values: {'fruits': ['apple', 'banana'], 'colors': ['red', 'blue']}\")\n",
        "# Your code here\n",
        "\n",
        "# Question 14: Add 'orange' to the 'fruits' list in nested dictionary\n",
        "print(\"\\nQuestion 14: Add 'orange' to the 'fruits' list in nested dictionary\")\n",
        "# Your code here\n",
        "\n",
        "# Question 15: Create a dictionary with tuple values: {'coordinates': (10, 20), 'rgb': (255, 0, 0)}\n",
        "print(\"\\nQuestion 15: Create a dictionary with tuple values: {'coordinates': (10, 20), 'rgb': (255, 0, 0)}\")\n",
        "# Your code here\n",
        "\n",
        "# Question 16: Extract first coordinate from nested tuple\n",
        "print(\"\\nQuestion 16: Extract first coordinate from nested tuple\")\n",
        "# Your code here\n",
        "\n",
        "# Question 17: Create a dictionary with set values: {'vowels': {'a', 'e', 'i'}, 'consonants': {'b', 'c', 'd'}}\n",
        "print(\"\\nQuestion 17: Create a dictionary with set values: {'vowels': {'a', 'e', 'i'}, 'consonants': {'b', 'c', 'd'}}\")\n",
        "# Your code here\n",
        "\n",
        "# Question 18: Add 'o' to vowels set in nested dictionary\n",
        "print(\"\\nQuestion 18: Add 'o' to vowels set in nested dictionary\")\n",
        "# Your code here\n",
        "\n",
        "# Question 19: Create a 3-level nested dictionary: {'company': {'department': {'employee': {'name': 'John', 'id': 123}}}}\n",
        "print(\"\\nQuestion 19: Create a 3-level nested dictionary: {'company': {'department': {'employee': {'name': 'John', 'id': 123}}}}\")\n",
        "# Your code here\n",
        "\n",
        "# Question 20: Access employee name from 3-level nested dictionary\n",
        "print(\"\\nQuestion 20: Access employee name from 3-level nested dictionary\")\n",
        "# Your code here\n",
        "\n",
        "# Question 21: Create a dictionary with mixed data types: {'int': 42, 'float': 3.14, 'str': 'hello', 'bool': True}\n",
        "print(\"\\nQuestion 21: Create a dictionary with mixed data types: {'int': 42, 'float': 3.14, 'str': 'hello', 'bool': True}\")\n",
        "# Your code here\n",
        "\n",
        "# Question 22: Check data type of each value in mixed dictionary\n",
        "print(\"\\nQuestion 22: Check data type of each value in mixed dictionary\")\n",
        "# Your code here\n",
        "\n",
        "# Question 23: Create a dictionary with function values: {'len': len, 'str': str, 'int': int}\n",
        "print(\"\\nQuestion 23: Create a dictionary with function values: {'len': len, 'str': str, 'int': int}\")\n",
        "# Your code here\n",
        "\n",
        "# Question 24: Apply each function to \"123\" using dictionary\n",
        "print(\"\\nQuestion 24: Apply each function to '123' using dictionary\")\n",
        "# Your code here\n",
        "\n",
        "# Question 25: Create a dictionary with lambda functions: {'double': lambda x: x*2, 'square': lambda x: x**2}\n",
        "print(\"\\nQuestion 25: Create a dictionary with lambda functions: {'double': lambda x: x*2, 'square': lambda x: x**2}\")\n",
        "# Your code here\n",
        "\n",
        "# Question 26: Apply each lambda function to 5\n",
        "print(\"\\nQuestion 26: Apply each lambda function to 5\")\n",
        "# Your code here\n",
        "\n",
        "# Question 27: Create a dictionary with class values: {'list': list, 'dict': dict, 'set': set}\n",
        "print(\"\\nQuestion 27: Create a dictionary with class values: {'list': list, 'dict': dict, 'set': set}\")\n",
        "# Your code here\n",
        "\n",
        "# Question 28: Create instances using class dictionary\n",
        "print(\"\\nQuestion 28: Create instances using class dictionary\")\n",
        "# Your code here\n",
        "\n",
        "# Question 29: Create a dictionary with None values: {'a': None, 'b': None, 'c': None}\n",
        "print(\"\\nQuestion 29: Create a dictionary with None values: {'a': None, 'b': None, 'c': None}\")\n",
        "# Your code here\n",
        "\n",
        "# Question 30: Replace all None values with 0\n",
        "print(\"\\nQuestion 30: Replace all None values with 0\")\n",
        "# Your code here\n",
        "\n",
        "# Question 31: Create a dictionary with boolean values: {'is_active': True, 'is_admin': False}\n",
        "print(\"\\nQuestion 31: Create a dictionary with boolean values: {'is_active': True, 'is_admin': False}\")\n",
        "# Your code here\n",
        "\n",
        "# Question 32: Count True values in boolean dictionary\n",
        "print(\"\\nQuestion 32: Count True values in boolean dictionary\")\n",
        "# Your code here\n",
        "\n",
        "# Question 33: Create a dictionary with complex numbers: {'z1': 3+4j, 'z2': 1+2j}\n",
        "print(\"\\nQuestion 33: Create a dictionary with complex numbers: {'z1': 3+4j, 'z2': 1+2j}\")\n",
        "# Your code here\n",
        "\n",
        "# Question 34: Find magnitude of each complex number\n",
        "print(\"\\nQuestion 34: Find magnitude of each complex number\")\n",
        "# Your code here\n",
        "\n",
        "# Question 35: Create a 4-level nested dictionary\n",
        "print(\"\\nQuestion 35: Create a 4-level nested dictionary\")\n",
        "# Your code here\n",
        "\n",
        "# Question 36: Access deepest value in 4-level nested dictionary\n",
        "print(\"\\nQuestion 36: Access deepest value in 4-level nested dictionary\")\n",
        "# Your code here\n",
        "\n",
        "# Question 37: Create a dictionary with range values: {'r1': range(3), 'r2': range(5)}\n",
        "print(\"\\nQuestion 37: Create a dictionary with range values: {'r1': range(3), 'r2': range(5)}\")\n",
        "# Your code here\n",
        "\n",
        "# Question 38: Convert each range to list\n",
        "print(\"\\nQuestion 38: Convert each range to list\")\n",
        "# Your code here\n",
        "\n",
        "# Question 39: Create a dictionary with generator values\n",
        "print(\"\\nQuestion 39: Create a dictionary with generator values\")\n",
        "# Your code here\n",
        "\n",
        "# Question 40: Convert each generator to list\n",
        "print(\"\\nQuestion 40: Convert each generator to list\")\n",
        "# Your code here\n",
        "\n",
        "# Question 41: Create a dictionary with iterator values\n",
        "print(\"\\nQuestion 41: Create a dictionary with iterator values\")\n",
        "# Your code here\n",
        "\n",
        "# Question 42: Extract all elements from each iterator\n",
        "print(\"\\nQuestion 42: Extract all elements from each iterator\")\n",
        "# Your code here\n",
        "\n",
        "# Question 43: Create a dictionary with nested lists: {'matrix': [[1, 2], [3, 4]], 'vector': [5, 6, 7]}\n",
        "print(\"\\nQuestion 43: Create a dictionary with nested lists: {'matrix': [[1, 2], [3, 4]], 'vector': [5, 6, 7]}\")\n",
        "# Your code here\n",
        "\n",
        "# Question 44: Find sum of each nested list\n",
        "print(\"\\nQuestion 44: Find sum of each nested list\")\n",
        "# Your code here\n",
        "\n",
        "# Question 45: Create a dictionary with nested dictionaries: {'config': {'db': {'host': 'localhost', 'port': 5432}}}\n",
        "print(\"\\nQuestion 45: Create a dictionary with nested dictionaries: {'config': {'db': {'host': 'localhost', 'port': 5432}}}\")\n",
        "# Your code here\n",
        "\n",
        "# Question 46: Access database port from nested configuration\n",
        "print(\"\\nQuestion 46: Access database port from nested configuration\")\n",
        "# Your code here\n",
        "\n",
        "# Question 47: Create a dictionary with nested tuples: {'points': ((1, 2), (3, 4)), 'rgb': ((255, 0, 0), (0, 255, 0))}\n",
        "print(\"\\nQuestion 47: Create a dictionary with nested tuples: {'points': ((1, 2), (3, 4)), 'rgb': ((255, 0, 0), (0, 255, 0))}\")\n",
        "# Your code here\n",
        "\n",
        "# Question 48: Extract first point coordinates\n",
        "print(\"\\nQuestion 48: Extract first point coordinates\")\n",
        "# Your code here\n",
        "\n",
        "# Question 49: Create a dictionary with nested sets: {'groups': {{1, 2, 3}, {4, 5, 6}}, 'categories': {{'a', 'b'}, {'c', 'd'}}}\n",
        "print(\"\\nQuestion 49: Create a dictionary with nested sets: {'groups': {{1, 2, 3}, {4, 5, 6}}, 'categories': {{'a', 'b'}, {'c', 'd'}}}\")\n",
        "# Your code here\n",
        "\n",
        "# Question 50: Find union of all nested sets\n",
        "print(\"\\nQuestion 50: Find union of all nested sets\")\n",
        "# Your code here"
      ]
    },
    {
      "cell_type": "code",
      "source": [
        "# Question 1: Create a dictionary of student names and their ages\n",
        "print(\"Question 1: Create a dictionary of student names and their ages\")\n",
        "# Your code here\n",
        "students = {\n",
        "    \"Alice\": 20,\n",
        "    \"Bob\": 22,\n",
        "    \"Charlie\": 19,\n",
        "    \"Diana\": 21,\n",
        "    \"Eve\": 23\n",
        "}\n",
        "students"
      ],
      "metadata": {
        "colab": {
          "base_uri": "https://localhost:8080/"
        },
        "id": "eBLoRGhkJ0BF",
        "outputId": "90e941e6-3a97-430f-8bac-e915ba7bcad6"
      },
      "execution_count": 2,
      "outputs": [
        {
          "output_type": "stream",
          "name": "stdout",
          "text": [
            "Question 1: Create a dictionary of student names and their ages\n"
          ]
        },
        {
          "output_type": "execute_result",
          "data": {
            "text/plain": [
              "{'Alice': 20, 'Bob': 22, 'Charlie': 19, 'Diana': 21, 'Eve': 23}"
            ]
          },
          "metadata": {},
          "execution_count": 2
        }
      ]
    },
    {
      "cell_type": "code",
      "source": [
        "# Question 2: Add a new key-value pair to dictionary {'a': 1, 'b': 2, 'c': 3}\n",
        "print(\"\\nQuestion 2: Add a new key-value pair to dictionary {'a': 1, 'b': 2, 'c': 3}\")\n",
        "# Your code here\n",
        "m = {'a': 1, 'b': 2, 'c': 3}\n",
        "m['d'] = 4\n",
        "m"
      ],
      "metadata": {
        "colab": {
          "base_uri": "https://localhost:8080/"
        },
        "id": "P1kpAqo3R9U7",
        "outputId": "c6059276-f787-42f0-f87b-e3b5866bd1de"
      },
      "execution_count": 3,
      "outputs": [
        {
          "output_type": "stream",
          "name": "stdout",
          "text": [
            "\n",
            "Question 2: Add a new key-value pair to dictionary {'a': 1, 'b': 2, 'c': 3}\n"
          ]
        },
        {
          "output_type": "execute_result",
          "data": {
            "text/plain": [
              "{'a': 1, 'b': 2, 'c': 3, 'd': 4}"
            ]
          },
          "metadata": {},
          "execution_count": 3
        }
      ]
    },
    {
      "cell_type": "code",
      "source": [
        "# Question 3: Get all keys from dictionary {'name': 'John', 'age': 25, 'city': 'New York'}\n",
        "print(\"\\nQuestion 3: Get all keys from dictionary {'name': 'John', 'age': 25, 'city': 'New York'}\")\n",
        "# Your code here\n",
        "m = {'name': 'John', 'age': 25, 'city': 'New York'}\n",
        "k = m.keys()\n",
        "k"
      ],
      "metadata": {
        "colab": {
          "base_uri": "https://localhost:8080/"
        },
        "id": "-DsjprNqSNx0",
        "outputId": "0fa402e9-e9a8-4fdf-8039-f2a984708d5d"
      },
      "execution_count": 4,
      "outputs": [
        {
          "output_type": "stream",
          "name": "stdout",
          "text": [
            "\n",
            "Question 3: Get all keys from dictionary {'name': 'John', 'age': 25, 'city': 'New York'}\n"
          ]
        },
        {
          "output_type": "execute_result",
          "data": {
            "text/plain": [
              "dict_keys(['name', 'age', 'city'])"
            ]
          },
          "metadata": {},
          "execution_count": 4
        }
      ]
    },
    {
      "cell_type": "code",
      "source": [
        "# Question 4: Get all values from dictionary {'python': 3, 'java': 2, 'c++': 1}\n",
        "print(\"\\nQuestion 4: Get all values from dictionary {'python': 3, 'java': 2, 'c++': 1}\")\n",
        "# Your code here\n",
        "m={'python': 3, 'java': 2, 'c++': 1}\n",
        "k=m.values()\n",
        "k"
      ],
      "metadata": {
        "colab": {
          "base_uri": "https://localhost:8080/"
        },
        "id": "kT8iXz_7SgK_",
        "outputId": "8e496bdd-a105-44d0-aa00-a4fb55d43339"
      },
      "execution_count": 5,
      "outputs": [
        {
          "output_type": "stream",
          "name": "stdout",
          "text": [
            "\n",
            "Question 4: Get all values from dictionary {'python': 3, 'java': 2, 'c++': 1}\n"
          ]
        },
        {
          "output_type": "execute_result",
          "data": {
            "text/plain": [
              "dict_values([3, 2, 1])"
            ]
          },
          "metadata": {},
          "execution_count": 5
        }
      ]
    },
    {
      "cell_type": "code",
      "source": [
        "# Question 5: Check if key 'age' exists in {'name': 'Alice', 'age': 30, 'city': 'London'}\n",
        "print(\"\\nQuestion 5: Check if key 'age' exists in {'name': 'Alice', 'age': 30, 'city': 'London'}\")\n",
        "# Your code here\n",
        "m = {'name': 'Alice', 'age': 30, 'city': 'London'}\n",
        "'age' in m"
      ],
      "metadata": {
        "colab": {
          "base_uri": "https://localhost:8080/"
        },
        "id": "-44exKHrSrU7",
        "outputId": "f5b9a8a7-f5cf-4a63-eac3-a6de987029fb"
      },
      "execution_count": 7,
      "outputs": [
        {
          "output_type": "stream",
          "name": "stdout",
          "text": [
            "\n",
            "Question 5: Check if key 'age' exists in {'name': 'Alice', 'age': 30, 'city': 'London'}\n"
          ]
        },
        {
          "output_type": "execute_result",
          "data": {
            "text/plain": [
              "True"
            ]
          },
          "metadata": {},
          "execution_count": 7
        }
      ]
    },
    {
      "cell_type": "code",
      "source": [
        "# Question 6: Remove key 'temp' from {'a': 1, 'b': 2, 'temp': 3, 'c': 4}\n",
        "print(\"\\nQuestion 6: Remove key 'temp' from {'a': 1, 'b': 2, 'temp': 3, 'c': 4}\")\n",
        "# Your code here\n",
        "m={'a': 1, 'b': 2, 'temp': 3, 'c': 4}\n",
        "del m['temp']\n",
        "m"
      ],
      "metadata": {
        "colab": {
          "base_uri": "https://localhost:8080/"
        },
        "id": "4vhjclpnTKb3",
        "outputId": "663633f2-b6d3-4424-baf5-03bffe748d35"
      },
      "execution_count": 15,
      "outputs": [
        {
          "output_type": "stream",
          "name": "stdout",
          "text": [
            "\n",
            "Question 6: Remove key 'temp' from {'a': 1, 'b': 2, 'temp': 3, 'c': 4}\n"
          ]
        },
        {
          "output_type": "execute_result",
          "data": {
            "text/plain": [
              "{'a': 1, 'b': 2, 'c': 4}"
            ]
          },
          "metadata": {},
          "execution_count": 15
        }
      ]
    },
    {
      "cell_type": "code",
      "source": [
        "# Question 7: Find the sum of all values in {'math': 85, 'science': 92, 'english': 78}\n",
        "print(\"\\nQuestion 7: Find the sum of all values in {'math': 85, 'science': 92, 'english': 78}\")\n",
        "# Your code here\n",
        "m={'math': 85, 'science': 92, 'english': 78}\n",
        "sum(m.values())"
      ],
      "metadata": {
        "colab": {
          "base_uri": "https://localhost:8080/"
        },
        "id": "0OfPqcVcUWBS",
        "outputId": "edd45ed5-71c4-41ea-d56f-85651e9fb6e2"
      },
      "execution_count": 16,
      "outputs": [
        {
          "output_type": "stream",
          "name": "stdout",
          "text": [
            "\n",
            "Question 7: Find the sum of all values in {'math': 85, 'science': 92, 'english': 78}\n"
          ]
        },
        {
          "output_type": "execute_result",
          "data": {
            "text/plain": [
              "255"
            ]
          },
          "metadata": {},
          "execution_count": 16
        }
      ]
    },
    {
      "cell_type": "code",
      "source": [
        "# Question 8: Create a dictionary with squares of numbers 1 to 5\n",
        "print(\"\\nQuestion 8: Create a dictionary with squares of numbers 1 to 5\")\n",
        "# Your code here\n",
        "squares_dict = {i: i**2 for i in range(1, 6)}\n",
        "squares_dict"
      ],
      "metadata": {
        "colab": {
          "base_uri": "https://localhost:8080/"
        },
        "id": "fuWJgz5zB9rt",
        "outputId": "5e6df572-8a98-49d0-80e7-2fc52f30ce26"
      },
      "execution_count": 2,
      "outputs": [
        {
          "output_type": "stream",
          "name": "stdout",
          "text": [
            "\n",
            "Question 8: Create a dictionary with squares of numbers 1 to 5\n"
          ]
        },
        {
          "output_type": "execute_result",
          "data": {
            "text/plain": [
              "{1: 1, 2: 4, 3: 9, 4: 16, 5: 25}"
            ]
          },
          "metadata": {},
          "execution_count": 2
        }
      ]
    },
    {
      "cell_type": "code",
      "source": [
        "# Question 9: Count frequency of each character in string \"hello\"\n",
        "print(\"\\nQuestion 9: Count frequency of each character in string 'hello'\")\n",
        "# Your code here\n",
        "from collections import Counter\n",
        "text = \"hello\"\n",
        "char_frequency = Counter(text)\n",
        "char_frequency"
      ],
      "metadata": {
        "colab": {
          "base_uri": "https://localhost:8080/"
        },
        "id": "wywLqYANCTxI",
        "outputId": "fe55757b-3fbc-4fee-90bd-927579ec840a"
      },
      "execution_count": 4,
      "outputs": [
        {
          "output_type": "stream",
          "name": "stdout",
          "text": [
            "\n",
            "Question 9: Count frequency of each character in string 'hello'\n"
          ]
        },
        {
          "output_type": "execute_result",
          "data": {
            "text/plain": [
              "Counter({'h': 1, 'e': 1, 'l': 2, 'o': 1})"
            ]
          },
          "metadata": {},
          "execution_count": 4
        }
      ]
    },
    {
      "cell_type": "code",
      "source": [
        "# Question 10: Merge two dictionaries {'a': 1, 'b': 2} and {'c': 3, 'd': 4}\n",
        "print(\"\\nQuestion 10: Merge two dictionaries {'a': 1, 'b': 2} and {'c': 3, 'd': 4}\")\n",
        "# Your code here\n",
        "S= {'a': 1, 'b': 2}\n",
        "T={'c': 3, 'd': 4}\n",
        "m = {**S, **T}\n",
        "m"
      ],
      "metadata": {
        "colab": {
          "base_uri": "https://localhost:8080/"
        },
        "id": "CbfJIdh7CtJB",
        "outputId": "76f62244-db08-40fd-8d65-fc3872a7cdda"
      },
      "execution_count": 7,
      "outputs": [
        {
          "output_type": "stream",
          "name": "stdout",
          "text": [
            "\n",
            "Question 10: Merge two dictionaries {'a': 1, 'b': 2} and {'c': 3, 'd': 4}\n"
          ]
        },
        {
          "output_type": "execute_result",
          "data": {
            "text/plain": [
              "{'a': 1, 'b': 2, 'c': 3, 'd': 4}"
            ]
          },
          "metadata": {},
          "execution_count": 7
        }
      ]
    },
    {
      "cell_type": "code",
      "source": [
        "# Question 11: Create a nested dictionary: {'person': {'name': 'Alice', 'age': 25}}\n",
        "print(\"\\nQuestion 11: Create a nested dictionary: {'person': {'name': 'Alice', 'age': 25}}\")\n",
        "# Your code here\n",
        "nested_dict = {'person': {'name': 'Alice', 'age': 25}}\n",
        "nested_dict"
      ],
      "metadata": {
        "colab": {
          "base_uri": "https://localhost:8080/"
        },
        "id": "2SbPPUfKESsp",
        "outputId": "dbdfe672-5aef-4e8f-963f-7f70dc32fbaa"
      },
      "execution_count": 9,
      "outputs": [
        {
          "output_type": "stream",
          "name": "stdout",
          "text": [
            "\n",
            "Question 11: Create a nested dictionary: {'person': {'name': 'Alice', 'age': 25}}\n"
          ]
        },
        {
          "output_type": "execute_result",
          "data": {
            "text/plain": [
              "{'person': {'name': 'Alice', 'age': 25}}"
            ]
          },
          "metadata": {},
          "execution_count": 9
        }
      ]
    },
    {
      "cell_type": "code",
      "source": [
        "# Question 12: Access nested value 'name' from {'person': {'name': 'Alice', 'age': 25}}\n",
        "print(\"\\nQuestion 12: Access nested value 'name' from {'person': {'name': 'Alice', 'age': 25}}\")\n",
        "# Your code here\n",
        "nested_dict = {'person': {'name': 'Alice', 'age': 25}}\n",
        "name = nested_dict['person']['name']\n",
        "name"
      ],
      "metadata": {
        "colab": {
          "base_uri": "https://localhost:8080/",
          "height": 70
        },
        "id": "gnkH4gf5Ep9w",
        "outputId": "74b7d3a7-689d-4ad3-9645-736d4041e0b3"
      },
      "execution_count": 10,
      "outputs": [
        {
          "output_type": "stream",
          "name": "stdout",
          "text": [
            "\n",
            "Question 12: Access nested value 'name' from {'person': {'name': 'Alice', 'age': 25}}\n"
          ]
        },
        {
          "output_type": "execute_result",
          "data": {
            "text/plain": [
              "'Alice'"
            ],
            "application/vnd.google.colaboratory.intrinsic+json": {
              "type": "string"
            }
          },
          "metadata": {},
          "execution_count": 10
        }
      ]
    },
    {
      "cell_type": "code",
      "source": [
        "# Question 13: Create a dictionary with list values: {'fruits': ['apple', 'banana'], 'colors': ['red', 'blue']}\n",
        "print(\"\\nQuestion 13: Create a dictionary with list values: {'fruits': ['apple', 'banana'], 'colors': ['red', 'blue']}\")\n",
        "# Your code here\n",
        "dic={'fruits': ['apple', 'banana'], 'colors': ['red', 'blue']}\n",
        "dic"
      ],
      "metadata": {
        "colab": {
          "base_uri": "https://localhost:8080/"
        },
        "id": "4zZqGwSsFCRL",
        "outputId": "abeba3b8-947c-4a09-8710-6d8c87e40699"
      },
      "execution_count": 11,
      "outputs": [
        {
          "output_type": "stream",
          "name": "stdout",
          "text": [
            "\n",
            "Question 13: Create a dictionary with list values: {'fruits': ['apple', 'banana'], 'colors': ['red', 'blue']}\n"
          ]
        },
        {
          "output_type": "execute_result",
          "data": {
            "text/plain": [
              "{'fruits': ['apple', 'banana'], 'colors': ['red', 'blue']}"
            ]
          },
          "metadata": {},
          "execution_count": 11
        }
      ]
    },
    {
      "cell_type": "code",
      "source": [
        "# Question 14: Add 'orange' to the 'fruits' list in nested dictionary\n",
        "print(\"\\nQuestion 14: Add 'orange' to the 'fruits' list in nested dictionary\")\n",
        "# Your code here\n",
        "dic={'fruits': ['apple', 'banana'], 'colors': ['red', 'blue']}\n",
        "dic['fruits'].append('orange')\n",
        "dic"
      ],
      "metadata": {
        "colab": {
          "base_uri": "https://localhost:8080/"
        },
        "id": "OWIKAhThFTbY",
        "outputId": "bb6aacab-ca38-4c27-cc48-403e5401961d"
      },
      "execution_count": 13,
      "outputs": [
        {
          "output_type": "stream",
          "name": "stdout",
          "text": [
            "\n",
            "Question 14: Add 'orange' to the 'fruits' list in nested dictionary\n"
          ]
        },
        {
          "output_type": "execute_result",
          "data": {
            "text/plain": [
              "{'fruits': ['apple', 'banana', 'orange'], 'colors': ['red', 'blue']}"
            ]
          },
          "metadata": {},
          "execution_count": 13
        }
      ]
    },
    {
      "cell_type": "code",
      "source": [
        "# Question 15: Create a dictionary with tuple values: {'coordinates': (10, 20), 'rgb': (255, 0, 0)}\n",
        "print(\"\\nQuestion 15: Create a dictionary with tuple values: {'coordinates': (10, 20), 'rgb': (255, 0, 0)}\")\n",
        "# Your code here\n",
        "my_dict = {'coordinates': (10, 20), 'rgb': (255, 0, 0)}\n",
        "my_dict"
      ],
      "metadata": {
        "colab": {
          "base_uri": "https://localhost:8080/"
        },
        "id": "l7_kZuaOF-us",
        "outputId": "0b03bbf7-f3e3-4bfe-fe08-34ef972420b9"
      },
      "execution_count": 14,
      "outputs": [
        {
          "output_type": "stream",
          "name": "stdout",
          "text": [
            "\n",
            "Question 15: Create a dictionary with tuple values: {'coordinates': (10, 20), 'rgb': (255, 0, 0)}\n"
          ]
        },
        {
          "output_type": "execute_result",
          "data": {
            "text/plain": [
              "{'coordinates': (10, 20), 'rgb': (255, 0, 0)}"
            ]
          },
          "metadata": {},
          "execution_count": 14
        }
      ]
    },
    {
      "cell_type": "code",
      "source": [
        "# Question 16: Extract first coordinate from nested tuple\n",
        "print(\"\\nQuestion 16: Extract first coordinate from nested tuple\")\n",
        "# Your code here\n",
        "my_dict = {'coordinates': (10, 20), 'rgb': (255, 0, 0)}\n",
        "first_coordinate = my_dict['coordinates'][0]\n",
        "first_coordinate"
      ],
      "metadata": {
        "colab": {
          "base_uri": "https://localhost:8080/"
        },
        "id": "nuBqU8C-Gjet",
        "outputId": "a01bbfeb-fb53-4489-b79c-e0d39a53194f"
      },
      "execution_count": 15,
      "outputs": [
        {
          "output_type": "stream",
          "name": "stdout",
          "text": [
            "\n",
            "Question 16: Extract first coordinate from nested tuple\n"
          ]
        },
        {
          "output_type": "execute_result",
          "data": {
            "text/plain": [
              "10"
            ]
          },
          "metadata": {},
          "execution_count": 15
        }
      ]
    },
    {
      "cell_type": "code",
      "source": [
        "# Question 17: Create a dictionary with set values: {'vowels': {'a', 'e', 'i'}, 'consonants': {'b', 'c', 'd'}}\n",
        "print(\"\\nQuestion 17: Create a dictionary with set values: {'vowels': {'a', 'e', 'i'}, 'consonants': {'b', 'c', 'd'}}\")\n",
        "# Your code here\n",
        "my_dict = {'vowels': {'a', 'e', 'i'}, 'consonants': {'b', 'c', 'd'}}\n",
        "my_dict"
      ],
      "metadata": {
        "colab": {
          "base_uri": "https://localhost:8080/"
        },
        "id": "tzxaBV3JXrXg",
        "outputId": "553892c1-b85b-4fce-d726-91a7feb66d9f"
      },
      "execution_count": 16,
      "outputs": [
        {
          "output_type": "stream",
          "name": "stdout",
          "text": [
            "\n",
            "Question 17: Create a dictionary with set values: {'vowels': {'a', 'e', 'i'}, 'consonants': {'b', 'c', 'd'}}\n"
          ]
        },
        {
          "output_type": "execute_result",
          "data": {
            "text/plain": [
              "{'vowels': {'a', 'e', 'i'}, 'consonants': {'b', 'c', 'd'}}"
            ]
          },
          "metadata": {},
          "execution_count": 16
        }
      ]
    },
    {
      "cell_type": "code",
      "source": [
        "# Question 18: Add 'o' to vowels set in nested dictionary\n",
        "print(\"\\nQuestion 18: Add 'o' to vowels set in nested dictionary\")\n",
        "# Your code here\n",
        "d = {'vowels': {'a', 'e', 'i', 'u'}, 'consonants': {'b', 'c', 'd'}}\n",
        "d['vowels'].add('o')\n",
        "d"
      ],
      "metadata": {
        "colab": {
          "base_uri": "https://localhost:8080/"
        },
        "id": "xYp1hiWdj_ub",
        "outputId": "c92f6f76-6c9b-4d40-b549-821545f45059"
      },
      "execution_count": 18,
      "outputs": [
        {
          "output_type": "stream",
          "name": "stdout",
          "text": [
            "\n",
            "Question 18: Add 'o' to vowels set in nested dictionary\n"
          ]
        },
        {
          "output_type": "execute_result",
          "data": {
            "text/plain": [
              "{'vowels': {'a', 'e', 'i', 'o', 'u'}, 'consonants': {'b', 'c', 'd'}}"
            ]
          },
          "metadata": {},
          "execution_count": 18
        }
      ]
    },
    {
      "cell_type": "code",
      "source": [
        "# Question 19: Create a 3-level nested dictionary: {'company': {'department': {'employee': {'name': 'John', 'id': 123}}}}\n",
        "print(\"\\nQuestion 19: Create a 3-level nested dictionary: {'company': {'department': {'employee': {'name': 'John', 'id': 123}}}}\")\n",
        "# Your code here\n",
        "n = {'company': {'department': {'employee': {'name': 'John', 'id': 123}}}}\n",
        "n"
      ],
      "metadata": {
        "colab": {
          "base_uri": "https://localhost:8080/"
        },
        "id": "0czO_xsYkbEK",
        "outputId": "073189ab-f512-4e7a-8204-6e082748e4e2"
      },
      "execution_count": 19,
      "outputs": [
        {
          "output_type": "stream",
          "name": "stdout",
          "text": [
            "\n",
            "Question 19: Create a 3-level nested dictionary: {'company': {'department': {'employee': {'name': 'John', 'id': 123}}}}\n"
          ]
        },
        {
          "output_type": "execute_result",
          "data": {
            "text/plain": [
              "{'company': {'department': {'employee': {'name': 'John', 'id': 123}}}}"
            ]
          },
          "metadata": {},
          "execution_count": 19
        }
      ]
    },
    {
      "cell_type": "code",
      "source": [
        "# Question 20: Access employee name from 3-level nested dictionary\n",
        "print(\"\\nQuestion 20: Access employee name from 3-level nested dictionary\")\n",
        "# Your code here\n",
        "n = {'company': {'department': {'employee': {'name': 'John', 'id': 123}}}}\n",
        "e = n['company']['department']['employee']['name']\n",
        "e"
      ],
      "metadata": {
        "colab": {
          "base_uri": "https://localhost:8080/",
          "height": 70
        },
        "id": "kekCviLYkl4D",
        "outputId": "e0968943-5490-46dc-e7e2-70fd8f9499b8"
      },
      "execution_count": 21,
      "outputs": [
        {
          "output_type": "stream",
          "name": "stdout",
          "text": [
            "\n",
            "Question 20: Access employee name from 3-level nested dictionary\n"
          ]
        },
        {
          "output_type": "execute_result",
          "data": {
            "text/plain": [
              "'John'"
            ],
            "application/vnd.google.colaboratory.intrinsic+json": {
              "type": "string"
            }
          },
          "metadata": {},
          "execution_count": 21
        }
      ]
    },
    {
      "cell_type": "code",
      "source": [
        "# Question 21: Create a dictionary with mixed data types: {'int': 42, 'float': 3.14, 'str': 'hello', 'bool': True}\n",
        "print(\"\\nQuestion 21: Create a dictionary with mixed data types: {'int': 42, 'float': 3.14, 'str': 'hello', 'bool': True}\")\n",
        "# Your code here\n",
        "S={'int': 42, 'float': 3.14, 'str': 'hello', 'bool': True}\n",
        "S"
      ],
      "metadata": {
        "colab": {
          "base_uri": "https://localhost:8080/"
        },
        "id": "elMxkwgbk8Ak",
        "outputId": "295cb4ed-3449-4648-c064-acc01ef5f0de"
      },
      "execution_count": 24,
      "outputs": [
        {
          "output_type": "stream",
          "name": "stdout",
          "text": [
            "\n",
            "Question 21: Create a dictionary with mixed data types: {'int': 42, 'float': 3.14, 'str': 'hello', 'bool': True}\n"
          ]
        },
        {
          "output_type": "execute_result",
          "data": {
            "text/plain": [
              "{'int': 42, 'float': 3.14, 'str': 'hello', 'bool': True}"
            ]
          },
          "metadata": {},
          "execution_count": 24
        }
      ]
    },
    {
      "cell_type": "code",
      "source": [
        "# Question 22: Check data type of each value in mixed dictionary\n",
        "print(\"\\nQuestion 22: Check data type of each value in mixed dictionary\")\n",
        "# Your code here\n",
        "S = {'int': 42, 'float': 3.14, 'str': 'hello', 'bool': True}\n",
        "for key, value in S.items():\n",
        "    print(f\"'{key}': {type(value).__name__}\")"
      ],
      "metadata": {
        "colab": {
          "base_uri": "https://localhost:8080/"
        },
        "id": "ucRZeOsDmp1I",
        "outputId": "4a7c7918-d279-4f45-cfea-9ce2c5ed48fb"
      },
      "execution_count": 25,
      "outputs": [
        {
          "output_type": "stream",
          "name": "stdout",
          "text": [
            "\n",
            "Question 22: Check data type of each value in mixed dictionary\n",
            "'int': int\n",
            "'float': float\n",
            "'str': str\n",
            "'bool': bool\n"
          ]
        }
      ]
    },
    {
      "cell_type": "code",
      "source": [
        "# Question 23: Create a dictionary with function values: {'len': len, 'str': str, 'int': int}\n",
        "print(\"\\nQuestion 23: Create a dictionary with function values: {'len': len, 'str': str, 'int': int}\")\n",
        "# Your code here\n",
        "S={'len': len, 'str': str, 'int': int}\n",
        "S"
      ],
      "metadata": {
        "colab": {
          "base_uri": "https://localhost:8080/"
        },
        "id": "-Z9WfAbRn7zO",
        "outputId": "6e1f919a-3a51-4a1b-d0a6-33694ee1464c"
      },
      "execution_count": 28,
      "outputs": [
        {
          "output_type": "stream",
          "name": "stdout",
          "text": [
            "\n",
            "Question 23: Create a dictionary with function values: {'len': len, 'str': str, 'int': int}\n"
          ]
        },
        {
          "output_type": "execute_result",
          "data": {
            "text/plain": [
              "{'len': <function len(obj, /)>, 'str': str, 'int': int}"
            ]
          },
          "metadata": {},
          "execution_count": 28
        }
      ]
    },
    {
      "cell_type": "code",
      "source": [
        "# Question 24: Apply each function to \"123\" using dictionary\n",
        "print(\"\\nQuestion 24: Apply each function to '123' using dictionary\")\n",
        "# Your code here\n"
      ],
      "metadata": {
        "id": "fQ5LBte6oPS6"
      },
      "execution_count": null,
      "outputs": []
    },
    {
      "cell_type": "code",
      "source": [
        "# Question 26: Apply each lambda function to 5\n",
        "print(\"\\nQuestion 26: Apply each lambda function to 5\")\n",
        "# Your code here"
      ],
      "metadata": {
        "colab": {
          "base_uri": "https://localhost:8080/"
        },
        "id": "TT54OGCCorVo",
        "outputId": "4c0b9499-752a-41f7-b23b-6375f1d5611f"
      },
      "execution_count": 30,
      "outputs": [
        {
          "output_type": "stream",
          "name": "stdout",
          "text": [
            "\n",
            "Question 26: Apply each lambda function to 5\n"
          ]
        }
      ]
    },
    {
      "cell_type": "code",
      "source": [
        "# Question 29: Create a dictionary with None values: {'a': None, 'b': None, 'c': None}\n",
        "print(\"\\nQuestion 29: Create a dictionary with None values: {'a': None, 'b': None, 'c': None}\")\n",
        "# Your code here\n",
        "S={'a': None, 'b': None, 'c': None}\n",
        "S"
      ],
      "metadata": {
        "colab": {
          "base_uri": "https://localhost:8080/"
        },
        "id": "TzP_IGhBpZW3",
        "outputId": "840d446f-2218-4735-a8d7-5e631bac9b4a"
      },
      "execution_count": 31,
      "outputs": [
        {
          "output_type": "stream",
          "name": "stdout",
          "text": [
            "\n",
            "Question 29: Create a dictionary with None values: {'a': None, 'b': None, 'c': None}\n"
          ]
        },
        {
          "output_type": "execute_result",
          "data": {
            "text/plain": [
              "{'a': None, 'b': None, 'c': None}"
            ]
          },
          "metadata": {},
          "execution_count": 31
        }
      ]
    },
    {
      "cell_type": "code",
      "source": [
        "# Question 31: Create a dictionary with boolean values: {'is_active': True, 'is_admin': False}\n",
        "print(\"\\nQuestion 31: Create a dictionary with boolean values: {'is_active': True, 'is_admin': False}\")\n",
        "# Your code here\n",
        "S={'is_active': True, 'is_admin': False}\n",
        "S"
      ],
      "metadata": {
        "colab": {
          "base_uri": "https://localhost:8080/"
        },
        "id": "bGEq0rCYppsK",
        "outputId": "1ed28c18-76e1-426b-920b-c724e665d951"
      },
      "execution_count": 38,
      "outputs": [
        {
          "output_type": "stream",
          "name": "stdout",
          "text": [
            "\n",
            "Question 31: Create a dictionary with boolean values: {'is_active': True, 'is_admin': False}\n"
          ]
        },
        {
          "output_type": "execute_result",
          "data": {
            "text/plain": [
              "{'is_active': True, 'is_admin': False}"
            ]
          },
          "metadata": {},
          "execution_count": 38
        }
      ]
    },
    {
      "cell_type": "code",
      "source": [
        "# Question 32: Count True values in boolean dictionary\n",
        "print(\"\\nQuestion 32: Count True values in boolean dictionary\")\n",
        "# Your code here\n",
        "S={'is_active': True, 'is_admin': False}\n",
        "list(S.values()).count(True)"
      ],
      "metadata": {
        "colab": {
          "base_uri": "https://localhost:8080/"
        },
        "id": "0dUKWy68z60q",
        "outputId": "df5eafc3-7535-4d48-ff37-c1ee967fb28a"
      },
      "execution_count": 55,
      "outputs": [
        {
          "output_type": "stream",
          "name": "stdout",
          "text": [
            "\n",
            "Question 32: Count True values in boolean dictionary\n"
          ]
        },
        {
          "output_type": "execute_result",
          "data": {
            "text/plain": [
              "1"
            ]
          },
          "metadata": {},
          "execution_count": 55
        }
      ]
    }
  ]
}