{
  "nbformat": 4,
  "nbformat_minor": 0,
  "metadata": {
    "colab": {
      "provenance": []
    },
    "kernelspec": {
      "name": "python3",
      "display_name": "Python 3"
    },
    "language_info": {
      "name": "python"
    }
  },
  "cells": [
    {
      "cell_type": "code",
      "execution_count": 2,
      "metadata": {
        "colab": {
          "base_uri": "https://localhost:8080/"
        },
        "id": "FyS7_L-5H4kS",
        "outputId": "cd31e120-c158-4d70-fc37-41077e256cb5"
      },
      "outputs": [
        {
          "output_type": "stream",
          "name": "stdout",
          "text": [
            "[[    1 25000   300  1200    10]\n",
            " [    2 32000   450  1500    15]\n",
            " [    3 28000   380  1100     8]\n",
            " [    4 41000   500  1600    20]\n",
            " [    5 35000   420  1400    12]\n",
            " [    6 27000   360  1300     9]\n",
            " [    7 39000   480  1700    18]\n",
            " [    8 30000   400  1250    14]\n",
            " [    9 45000   550  1800    25]\n",
            " [   10 33000   410  1450    11]]\n"
          ]
        }
      ],
      "source": [
        "import numpy as np\n",
        "\n",
        "retail_data = np.array([[ 1, 25000, 300, 1200, 10],\n",
        "    [2, 32000, 450, 1500, 15],\n",
        "    [3, 28000, 380, 1100, 8],\n",
        "    [4, 41000, 500, 1600, 20],\n",
        "    [5, 35000, 420, 1400, 12],\n",
        "    [6, 27000, 360, 1300, 9],\n",
        "    [7, 39000, 480, 1700, 18],\n",
        "    [8, 30000, 400, 1250, 14],\n",
        "    [9, 45000, 550, 1800, 25],\n",
        "    [10, 33000, 410, 1450, 11]])\n",
        "\n",
        "print(retail_data)"
      ]
    },
    {
      "cell_type": "code",
      "source": [
        "#1. What is the **total revenue** generated across all stores?\n",
        "y=retail_data[:,1]\n",
        "print(sum(y))"
      ],
      "metadata": {
        "colab": {
          "base_uri": "https://localhost:8080/"
        },
        "id": "ZYK_kkOYIIXT",
        "outputId": "78646db0-c479-46b7-c6ac-bec5e66d0566"
      },
      "execution_count": 26,
      "outputs": [
        {
          "output_type": "stream",
          "name": "stdout",
          "text": [
            "335000\n"
          ]
        }
      ]
    },
    {
      "cell_type": "code",
      "source": [
        "#2. Which store recorded the **highest sales**?\n",
        "y=retail_data[:,1].argmax()+1\n",
        "print(y)"
      ],
      "metadata": {
        "colab": {
          "base_uri": "https://localhost:8080/"
        },
        "id": "gmGdYqhzJcGn",
        "outputId": "37b9b9f8-f3bf-4a28-8419-976604dc41bb"
      },
      "execution_count": 25,
      "outputs": [
        {
          "output_type": "stream",
          "name": "stdout",
          "text": [
            "9\n"
          ]
        }
      ]
    },
    {
      "cell_type": "code",
      "source": [
        "#3. Which store recorded the **lowest sales**?\n",
        "y=retail_data[:,1].argmin()+1\n",
        "print(y)"
      ],
      "metadata": {
        "colab": {
          "base_uri": "https://localhost:8080/"
        },
        "id": "ZT6HI1DYKbpj",
        "outputId": "ba634de2-ec00-47bf-e222-0b937b0471c5"
      },
      "execution_count": 28,
      "outputs": [
        {
          "output_type": "stream",
          "name": "stdout",
          "text": [
            "1\n"
          ]
        }
      ]
    },
    {
      "cell_type": "code",
      "source": [
        "#4. What is the **average daily sales** per store?\n",
        "y=retail_data[:,1].mean()\n",
        "print(y)"
      ],
      "metadata": {
        "colab": {
          "base_uri": "https://localhost:8080/"
        },
        "id": "IpTpO-pqMVfP",
        "outputId": "4db5c4d3-8b66-4e77-a8a0-e66d75b14b52"
      },
      "execution_count": 50,
      "outputs": [
        {
          "output_type": "stream",
          "name": "stdout",
          "text": [
            "33500.0\n"
          ]
        }
      ]
    },
    {
      "cell_type": "code",
      "source": [
        "#5. How many stores achieved sales **above ₹35,000**?\n",
        "y = retail_data[:,1]\n",
        "x=y>35000\n",
        "z=tuple(x)\n",
        "z.count(True)"
      ],
      "metadata": {
        "colab": {
          "base_uri": "https://localhost:8080/"
        },
        "id": "qKeylFcUMuEC",
        "outputId": "fb8f0de6-d798-46ca-91a1-b81baa8b1e1a"
      },
      "execution_count": 61,
      "outputs": [
        {
          "output_type": "execute_result",
          "data": {
            "text/plain": [
              "3"
            ]
          },
          "metadata": {},
          "execution_count": 61
        }
      ]
    },
    {
      "cell_type": "markdown",
      "source": [
        "**Customer Insights**"
      ],
      "metadata": {
        "id": "9CYEePatPyMb"
      }
    },
    {
      "cell_type": "code",
      "source": [
        "#6. Which store had the **highest customer footfall**?\n",
        "y=retail_data[:,2].argmax()+1\n",
        "print(y)"
      ],
      "metadata": {
        "colab": {
          "base_uri": "https://localhost:8080/"
        },
        "id": "II8sYlMAP4Ml",
        "outputId": "7e17c834-1197-4c85-da6b-37c94aadd10d"
      },
      "execution_count": 63,
      "outputs": [
        {
          "output_type": "stream",
          "name": "stdout",
          "text": [
            "9\n"
          ]
        }
      ]
    },
    {
      "cell_type": "code",
      "source": [
        "#7. What is the **average number of customers** per store?\n",
        "y=retail_data[:,2].mean()\n",
        "print(y)"
      ],
      "metadata": {
        "colab": {
          "base_uri": "https://localhost:8080/"
        },
        "id": "S_CFPCZAQ3nL",
        "outputId": "a56a77d0-081a-4174-b1ab-304bc878a143"
      },
      "execution_count": 64,
      "outputs": [
        {
          "output_type": "stream",
          "name": "stdout",
          "text": [
            "425.0\n"
          ]
        }
      ]
    },
    {
      "cell_type": "code",
      "source": [
        "#8. How many stores have **more than 450 customers**?\n",
        "y = retail_data[:,2]\n",
        "x=y>450\n",
        "z=tuple(x)\n",
        "z.count(True)"
      ],
      "metadata": {
        "colab": {
          "base_uri": "https://localhost:8080/"
        },
        "id": "L30C_el4RCZZ",
        "outputId": "17329474-d220-4746-ba14-4b1ef0ac85aa"
      },
      "execution_count": 65,
      "outputs": [
        {
          "output_type": "execute_result",
          "data": {
            "text/plain": [
              "3"
            ]
          },
          "metadata": {},
          "execution_count": 65
        }
      ]
    },
    {
      "cell_type": "code",
      "source": [
        "#9. Which store has the **lowest customer count**?\n",
        "y=retail_data[:,2].argmin()+1\n",
        "print(y)"
      ],
      "metadata": {
        "colab": {
          "base_uri": "https://localhost:8080/"
        },
        "id": "EQOZSsujRK2V",
        "outputId": "66996bb5-3062-477b-a66e-93bc207aba57"
      },
      "execution_count": 67,
      "outputs": [
        {
          "output_type": "stream",
          "name": "stdout",
          "text": [
            "0\n"
          ]
        }
      ]
    },
    {
      "cell_type": "code",
      "source": [
        "#10. Is there any store where **high sales do not correspond to high customers**?\n",
        "y=retail_data[:,2]\n",
        "x=retail_data[:,1]\n",
        "x=np.corrcoef(x,y)\n",
        "len(x)"
      ],
      "metadata": {
        "colab": {
          "base_uri": "https://localhost:8080/"
        },
        "id": "xQvR8vhqRSvS",
        "outputId": "a64895c4-be87-4138-b5e4-cc7ca390c1b7"
      },
      "execution_count": 104,
      "outputs": [
        {
          "output_type": "execute_result",
          "data": {
            "text/plain": [
              "2"
            ]
          },
          "metadata": {},
          "execution_count": 104
        }
      ]
    },
    {
      "cell_type": "markdown",
      "source": [
        "**Inventory & Returns Analysis**"
      ],
      "metadata": {
        "id": "_1VWrIdaStuP"
      }
    },
    {
      "cell_type": "code",
      "source": [
        "#11. What is the **total inventory** across all stores?\n",
        "y=retail_data[:,3].sum()\n",
        "print(y)"
      ],
      "metadata": {
        "colab": {
          "base_uri": "https://localhost:8080/"
        },
        "id": "Jzi8KDlzS1do",
        "outputId": "3eaa7ec1-badb-4989-edd4-3902096da743"
      },
      "execution_count": 77,
      "outputs": [
        {
          "output_type": "stream",
          "name": "stdout",
          "text": [
            "14300\n"
          ]
        }
      ]
    },
    {
      "cell_type": "code",
      "source": [
        "#12. Which store has the **highest inventory stock**?\n",
        "y=retail_data[:,3].argmax()+1\n",
        "print(y)"
      ],
      "metadata": {
        "colab": {
          "base_uri": "https://localhost:8080/"
        },
        "id": "W44ZscX3TBkP",
        "outputId": "12e0356a-21cf-457c-de5f-7d9647d20aa1"
      },
      "execution_count": 78,
      "outputs": [
        {
          "output_type": "stream",
          "name": "stdout",
          "text": [
            "9\n"
          ]
        }
      ]
    },
    {
      "cell_type": "code",
      "source": [
        "#13. How many stores have **inventory less than 1300 units**?\n",
        "y = retail_data[:,3]\n",
        "x=y<1300\n",
        "z=tuple(x)\n",
        "z.count(True)"
      ],
      "metadata": {
        "colab": {
          "base_uri": "https://localhost:8080/"
        },
        "id": "WjMmNVP2TXwq",
        "outputId": "8bee273f-57f3-41bf-d44c-974ba63f347c"
      },
      "execution_count": 81,
      "outputs": [
        {
          "output_type": "execute_result",
          "data": {
            "text/plain": [
              "3"
            ]
          },
          "metadata": {},
          "execution_count": 81
        }
      ]
    },
    {
      "cell_type": "code",
      "source": [
        "#14. Which store has the **highest return rate** (returns ÷ inventory)?\n",
        "y=retail_data[:,4]\n",
        "x=retail_data[:,3]\n",
        "z=y/x\n",
        "print(z.argmax()+1)"
      ],
      "metadata": {
        "colab": {
          "base_uri": "https://localhost:8080/"
        },
        "id": "KjiAi1X-Vi7B",
        "outputId": "c1a77e11-33e0-46df-c110-43b124861599"
      },
      "execution_count": 101,
      "outputs": [
        {
          "output_type": "stream",
          "name": "stdout",
          "text": [
            "9\n"
          ]
        }
      ]
    },
    {
      "cell_type": "code",
      "source": [
        "#15. Which stores have **returns greater than 15 units**?\n",
        "y = retail_data[:,4]\n",
        "x=y>15\n",
        "z=tuple(x)\n",
        "z.count(True)"
      ],
      "metadata": {
        "colab": {
          "base_uri": "https://localhost:8080/"
        },
        "id": "GcwEMGOfXOzI",
        "outputId": "9c660c07-9d07-49dc-bbc5-7425217b4f0f"
      },
      "execution_count": 102,
      "outputs": [
        {
          "output_type": "execute_result",
          "data": {
            "text/plain": [
              "3"
            ]
          },
          "metadata": {},
          "execution_count": 102
        }
      ]
    },
    {
      "cell_type": "code",
      "source": [
        "#16. Is there a **positive correlation** between sales and customers?\n",
        "y = retail_data[:,2]\n",
        "x = retail_data[:,1]\n",
        "z=np.corrcoef(x,y)\n",
        "len(z)"
      ],
      "metadata": {
        "colab": {
          "base_uri": "https://localhost:8080/"
        },
        "id": "TrmMUpYxZNo7",
        "outputId": "5b4f722e-441b-4548-e9d7-6cc626487d31"
      },
      "execution_count": 106,
      "outputs": [
        {
          "output_type": "execute_result",
          "data": {
            "text/plain": [
              "2"
            ]
          },
          "metadata": {},
          "execution_count": 106
        }
      ]
    },
    {
      "cell_type": "code",
      "source": [
        "#17. Which store has **high customer visits but low sales**?\n",
        "y = retail_data[:,2]\n",
        "x = retail_data[:,1]\n",
        "z=np.corrcoef(x,y)\n",
        "print(z.argmin()+1)"
      ],
      "metadata": {
        "colab": {
          "base_uri": "https://localhost:8080/"
        },
        "id": "35W0pgleZlli",
        "outputId": "2e67ec21-c235-4401-86e3-a9cd789fa98b"
      },
      "execution_count": 112,
      "outputs": [
        {
          "output_type": "stream",
          "name": "stdout",
          "text": [
            "2\n"
          ]
        }
      ]
    },
    {
      "cell_type": "code",
      "source": [
        "#18. Which store has **low customers but high sales**?\n",
        "y = retail_data[:,2]\n",
        "x = retail_data[:,1]\n",
        "z=np.corrcoef(x,y)\n",
        "print(z.argmax()+1)"
      ],
      "metadata": {
        "colab": {
          "base_uri": "https://localhost:8080/"
        },
        "id": "pzZ0HtibZ3x_",
        "outputId": "8a6e6d8f-3c08-4bd0-99fc-d3dbcd2c0433"
      },
      "execution_count": 113,
      "outputs": [
        {
          "output_type": "stream",
          "name": "stdout",
          "text": [
            "4\n"
          ]
        }
      ]
    },
    {
      "cell_type": "code",
      "source": [
        "#19. How many stores have **sales per customer above ₹90**?\n",
        "y = retail_data[:,1]\n",
        "x=retail_data[:,2]\n",
        "z=y/x\n",
        "i=z>90\n",
        "j=tuple(i)\n",
        "j.count(True)"
      ],
      "metadata": {
        "colab": {
          "base_uri": "https://localhost:8080/"
        },
        "id": "AHkmFXloaweP",
        "outputId": "86fd6492-aabd-44a0-a253-d40a95f6dd51"
      },
      "execution_count": 120,
      "outputs": [
        {
          "output_type": "execute_result",
          "data": {
            "text/plain": [
              "0"
            ]
          },
          "metadata": {},
          "execution_count": 120
        }
      ]
    },
    {
      "cell_type": "code",
      "source": [
        "#20. Which stores could **benefit from customer acquisition campaigns** (low customers, high inventory)?\n"
      ],
      "metadata": {
        "id": "eDPlW9T-czrA"
      },
      "execution_count": null,
      "outputs": []
    },
    {
      "cell_type": "code",
      "source": [
        "#21. If profit margin is **20% of sales**, what is the **profit per store**?\n",
        "y = 0.20 * retail_data[:,1]\n",
        "print(y)"
      ],
      "metadata": {
        "colab": {
          "base_uri": "https://localhost:8080/"
        },
        "id": "J7whku4fc7bz",
        "outputId": "d92c96fa-d695-4a90-f644-25fb2a31e960"
      },
      "execution_count": 121,
      "outputs": [
        {
          "output_type": "stream",
          "name": "stdout",
          "text": [
            "[5000. 6400. 5600. 8200. 7000. 5400. 7800. 6000. 9000. 6600.]\n"
          ]
        }
      ]
    },
    {
      "cell_type": "code",
      "source": [
        "#22. Which store has the **highest profit**?\n",
        "y = 0.20 * retail_data[:,1]\n",
        "print(y.argmax()+1)"
      ],
      "metadata": {
        "colab": {
          "base_uri": "https://localhost:8080/"
        },
        "id": "i70Cg6dodJaK",
        "outputId": "a5da05ee-95bc-4220-e217-930c0c665a28"
      },
      "execution_count": 122,
      "outputs": [
        {
          "output_type": "stream",
          "name": "stdout",
          "text": [
            "9\n"
          ]
        }
      ]
    },
    {
      "cell_type": "code",
      "source": [
        "#23. Which store has the **lowest profit**?\n",
        "y = 0.20 * retail_data[:,1]\n",
        "print(y.argmin()+1)"
      ],
      "metadata": {
        "colab": {
          "base_uri": "https://localhost:8080/"
        },
        "id": "-jMQtRn7da0b",
        "outputId": "fc52b29a-d408-4eca-8a91-7c4ab7827acf"
      },
      "execution_count": 123,
      "outputs": [
        {
          "output_type": "stream",
          "name": "stdout",
          "text": [
            "1\n"
          ]
        }
      ]
    },
    {
      "cell_type": "code",
      "source": [
        "#24. If sales increase by **10% next month**, what are the **new sales figures**?\n",
        "y=retail_data[:,1]\n",
        "x = 0.10 * retail_data[:,1]\n",
        "print(y+x)"
      ],
      "metadata": {
        "colab": {
          "base_uri": "https://localhost:8080/"
        },
        "id": "ecaFfqFfdhRQ",
        "outputId": "49fd62d2-90c9-46f0-f0e9-4ee6fc9b535f"
      },
      "execution_count": 127,
      "outputs": [
        {
          "output_type": "stream",
          "name": "stdout",
          "text": [
            "[27500. 35200. 30800. 45100. 38500. 29700. 42900. 33000. 49500. 36300.]\n"
          ]
        }
      ]
    },
    {
      "cell_type": "code",
      "source": [
        "#25. How will **total profit** change with the 10% sales increase?\n",
        "y=retail_data[:,1]\n",
        "z=0.1*retail_data[:,1]\n",
        "x=y+z\n",
        "p1=0.2 * y\n",
        "p2=0.2 * x\n",
        "print(p2-p1)"
      ],
      "metadata": {
        "colab": {
          "base_uri": "https://localhost:8080/"
        },
        "id": "Kyqrm3Ujd9ZW",
        "outputId": "492f39d3-e484-4bcc-a603-2adde441c770"
      },
      "execution_count": 130,
      "outputs": [
        {
          "output_type": "stream",
          "name": "stdout",
          "text": [
            "[500. 640. 560. 820. 700. 540. 780. 600. 900. 660.]\n"
          ]
        }
      ]
    },
    {
      "cell_type": "markdown",
      "source": [
        "**Operational Strategy**"
      ],
      "metadata": {
        "id": "qiGgPafUf963"
      }
    },
    {
      "cell_type": "code",
      "source": [
        "#26. Which stores need **inventory restocking** based on sales and current stock?\n",
        "y = retail_data[:,1]\n",
        "x = retail_data[:,4]\n",
        "z=np.corrcoef(x,y)\n",
        "z"
      ],
      "metadata": {
        "colab": {
          "base_uri": "https://localhost:8080/"
        },
        "id": "7JSU7wZHgIN5",
        "outputId": "cbd4e20b-4f6d-469d-cfda-35ad4d97ac30"
      },
      "execution_count": 134,
      "outputs": [
        {
          "output_type": "execute_result",
          "data": {
            "text/plain": [
              "array([[1.        , 0.91568893],\n",
              "       [0.91568893, 1.        ]])"
            ]
          },
          "metadata": {},
          "execution_count": 134
        }
      ]
    },
    {
      "cell_type": "code",
      "source": [
        "#30. Which stores can be considered for **expansion** based on strong sales and customer metrics?\n",
        "y= retail_data[:,1].mean()\n",
        "x = retail_data[:,2].mean()\n",
        "z=retail_data[(retail_data[:,1]>y)&(retail_data[:,2]>x)]\n",
        "print(z[:,0])"
      ],
      "metadata": {
        "colab": {
          "base_uri": "https://localhost:8080/"
        },
        "id": "w8XqYxaLglCd",
        "outputId": "e2bb8944-5137-4d37-acce-2ca477501dc6"
      },
      "execution_count": 144,
      "outputs": [
        {
          "output_type": "stream",
          "name": "stdout",
          "text": [
            "[4 7 9]\n"
          ]
        }
      ]
    }
  ]
}