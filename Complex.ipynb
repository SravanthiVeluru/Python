{
  "nbformat": 4,
  "nbformat_minor": 0,
  "metadata": {
    "colab": {
      "provenance": []
    },
    "kernelspec": {
      "name": "python3",
      "display_name": "Python 3"
    },
    "language_info": {
      "name": "python"
    }
  },
  "cells": [
    {
      "cell_type": "code",
      "source": [
        "# Question 1: Create complex number 5 + 3j\n",
        "print(\"Question 1: Create complex number 5 + 3j\")\n",
        "# Your code here'\n",
        "n=5+3j\n",
        "n"
      ],
      "metadata": {
        "colab": {
          "base_uri": "https://localhost:8080/"
        },
        "id": "Y0Z8XCiESmOC",
        "outputId": "8d3c528b-88e9-458e-b7e9-9b2c1ab5dc64"
      },
      "execution_count": 2,
      "outputs": [
        {
          "output_type": "stream",
          "name": "stdout",
          "text": [
            "Question 1: Create complex number 5 + 3j\n"
          ]
        },
        {
          "output_type": "execute_result",
          "data": {
            "text/plain": [
              "(5+3j)"
            ]
          },
          "metadata": {},
          "execution_count": 2
        }
      ]
    },
    {
      "cell_type": "code",
      "source": [
        "# Question 2: Find the real part of complex number 7 - 2j\n",
        "print(\"\\nQuestion 2: Find the real part of complex number 7 - 2j\")\n",
        "# Your code here\n",
        "n=7 - 2j\n",
        "n.real"
      ],
      "metadata": {
        "colab": {
          "base_uri": "https://localhost:8080/"
        },
        "id": "3yq12E0iS2WH",
        "outputId": "5c87dc1a-1e46-4b09-c587-a7c0fa1312b3"
      },
      "execution_count": 3,
      "outputs": [
        {
          "output_type": "stream",
          "name": "stdout",
          "text": [
            "\n",
            "Question 2: Find the real part of complex number 7 - 2j\n"
          ]
        },
        {
          "output_type": "execute_result",
          "data": {
            "text/plain": [
              "7.0"
            ]
          },
          "metadata": {},
          "execution_count": 3
        }
      ]
    },
    {
      "cell_type": "code",
      "source": [
        "# Question 3: Find the imaginary part of complex number 4 + 6j\n",
        "print(\"\\nQuestion 3: Find the imaginary part of complex number 4 + 6j\")\n",
        "# Your code here\n",
        "n=4 + 6j\n",
        "n.imag"
      ],
      "metadata": {
        "colab": {
          "base_uri": "https://localhost:8080/"
        },
        "id": "q_WVmWPSTIKJ",
        "outputId": "00726481-2434-4901-e198-653482a64c52"
      },
      "execution_count": 5,
      "outputs": [
        {
          "output_type": "stream",
          "name": "stdout",
          "text": [
            "\n",
            "Question 3: Find the imaginary part of complex number 4 + 6j\n"
          ]
        },
        {
          "output_type": "execute_result",
          "data": {
            "text/plain": [
              "6.0"
            ]
          },
          "metadata": {},
          "execution_count": 5
        }
      ]
    },
    {
      "cell_type": "code",
      "source": [
        "# Question 4: Add two complex numbers: (3 + 2j) and (1 + 4j)\n",
        "print(\"\\nQuestion 4: Add two complex numbers: (3 + 2j) and (1 + 4j)\")\n",
        "# Your code here\n",
        "n1=(3 + 2j)\n",
        "n2=(1 + 4j)\n",
        "n1+n2"
      ],
      "metadata": {
        "colab": {
          "base_uri": "https://localhost:8080/"
        },
        "id": "vTYab9dITYN9",
        "outputId": "e9b0cb39-74ec-4898-f0a0-9ff40df64047"
      },
      "execution_count": 6,
      "outputs": [
        {
          "output_type": "stream",
          "name": "stdout",
          "text": [
            "\n",
            "Question 4: Add two complex numbers: (3 + 2j) and (1 + 4j)\n"
          ]
        },
        {
          "output_type": "execute_result",
          "data": {
            "text/plain": [
              "(4+6j)"
            ]
          },
          "metadata": {},
          "execution_count": 6
        }
      ]
    },
    {
      "cell_type": "code",
      "source": [
        "# Question 5: Multiply two complex numbers: (2 + 3j) and (1 + 2j)\n",
        "print(\"\\nQuestion 5: Multiply two complex numbers: (2 + 3j) and (1 + 2j)\")\n",
        "# Your code here\n",
        "n1=(2 + 3j)\n",
        "n2=(1 + 2j)\n",
        "n1*n2"
      ],
      "metadata": {
        "colab": {
          "base_uri": "https://localhost:8080/"
        },
        "id": "d-OutD7xTiq2",
        "outputId": "802d63b6-fb7d-4e63-d4d1-185fef5fd181"
      },
      "execution_count": 7,
      "outputs": [
        {
          "output_type": "stream",
          "name": "stdout",
          "text": [
            "\n",
            "Question 5: Multiply two complex numbers: (2 + 3j) and (1 + 2j)\n"
          ]
        },
        {
          "output_type": "execute_result",
          "data": {
            "text/plain": [
              "(-4+7j)"
            ]
          },
          "metadata": {},
          "execution_count": 7
        }
      ]
    },
    {
      "cell_type": "code",
      "source": [
        "# Question 6: Find the magnitude of complex number 6 + 8j\n",
        "print(\"\\nQuestion 6: Find the magnitude of complex number 6 + 8j\")\n",
        "# Your code here\n",
        "n=6 + 8j\n",
        "abs(n)"
      ],
      "metadata": {
        "colab": {
          "base_uri": "https://localhost:8080/"
        },
        "id": "gHVdQk5XTyMC",
        "outputId": "2e59719d-f94b-425c-af86-100de753f782"
      },
      "execution_count": 8,
      "outputs": [
        {
          "output_type": "stream",
          "name": "stdout",
          "text": [
            "\n",
            "Question 6: Find the magnitude of complex number 6 + 8j\n"
          ]
        },
        {
          "output_type": "execute_result",
          "data": {
            "text/plain": [
              "10.0"
            ]
          },
          "metadata": {},
          "execution_count": 8
        }
      ]
    },
    {
      "cell_type": "code",
      "source": [
        "# Question 7: Find the conjugate of complex number 5 - 7j\n",
        "print(\"\\nQuestion 7: Find the conjugate of complex number 5 - 7j\")\n",
        "# Your code here\n",
        "n=5 - 7j\n",
        "n.conjugate()"
      ],
      "metadata": {
        "colab": {
          "base_uri": "https://localhost:8080/"
        },
        "id": "opNmz7tAUDj5",
        "outputId": "d1682ef9-2bf5-47a2-f45e-b82f030a69b7"
      },
      "execution_count": 10,
      "outputs": [
        {
          "output_type": "stream",
          "name": "stdout",
          "text": [
            "\n",
            "Question 7: Find the conjugate of complex number 5 - 7j\n"
          ]
        },
        {
          "output_type": "execute_result",
          "data": {
            "text/plain": [
              "(5+7j)"
            ]
          },
          "metadata": {},
          "execution_count": 10
        }
      ]
    },
    {
      "cell_type": "code",
      "source": [
        "# Question 8: Subtract complex numbers: (10 + 5j) - (3 + 2j)\n",
        "print(\"\\nQuestion 8: Subtract complex numbers: (10 + 5j) - (3 + 2j)\")\n",
        "# Your code here\n",
        "n1=(10 + 5j)\n",
        "n2=(3 + 2j)\n",
        "n1-n2"
      ],
      "metadata": {
        "colab": {
          "base_uri": "https://localhost:8080/"
        },
        "id": "_o9MuGd-UXe7",
        "outputId": "acfaa781-2934-49f4-e136-b800f13b9683"
      },
      "execution_count": 11,
      "outputs": [
        {
          "output_type": "stream",
          "name": "stdout",
          "text": [
            "\n",
            "Question 8: Subtract complex numbers: (10 + 5j) - (3 + 2j)\n"
          ]
        },
        {
          "output_type": "execute_result",
          "data": {
            "text/plain": [
              "(7+3j)"
            ]
          },
          "metadata": {},
          "execution_count": 11
        }
      ]
    },
    {
      "cell_type": "code",
      "source": [
        "# Question 9: Divide complex numbers: (8 + 6j) / (2 + 1j)\n",
        "print(\"\\nQuestion 9: Divide complex numbers: (8 + 6j) / (2 + 1j)\")\n",
        "# Your code here\n",
        "n1=(8 + 6j)\n",
        "n2=(2 + 1j)\n",
        "n1/n2"
      ],
      "metadata": {
        "colab": {
          "base_uri": "https://localhost:8080/"
        },
        "id": "3BJGV1j5UmD6",
        "outputId": "a104a08e-6fb2-43f1-edd8-4967d8e7cacc"
      },
      "execution_count": 13,
      "outputs": [
        {
          "output_type": "stream",
          "name": "stdout",
          "text": [
            "\n",
            "Question 9: Divide complex numbers: (8 + 6j) / (2 + 1j)\n"
          ]
        },
        {
          "output_type": "execute_result",
          "data": {
            "text/plain": [
              "(4.4+0.8j)"
            ]
          },
          "metadata": {},
          "execution_count": 13
        }
      ]
    },
    {
      "cell_type": "code",
      "source": [
        "# Question 10: Find the phase angle of complex number 1 + 1j\n",
        "print(\"\\nQuestion 10: Find the phase angle of complex number 1 + 1j\")\n",
        "# Your code here\n",
        "import cmath\n",
        "n=1 + 1j\n",
        "phase_angle = cmath.phase(n)\n",
        "phase_angle"
      ],
      "metadata": {
        "colab": {
          "base_uri": "https://localhost:8080/"
        },
        "id": "7XSiTU_YUwBQ",
        "outputId": "53902983-23a8-491d-b387-cce6f87a28e7"
      },
      "execution_count": 15,
      "outputs": [
        {
          "output_type": "stream",
          "name": "stdout",
          "text": [
            "\n",
            "Question 10: Find the phase angle of complex number 1 + 1j\n"
          ]
        },
        {
          "output_type": "execute_result",
          "data": {
            "text/plain": [
              "0.7853981633974483"
            ]
          },
          "metadata": {},
          "execution_count": 15
        }
      ]
    }
  ]
}