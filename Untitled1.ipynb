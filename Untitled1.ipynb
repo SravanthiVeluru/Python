{
  "nbformat": 4,
  "nbformat_minor": 0,
  "metadata": {
    "colab": {
      "provenance": []
    },
    "kernelspec": {
      "name": "python3",
      "display_name": "Python 3"
    },
    "language_info": {
      "name": "python"
    }
  },
  "cells": [
    {
      "cell_type": "code",
      "source": [
        "# Question 1: Calculate the product of first 10 natural numbers\n",
        "print(\"Question 1: Calculate the product of first 10 natural numbers\")\n",
        "# Your code here\n",
        "x = 1\n",
        "for i in range(1, 11):\n",
        "    x *= i\n",
        "x"
      ],
      "metadata": {
        "colab": {
          "base_uri": "https://localhost:8080/"
        },
        "id": "gtmtMoEaAKrl",
        "outputId": "9569effd-809b-4ec9-f1c9-b8e4358f8236"
      },
      "execution_count": 2,
      "outputs": [
        {
          "output_type": "stream",
          "name": "stdout",
          "text": [
            "Question 1: Calculate the product of first 10 natural numbers\n"
          ]
        },
        {
          "output_type": "execute_result",
          "data": {
            "text/plain": [
              "3628800"
            ]
          },
          "metadata": {},
          "execution_count": 2
        }
      ]
    },
    {
      "cell_type": "code",
      "source": [
        "# Question 2: Find the remainder when 156 is divided by 7\n",
        "print(\"\\nQuestion 2: Find the remainder when 156 is divided by 7\")\n",
        "# Your code here\n",
        "s=156%7\n",
        "s"
      ],
      "metadata": {
        "colab": {
          "base_uri": "https://localhost:8080/"
        },
        "id": "OpMzTJfUBb8V",
        "outputId": "fd5a674a-d43a-4773-9cae-40d37e275b5b"
      },
      "execution_count": 4,
      "outputs": [
        {
          "output_type": "stream",
          "name": "stdout",
          "text": [
            "\n",
            "Question 2: Find the remainder when 156 is divided by 7\n"
          ]
        },
        {
          "output_type": "execute_result",
          "data": {
            "text/plain": [
              "2"
            ]
          },
          "metadata": {},
          "execution_count": 4
        }
      ]
    },
    {
      "cell_type": "code",
      "source": [
        "# Question 3: Calculate the square of 25\n",
        "print(\"\\nQuestion 3: Calculate the square of 25\")\n",
        "# Your code here\n",
        "n=25\n",
        "x=n*n\n",
        "x"
      ],
      "metadata": {
        "colab": {
          "base_uri": "https://localhost:8080/"
        },
        "id": "1Vvr3bcvBuaV",
        "outputId": "754b8666-5d19-4ede-e943-1e15dcc8380c"
      },
      "execution_count": 5,
      "outputs": [
        {
          "output_type": "stream",
          "name": "stdout",
          "text": [
            "\n",
            "Question 3: Calculate the square of 25\n"
          ]
        },
        {
          "output_type": "execute_result",
          "data": {
            "text/plain": [
              "625"
            ]
          },
          "metadata": {},
          "execution_count": 5
        }
      ]
    },
    {
      "cell_type": "code",
      "source": [
        "# Question 4: Find the cube root of 125\n",
        "print(\"\\nQuestion 4: Find the cube root of 125\")\n",
        "# Your code here\n",
        "import math\n",
        "x=math.pow(125, 1/3)\n",
        "round(x)"
      ],
      "metadata": {
        "colab": {
          "base_uri": "https://localhost:8080/"
        },
        "id": "TFhVZ7hnB8t2",
        "outputId": "e22d9e9e-ebef-4feb-bcfc-1a9394b4f772"
      },
      "execution_count": 15,
      "outputs": [
        {
          "output_type": "stream",
          "name": "stdout",
          "text": [
            "\n",
            "Question 4: Find the cube root of 125\n"
          ]
        },
        {
          "output_type": "execute_result",
          "data": {
            "text/plain": [
              "5"
            ]
          },
          "metadata": {},
          "execution_count": 15
        }
      ]
    },
    {
      "cell_type": "code",
      "source": [
        "# Question 5: Calculate the sum of digits in number 12345\n",
        "print(\"\\nQuestion 5: Calculate the sum of digits in number 12345\")\n",
        "# Your code here\n",
        "# Method 3: List comprehension\n",
        "n = 12345\n",
        "x = [int(d) for d in str(n)]\n",
        "x\n",
        "sum(x)"
      ],
      "metadata": {
        "colab": {
          "base_uri": "https://localhost:8080/"
        },
        "id": "uktjjiibCvKR",
        "outputId": "57aab9a1-53b8-4931-cea8-a11eb8d34d40"
      },
      "execution_count": 19,
      "outputs": [
        {
          "output_type": "stream",
          "name": "stdout",
          "text": [
            "\n",
            "Question 5: Calculate the sum of digits in number 12345\n"
          ]
        },
        {
          "output_type": "execute_result",
          "data": {
            "text/plain": [
              "15"
            ]
          },
          "metadata": {},
          "execution_count": 19
        }
      ]
    },
    {
      "cell_type": "code",
      "source": [
        "# Question 6: Check if 97 is a prime number\n",
        "print(\"\\nQuestion 6: Check if 97 is a prime number\")\n",
        "# Your code here\n",
        "x=97\n",
        "if x==1:\n",
        "  print(x, 'is neither prime nor consonant')\n",
        "\n",
        "\n",
        "\n"
      ],
      "metadata": {
        "colab": {
          "base_uri": "https://localhost:8080/"
        },
        "id": "wsMs1usYDnOo",
        "outputId": "b1e5f775-47ea-466a-a176-d74850dce774"
      },
      "execution_count": 20,
      "outputs": [
        {
          "output_type": "stream",
          "name": "stdout",
          "text": [
            "\n",
            "Question 6: Check if 97 is a prime number\n"
          ]
        },
        {
          "output_type": "execute_result",
          "data": {
            "text/plain": [
              "97"
            ]
          },
          "metadata": {},
          "execution_count": 20
        }
      ]
    },
    {
      "cell_type": "code",
      "source": [
        "# Question 7: Find the factorial of 8\n",
        "print(\"\\nQuestion 7: Find the factorial of 8\")\n",
        "# Your code here\n",
        "n = 8\n",
        "x = 1\n",
        "\n",
        "for i in range(1, n + 1):\n",
        "    n = n * i\n",
        "n"
      ],
      "metadata": {
        "colab": {
          "base_uri": "https://localhost:8080/"
        },
        "id": "0UhW1P6XHfZv",
        "outputId": "a427ff29-6a53-4a71-a63c-7f1c3e1f864d"
      },
      "execution_count": 21,
      "outputs": [
        {
          "output_type": "stream",
          "name": "stdout",
          "text": [
            "\n",
            "Question 7: Find the factorial of 8\n"
          ]
        },
        {
          "output_type": "execute_result",
          "data": {
            "text/plain": [
              "322560"
            ]
          },
          "metadata": {},
          "execution_count": 21
        }
      ]
    },
    {
      "cell_type": "code",
      "source": [
        "# Question 8: Calculate the average of numbers: 15, 23, 31, 42, 56\n",
        "print(\"\\nQuestion 8: Calculate the average of numbers: 15, 23, 31, 42, 56\")\n",
        "# Your code here\n",
        "n=[15,23,31,42,56]\n",
        "y=sum(n)\n",
        "z=len(n)\n",
        "x=y/z\n",
        "x"
      ],
      "metadata": {
        "colab": {
          "base_uri": "https://localhost:8080/"
        },
        "id": "QRMVsWTgIVye",
        "outputId": "901c1387-53d7-40af-a506-8c39b110bb48"
      },
      "execution_count": 24,
      "outputs": [
        {
          "output_type": "stream",
          "name": "stdout",
          "text": [
            "\n",
            "Question 8: Calculate the average of numbers: 15, 23, 31, 42, 56\n"
          ]
        },
        {
          "output_type": "execute_result",
          "data": {
            "text/plain": [
              "33.4"
            ]
          },
          "metadata": {},
          "execution_count": 24
        }
      ]
    },
    {
      "cell_type": "code",
      "source": [
        "# Question 9: Find the greatest common divisor (GCD) of 48 and 36\n",
        "print(\"\\nQuestion 9: Find the greatest common divisor (GCD) of 48 and 36\")\n",
        "# Your code here\n",
        "a = 48\n",
        "b = 36\n",
        "while b != 0:\n",
        "    remainder = a % b\n",
        "    a = b\n",
        "    b = remainder\n",
        "gcd"
      ],
      "metadata": {
        "colab": {
          "base_uri": "https://localhost:8080/"
        },
        "id": "X_85ep0MJLDF",
        "outputId": "5daa4fb7-5866-43b5-d827-0c7251a3c466"
      },
      "execution_count": 28,
      "outputs": [
        {
          "output_type": "stream",
          "name": "stdout",
          "text": [
            "\n",
            "Question 9: Find the greatest common divisor (GCD) of 48 and 36\n"
          ]
        },
        {
          "output_type": "execute_result",
          "data": {
            "text/plain": [
              "12"
            ]
          },
          "metadata": {},
          "execution_count": 28
        }
      ]
    },
    {
      "cell_type": "code",
      "source": [
        "# Question 10: Calculate the sum of first 20 odd numbers\n",
        "print(\"\\nQuestion 10: Calculate the sum of first 20 odd numbers\")\n",
        "# Your code here\n",
        "n = 0\n",
        "i = 0\n",
        "for i in range(1, 100, 2):  # Start from 1, step by 2\n",
        "    if i < 20:\n",
        "        n = n + i\n",
        "        i = i + 1\n",
        "n"
      ],
      "metadata": {
        "colab": {
          "base_uri": "https://localhost:8080/"
        },
        "id": "In3NBxr7JvHO",
        "outputId": "e07c0896-1283-459b-efbf-aa51b04579ac"
      },
      "execution_count": 29,
      "outputs": [
        {
          "output_type": "stream",
          "name": "stdout",
          "text": [
            "\n",
            "Question 10: Calculate the sum of first 20 odd numbers\n"
          ]
        },
        {
          "output_type": "execute_result",
          "data": {
            "text/plain": [
              "100"
            ]
          },
          "metadata": {},
          "execution_count": 29
        }
      ]
    }
  ]
}