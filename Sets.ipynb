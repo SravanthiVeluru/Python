{
  "nbformat": 4,
  "nbformat_minor": 0,
  "metadata": {
    "colab": {
      "provenance": []
    },
    "kernelspec": {
      "name": "python3",
      "display_name": "Python 3"
    },
    "language_info": {
      "name": "python"
    }
  },
  "cells": [
    {
      "cell_type": "code",
      "execution_count": null,
      "metadata": {
        "id": "6__vT0_x4CDx"
      },
      "outputs": [],
      "source": [
        "# SET DATATYPE ASSIGNMENT\n",
        "# ======================\n",
        "\n",
        "# SOLVED EXAMPLE\n",
        "# --------------\n",
        "# Question: Find the union of two sets\n",
        "print(\"SOLVED EXAMPLE:\")\n",
        "print(\"Find the union of two sets\")\n",
        "set1 = {1, 2, 3, 4, 5}\n",
        "set2 = {4, 5, 6, 7, 8}\n",
        "union_set = set1.union(set2)\n",
        "print(f\"Set 1: {set1}\")\n",
        "print(f\"Set 2: {set2}\")\n",
        "print(f\"Union: {union_set}\")\n",
        "print(\"-\" * 50)\n",
        "\n",
        "# ASSIGNMENT QUESTIONS\n",
        "# ===================\n",
        "\n",
        "# Question 1: Create a set of first 10 natural numbers\n",
        "print(\"Question 1: Create a set of first 10 natural numbers\")\n",
        "# Your code here\n",
        "\n",
        "# Question 2: Add element 11 to set {1, 2, 3, 4, 5}\n",
        "print(\"\\nQuestion 2: Add element 11 to set {1, 2, 3, 4, 5}\")\n",
        "# Your code here\n",
        "\n",
        "# Question 3: Remove element 3 from set {1, 2, 3, 4, 5, 6}\n",
        "print(\"\\nQuestion 3: Remove element 3 from set {1, 2, 3, 4, 5, 6}\")\n",
        "# Your code here\n",
        "\n",
        "# Question 4: Find the intersection of {1, 2, 3, 4, 5} and {4, 5, 6, 7, 8}\n",
        "print(\"\\nQuestion 4: Find the intersection of {1, 2, 3, 4, 5} and {4, 5, 6, 7, 8}\")\n",
        "# Your code here\n",
        "\n",
        "# Question 5: Find the difference between {1, 2, 3, 4, 5} and {4, 5, 6, 7, 8}\n",
        "print(\"\\nQuestion 5: Find the difference between {1, 2, 3, 4, 5} and {4, 5, 6, 7, 8}\")\n",
        "# Your code here\n",
        "\n",
        "# Question 6: Check if 5 is in set {1, 2, 3, 4, 6, 7, 8}\n",
        "print(\"\\nQuestion 6: Check if 5 is in set {1, 2, 3, 4, 6, 7, 8}\")\n",
        "# Your code here\n",
        "\n",
        "# Question 7: Find the length of set {'a', 'b', 'c', 'd', 'e'}\n",
        "print(\"\\nQuestion 7: Find the length of set {'a', 'b', 'c', 'd', 'e'}\")\n",
        "# Your code here\n",
        "\n",
        "# Question 8: Create a set of vowels from string \"hello world\"\n",
        "print(\"\\nQuestion 8: Create a set of vowels from string 'hello world'\")\n",
        "# Your code here\n",
        "\n",
        "# Question 9: Remove duplicates from list [1, 2, 2, 3, 4, 4, 5, 6, 6, 7] using set\n",
        "print(\"\\nQuestion 9: Remove duplicates from list [1, 2, 2, 3, 4, 4, 5, 6, 6, 7] using set\")\n",
        "# Your code here\n",
        "\n",
        "# Question 10: Check if {1, 2, 3} is a subset of {1, 2, 3, 4, 5, 6}\n",
        "print(\"\\nQuestion 10: Check if {1, 2, 3} is a subset of {1, 2, 3, 4, 5, 6}\")\n",
        "# Your code here"
      ]
    },
    {
      "cell_type": "code",
      "source": [
        "# Question 1: Create a set of first 10 natural numbers\n",
        "print(\"Question 1: Create a set of first 10 natural numbers\")\n",
        "# Your code here\n",
        "\n",
        "n= set(range(1, 11))\n",
        "n"
      ],
      "metadata": {
        "colab": {
          "base_uri": "https://localhost:8080/"
        },
        "id": "ahwJ1wUc6ssP",
        "outputId": "ee83d81f-cf45-4a3e-d71e-6be1a11ec4b7"
      },
      "execution_count": 2,
      "outputs": [
        {
          "output_type": "stream",
          "name": "stdout",
          "text": [
            "Question 1: Create a set of first 10 natural numbers\n"
          ]
        },
        {
          "output_type": "execute_result",
          "data": {
            "text/plain": [
              "{1, 2, 3, 4, 5, 6, 7, 8, 9, 10}"
            ]
          },
          "metadata": {},
          "execution_count": 2
        }
      ]
    },
    {
      "cell_type": "code",
      "source": [
        "# Question 2: Add element 11 to set {1, 2, 3, 4, 5}\n",
        "print(\"\\nQuestion 2: Add element 11 to set {1, 2, 3, 4, 5}\")\n",
        "# Your code here\n",
        "s={1, 2, 3, 4, 5}\n",
        "s.add(11)\n",
        "s"
      ],
      "metadata": {
        "colab": {
          "base_uri": "https://localhost:8080/"
        },
        "id": "HJDCM5ft7RBv",
        "outputId": "60f5e782-0235-450a-e3bc-ba5310d9083a"
      },
      "execution_count": 4,
      "outputs": [
        {
          "output_type": "stream",
          "name": "stdout",
          "text": [
            "\n",
            "Question 2: Add element 11 to set {1, 2, 3, 4, 5}\n"
          ]
        },
        {
          "output_type": "execute_result",
          "data": {
            "text/plain": [
              "{1, 2, 3, 4, 5, 11}"
            ]
          },
          "metadata": {},
          "execution_count": 4
        }
      ]
    },
    {
      "cell_type": "code",
      "source": [
        "# Question 3: Remove element 3 from set {1, 2, 3, 4, 5, 6}\n",
        "print(\"\\nQuestion 3: Remove element 3 from set {1, 2, 3, 4, 5, 6}\")\n",
        "# Your code here\n",
        "s={1, 2, 3, 4, 5, 6}\n",
        "s.remove(3)\n",
        "s"
      ],
      "metadata": {
        "colab": {
          "base_uri": "https://localhost:8080/"
        },
        "id": "qd7fKwt28IgE",
        "outputId": "e28c5bfd-f5e7-437e-ab9b-8994125e4938"
      },
      "execution_count": 5,
      "outputs": [
        {
          "output_type": "stream",
          "name": "stdout",
          "text": [
            "\n",
            "Question 3: Remove element 3 from set {1, 2, 3, 4, 5, 6}\n"
          ]
        },
        {
          "output_type": "execute_result",
          "data": {
            "text/plain": [
              "{1, 2, 4, 5, 6}"
            ]
          },
          "metadata": {},
          "execution_count": 5
        }
      ]
    },
    {
      "cell_type": "code",
      "source": [
        "# Question 4: Find the intersection of {1, 2, 3, 4, 5} and {4, 5, 6, 7, 8}\n",
        "print(\"\\nQuestion 4: Find the intersection of {1, 2, 3, 4, 5} and {4, 5, 6, 7, 8}\")\n",
        "# Your code here\n",
        "s1={1, 2, 3, 4, 5}\n",
        "s2={4, 5, 6, 7, 8}\n",
        "s1&s2"
      ],
      "metadata": {
        "colab": {
          "base_uri": "https://localhost:8080/"
        },
        "id": "eqgsu2rQ8QWu",
        "outputId": "06d9d7b4-8bde-4ccf-e9f0-2a35aff18366"
      },
      "execution_count": 7,
      "outputs": [
        {
          "output_type": "stream",
          "name": "stdout",
          "text": [
            "\n",
            "Question 4: Find the intersection of {1, 2, 3, 4, 5} and {4, 5, 6, 7, 8}\n"
          ]
        },
        {
          "output_type": "execute_result",
          "data": {
            "text/plain": [
              "{4, 5}"
            ]
          },
          "metadata": {},
          "execution_count": 7
        }
      ]
    },
    {
      "cell_type": "code",
      "source": [
        "# Question 5: Find the difference between {1, 2, 3, 4, 5} and {4, 5, 6, 7, 8}\n",
        "print(\"\\nQuestion 5: Find the difference between {1, 2, 3, 4, 5} and {4, 5, 6, 7, 8}\")\n",
        "# Your code here\n",
        "s1={1, 2, 3, 4, 5}\n",
        "s2={4, 5, 6, 7, 8}\n",
        "s1-s2"
      ],
      "metadata": {
        "colab": {
          "base_uri": "https://localhost:8080/"
        },
        "id": "HXdJGymB8e0o",
        "outputId": "878a5d84-8595-4e56-d712-a27ea97c847f"
      },
      "execution_count": 8,
      "outputs": [
        {
          "output_type": "stream",
          "name": "stdout",
          "text": [
            "\n",
            "Question 5: Find the difference between {1, 2, 3, 4, 5} and {4, 5, 6, 7, 8}\n"
          ]
        },
        {
          "output_type": "execute_result",
          "data": {
            "text/plain": [
              "{1, 2, 3}"
            ]
          },
          "metadata": {},
          "execution_count": 8
        }
      ]
    },
    {
      "cell_type": "code",
      "source": [
        "# Question 6: Check if 5 is in set {1, 2, 3, 4, 6, 7, 8}\n",
        "print(\"\\nQuestion 6: Check if 5 is in set {1, 2, 3, 4, 6, 7, 8}\")\n",
        "# Your code here\n",
        "S={1, 2, 3, 4, 6, 7, 8}\n",
        "5 in S"
      ],
      "metadata": {
        "colab": {
          "base_uri": "https://localhost:8080/"
        },
        "id": "kwO8xyRh9BKz",
        "outputId": "c74749f8-2e10-4faa-da22-72ad3d22bb0e"
      },
      "execution_count": 20,
      "outputs": [
        {
          "output_type": "stream",
          "name": "stdout",
          "text": [
            "\n",
            "Question 6: Check if 5 is in set {1, 2, 3, 4, 6, 7, 8}\n"
          ]
        },
        {
          "output_type": "execute_result",
          "data": {
            "text/plain": [
              "False"
            ]
          },
          "metadata": {},
          "execution_count": 20
        }
      ]
    },
    {
      "cell_type": "code",
      "source": [
        "# Question 7: Find the length of set {'a', 'b', 'c', 'd', 'e'}\n",
        "print(\"\\nQuestion 7: Find the length of set {'a', 'b', 'c', 'd', 'e'}\")\n",
        "# Your code here\n",
        "S={'a', 'b', 'c', 'd', 'e'}\n",
        "len(S)"
      ],
      "metadata": {
        "colab": {
          "base_uri": "https://localhost:8080/"
        },
        "id": "F6GVmljA_tWn",
        "outputId": "9993a85e-5b28-4a7d-c699-9dd59f47a322"
      },
      "execution_count": 21,
      "outputs": [
        {
          "output_type": "stream",
          "name": "stdout",
          "text": [
            "\n",
            "Question 7: Find the length of set {'a', 'b', 'c', 'd', 'e'}\n"
          ]
        },
        {
          "output_type": "execute_result",
          "data": {
            "text/plain": [
              "5"
            ]
          },
          "metadata": {},
          "execution_count": 21
        }
      ]
    },
    {
      "cell_type": "code",
      "source": [
        "# Question 8: Create a set of vowels from string \"hello world\"\n",
        "print(\"\\nQuestion 8: Create a set of vowels from string 'hello world'\")\n",
        "# Your code here\n",
        "S=\"hello world\"\n",
        "v=\"aeiou\"\n"
      ],
      "metadata": {
        "colab": {
          "base_uri": "https://localhost:8080/"
        },
        "id": "c4jXzvJW_xzr",
        "outputId": "556ebf54-0b35-4671-bc0f-ba244a9265d6"
      },
      "execution_count": 22,
      "outputs": [
        {
          "output_type": "stream",
          "name": "stdout",
          "text": [
            "\n",
            "Question 8: Create a set of vowels from string 'hello world'\n"
          ]
        },
        {
          "output_type": "execute_result",
          "data": {
            "text/plain": [
              "False"
            ]
          },
          "metadata": {},
          "execution_count": 22
        }
      ]
    },
    {
      "cell_type": "code",
      "source": [
        "# Question 9: Remove duplicates from list [1, 2, 2, 3, 4, 4, 5, 6, 6, 7] using set\n",
        "print(\"\\nQuestion 9: Remove duplicates from list [1, 2, 2, 3, 4, 4, 5, 6, 6, 7] using set\")\n",
        "# Your code here\n",
        "list=[1, 2, 2, 3, 4, 4, 5, 6, 6, 7]\n",
        "set(list)"
      ],
      "metadata": {
        "colab": {
          "base_uri": "https://localhost:8080/"
        },
        "id": "ODEsYjNwAP0k",
        "outputId": "48ef0cf2-7aab-4245-8321-d43dc7872c42"
      },
      "execution_count": 24,
      "outputs": [
        {
          "output_type": "stream",
          "name": "stdout",
          "text": [
            "\n",
            "Question 9: Remove duplicates from list [1, 2, 2, 3, 4, 4, 5, 6, 6, 7] using set\n"
          ]
        },
        {
          "output_type": "execute_result",
          "data": {
            "text/plain": [
              "{1, 2, 3, 4, 5, 6, 7}"
            ]
          },
          "metadata": {},
          "execution_count": 24
        }
      ]
    },
    {
      "cell_type": "code",
      "source": [
        "# Question 10: Check if {1, 2, 3} is a subset of {1, 2, 3, 4, 5, 6}\n",
        "print(\"\\nQuestion 10: Check if {1, 2, 3} is a subset of {1, 2, 3, 4, 5, 6}\")\n",
        "# Your code here\n",
        "S1={1, 2, 3}\n",
        "S2={1, 2, 3, 4, 5, 6}\n",
        "S1.issubset(S2)"
      ],
      "metadata": {
        "colab": {
          "base_uri": "https://localhost:8080/"
        },
        "id": "THtxfRccAeYd",
        "outputId": "32b30eb6-dbbf-4a5f-d39f-ba894ffcfc84"
      },
      "execution_count": 26,
      "outputs": [
        {
          "output_type": "stream",
          "name": "stdout",
          "text": [
            "\n",
            "Question 10: Check if {1, 2, 3} is a subset of {1, 2, 3, 4, 5, 6}\n"
          ]
        },
        {
          "output_type": "execute_result",
          "data": {
            "text/plain": [
              "True"
            ]
          },
          "metadata": {},
          "execution_count": 26
        }
      ]
    }
  ]
}