{
  "nbformat": 4,
  "nbformat_minor": 0,
  "metadata": {
    "colab": {
      "provenance": []
    },
    "kernelspec": {
      "name": "python3",
      "display_name": "Python 3"
    },
    "language_info": {
      "name": "python"
    }
  },
  "cells": [
    {
      "cell_type": "code",
      "execution_count": null,
      "metadata": {
        "colab": {
          "base_uri": "https://localhost:8080/"
        },
        "id": "BVbF8Q6St8UD",
        "outputId": "10f3d623-3b2b-4da7-e06d-6ee30333542f"
      },
      "outputs": [
        {
          "output_type": "stream",
          "name": "stdout",
          "text": [
            "Question 1: Create a list of first 10 square numbers\n",
            "[1]\n",
            "[1, 4]\n",
            "[1, 4, 9]\n",
            "[1, 4, 9, 16]\n",
            "[1, 4, 9, 16, 25]\n",
            "[1, 4, 9, 16, 25, 36]\n",
            "[1, 4, 9, 16, 25, 36, 49]\n",
            "[1, 4, 9, 16, 25, 36, 49, 64]\n",
            "[1, 4, 9, 16, 25, 36, 49, 64, 81]\n",
            "[1, 4, 9, 16, 25, 36, 49, 64, 81, 100]\n"
          ]
        }
      ],
      "source": [
        "# Question 1: Create a list of first 10 square numbers\n",
        "print(\"Question 1: Create a list of first 10 square numbers\")\n",
        "# Your code here\n",
        "square_numbers=[]\n",
        "for i in range(1,11):\n",
        "  square_numbers.append(i**2)\n",
        "  print (square_numbers)\n"
      ]
    },
    {
      "cell_type": "code",
      "source": [
        "# Question 2: Find the sum of all even numbers in [1, 2, 3, 4, 5, 6, 7, 8, 9, 10]\n",
        "print(\"\\nQuestion 2: Find the sum of all even numbers in [1, 2, 3, 4, 5, 6, 7, 8, 9, 10]\")\n",
        "# Your code here\n",
        "numbers=[1,2,3,4,5,6,7,8,9,10]\n",
        "sum_of_evens=0\n",
        "for num in numbers:\n",
        "  if num % 2==0:\n",
        "    sum_of_evens = num\n",
        "    print(sum_of_evens)"
      ],
      "metadata": {
        "colab": {
          "base_uri": "https://localhost:8080/"
        },
        "id": "irEwd0eixEuX",
        "outputId": "1f9b5f4d-5a5f-40c8-c615-1b8d637e15ce"
      },
      "execution_count": null,
      "outputs": [
        {
          "output_type": "stream",
          "name": "stdout",
          "text": [
            "\n",
            "Question 2: Find the sum of all even numbers in [1, 2, 3, 4, 5, 6, 7, 8, 9, 10]\n",
            "2\n",
            "4\n",
            "6\n",
            "8\n",
            "10\n"
          ]
        }
      ]
    },
    {
      "cell_type": "code",
      "source": [
        "# Question 3: Remove duplicates from [1, 2, 2, 3, 4, 4, 5, 6, 6, 7]\n",
        "print(\"\\nQuestion 3: Remove duplicates from [1, 2, 2, 3, 4, 4, 5, 6, 6, 7]\")\n",
        "x = [1,2,2,3,4,4,5,6,6,7]\n",
        "num_x=list(set(x))\n",
        "print(num_x)"
      ],
      "metadata": {
        "colab": {
          "base_uri": "https://localhost:8080/"
        },
        "id": "XJzYhfudySKr",
        "outputId": "0d633b81-f182-4aef-c11c-680138d46005"
      },
      "execution_count": null,
      "outputs": [
        {
          "output_type": "stream",
          "name": "stdout",
          "text": [
            "\n",
            "Question 3: Remove duplicates from [1, 2, 2, 3, 4, 4, 5, 6, 6, 7]\n",
            "[1, 2, 3, 4, 5, 6, 7]\n"
          ]
        }
      ]
    },
    {
      "cell_type": "code",
      "source": [
        "# Question 4: Sort the list [64, 34, 25, 12, 22, 11, 90] in descending order\n",
        "print(\"\\nQuestion 4: Sort the list [64, 34, 25, 12, 22, 11, 90] in descending order\")\n",
        "# Your code here\n",
        "x = [64,34,25,12,22,11,90]\n",
        "x.sort()\n",
        "print(x)"
      ],
      "metadata": {
        "colab": {
          "base_uri": "https://localhost:8080/"
        },
        "id": "31q-KUQL9kKy",
        "outputId": "53357e53-e9f2-4c71-f1be-b13ec5658c4c"
      },
      "execution_count": null,
      "outputs": [
        {
          "output_type": "stream",
          "name": "stdout",
          "text": [
            "\n",
            "Question 4: Sort the list [64, 34, 25, 12, 22, 11, 90] in descending order\n",
            "[11, 12, 22, 25, 34, 64, 90]\n"
          ]
        }
      ]
    },
    {
      "cell_type": "code",
      "source": [
        "# Question 5: Find the average of numbers in [15, 23, 31, 42, 56, 78, 91]\n",
        "print(\"\\nQuestion 5: Find the average of numbers in [15, 23, 31, 42, 56, 78, 91]\")\n",
        "x=[15,23,31,42,56,78,91]\n",
        "average=sum(x)/len(x)\n",
        "print(average)"
      ],
      "metadata": {
        "id": "Aeta_zpUAAoe",
        "colab": {
          "base_uri": "https://localhost:8080/"
        },
        "outputId": "ecf7dd75-bbb3-4c47-a7c0-a4c8ca91ae2d"
      },
      "execution_count": null,
      "outputs": [
        {
          "output_type": "stream",
          "name": "stdout",
          "text": [
            "\n",
            "Question 5: Find the average of numbers in [15, 23, 31, 42, 56, 78, 91]\n",
            "48.0\n"
          ]
        }
      ]
    },
    {
      "cell_type": "code",
      "source": [
        "# Question 6: Create a list of first 15 Fibonacci numbers\n",
        "print(\"\\nQuestion 6: Create a list of first 15 Fibonacci number\n"
      ],
      "metadata": {
        "id": "oLpqfmZYXGDB"
      },
      "execution_count": null,
      "outputs": []
    },
    {
      "cell_type": "code",
      "source": [
        "# Question 7: Find the second largest numbers in [45, 67, 23, 89, 12, 34, 78]\n",
        "print(\"\\nQuestion 7: Find the second largest number in [45, 67, 23, 89, 12, 34, 78]\")\n",
        "x=[45, 67, 23, 89, 12, 34, 78]\n",
        "secondlargestnumber=sorted(set(x))[-2]\n",
        "print(secondlargestnumber)\n"
      ],
      "metadata": {
        "colab": {
          "base_uri": "https://localhost:8080/"
        },
        "id": "b_EwcMN8d1wJ",
        "outputId": "e015cbeb-3759-423b-ad30-a6716c633d25"
      },
      "execution_count": null,
      "outputs": [
        {
          "output_type": "stream",
          "name": "stdout",
          "text": [
            "\n",
            "Question 7: Find the second largest number in [45, 67, 23, 89, 12, 34, 78]\n",
            "78\n"
          ]
        }
      ]
    },
    {
      "cell_type": "code",
      "source": [
        "# Question 8: Reverse the list [1, 2, 3, 4, 5, 6, 7, 8, 9, 10]\n",
        "print(\"\\nQuestion 8: Reverse the list [1, 2, 3, 4, 5, 6, 7, 8, 9, 10]\")\n",
        "\n",
        "x=[1,2,3,4,5,6,7,8,9,10]\n",
        "print(x[::-1])\n"
      ],
      "metadata": {
        "colab": {
          "base_uri": "https://localhost:8080/"
        },
        "id": "vPmgOP4qjkUp",
        "outputId": "06b4d2b1-a8b3-474d-c9b7-da6772e9dd9f"
      },
      "execution_count": null,
      "outputs": [
        {
          "output_type": "stream",
          "name": "stdout",
          "text": [
            "\n",
            "Question 8: Reverse the list [1, 2, 3, 4, 5, 6, 7, 8, 9, 10]\n",
            "[10, 9, 8, 7, 6, 5, 4, 3, 2, 1]\n"
          ]
        }
      ]
    },
    {
      "cell_type": "code",
      "source": [
        "# Question 9: Count how many times 5 appears in [1, 5, 2, 5, 3, 5, 4, 5, 6]\n",
        "print(\"\\nQuestion 9: Count how many times 5 appears in [1, 5, 2, 5, 3, 5, 4, 5, 6]\")\n",
        "# Your code here\n",
        "x=[1,5,2,5,3,5,4,5,6]\n",
        "print(x.count(5))"
      ],
      "metadata": {
        "colab": {
          "base_uri": "https://localhost:8080/"
        },
        "id": "Mp7A0uWGn81E",
        "outputId": "e41604e8-99a9-4ea1-c161-3bdef7365f59"
      },
      "execution_count": null,
      "outputs": [
        {
          "output_type": "stream",
          "name": "stdout",
          "text": [
            "\n",
            "Question 9: Count how many times 5 appears in [1, 5, 2, 5, 3, 5, 4, 5, 6]\n",
            "4\n"
          ]
        }
      ]
    },
    {
      "cell_type": "code",
      "source": [
        "# Question 10: Create a list of prime numbers between 1 and 50\n",
        "print(\"\\nQuestion 10: Create a list of prime numbers between 1 and 50\")\n",
        "# Your code here\n",
        "\n"
      ],
      "metadata": {
        "id": "VUj-sEHLpWFw"
      },
      "execution_count": null,
      "outputs": []
    },
    {
      "cell_type": "code",
      "source": [
        "# Question 11: Flatten nested list [[1, 2, 3], [4, 5, 6], [7, 8, 9]]\n",
        "print(\"\\nQuestion 11: Flatten nested list [[1, 2, 3], [4, 5, 6], [7, 8, 9]]\")\n",
        "# Your code here\n",
        "x = [[1, 2, 3], [4, 5, 6], [7, 8, 9]]\n",
        "s=x[0]+x[1]+x[2]\n",
        "print(s)\n"
      ],
      "metadata": {
        "colab": {
          "base_uri": "https://localhost:8080/"
        },
        "id": "AIwleVnLpY2L",
        "outputId": "4a88c871-8338-4d2b-ffb9-716c3233afd8"
      },
      "execution_count": null,
      "outputs": [
        {
          "output_type": "stream",
          "name": "stdout",
          "text": [
            "\n",
            "Question 11: Flatten nested list [[1, 2, 3], [4, 5, 6], [7, 8, 9]]\n",
            "[1, 2, 3, 4, 5, 6, 7, 8, 9]\n"
          ]
        }
      ]
    },
    {
      "cell_type": "code",
      "source": [
        "#Question 12: Find common elements between [1, 2, 3, 4, 5] and [4, 5, 6, 7, 8]\n",
        "print(\"\\nQuestion 12: Find common elements between [1, 2, 3, 4, 5] and [4, 5, 6, 7, 8]\")\n",
        "# Your code here\n",
        "a = [1, 2, 3, 4, 5]\n",
        "b = [4, 5, 6, 7, 8]\n",
        "c =set(a) & set(b)\n",
        "print(list(c))"
      ],
      "metadata": {
        "colab": {
          "base_uri": "https://localhost:8080/"
        },
        "id": "9weUmFJfzzzA",
        "outputId": "2b463ab2-de48-455b-c9d0-b453c96c951b"
      },
      "execution_count": null,
      "outputs": [
        {
          "output_type": "stream",
          "name": "stdout",
          "text": [
            "\n",
            "Question 12: Find common elements between [1, 2, 3, 4, 5] and [4, 5, 6, 7, 8]\n",
            "[4, 5]\n"
          ]
        }
      ]
    },
    {
      "cell_type": "code",
      "source": [
        "\n",
        "# Question 13: Create a list of lists: [[1, 2], [3, 4], [5, 6]]\n",
        "print(\"\\nQuestion 13: Create a list of lists: [[1, 2], [3, 4], [5, 6]]\")\n",
        "# Your code here\n",
        "x = [[1, 2], [3, 4], [5, 6]]\n",
        "print(x)"
      ],
      "metadata": {
        "colab": {
          "base_uri": "https://localhost:8080/"
        },
        "id": "ySnCymCj3hhW",
        "outputId": "4629a345-1232-4856-a86c-b8fb555d7c3d"
      },
      "execution_count": null,
      "outputs": [
        {
          "output_type": "stream",
          "name": "stdout",
          "text": [
            "\n",
            "Question 13: Create a list of lists: [[1, 2], [3, 4], [5, 6]]\n",
            "[[1, 2], [3, 4], [5, 6]]\n"
          ]
        }
      ]
    },
    {
      "cell_type": "code",
      "source": [
        "\n",
        "# Question 14: Find the sum of each sublist in [[1, 2, 3], [4, 5, 6], [7, 8, 9]]\n",
        "print(\"\\nQuestion 14: Find the sum of each sublist in [[1, 2, 3], [4, 5, 6], [7, 8, 9]]\")\n",
        "# Your code here\n",
        "S=[[1,2,3], [4,5,6], [7,8,9]]\n",
        "\n",
        "X1=S[0]\n",
        "\n",
        "X2=S[1]\n",
        "\n",
        "X3=S[2]\n",
        "\n",
        "Y1=sum(n1)\n",
        "\n",
        "Y2=sum(n2)\n",
        "\n",
        "Y3=sum(n3)\n",
        "\n",
        "Y1,Y2,Y3"
      ],
      "metadata": {
        "colab": {
          "base_uri": "https://localhost:8080/"
        },
        "id": "B-_4t68w4hbv",
        "outputId": "391869ce-9302-439e-d610-e722d1a02f29"
      },
      "execution_count": null,
      "outputs": [
        {
          "output_type": "stream",
          "name": "stdout",
          "text": [
            "\n",
            "Question 14: Find the sum of each sublist in [[1, 2, 3], [4, 5, 6], [7, 8, 9]]\n"
          ]
        },
        {
          "output_type": "execute_result",
          "data": {
            "text/plain": [
              "(6, 15, 24)"
            ]
          },
          "metadata": {},
          "execution_count": 4
        }
      ]
    },
    {
      "cell_type": "code",
      "source": [
        "\n",
        "\n",
        "# Question 16: Find the maximum value in each sublist of [[1, 5, 3], [9, 2, 7], [4, 8, 6]]\n",
        "\n",
        "print(\"\\nQuestion 16: Find the maximum value in each sublist of [[1, 5, 3], [9, 2, 7], [4, 8, 6]]\")\n",
        "\n",
        "# Your code here\n",
        "x=[[1, 5, 3], [9, 2, 7], [4, 8, 6]]\n",
        "y=[max(sublist) for sublist in x]\n",
        "print(y)\n"
      ],
      "metadata": {
        "id": "bDeUlFNhFEFC",
        "colab": {
          "base_uri": "https://localhost:8080/"
        },
        "outputId": "8ffd054f-52f0-44cb-8ae8-51c1e6ecb6ba"
      },
      "execution_count": 6,
      "outputs": [
        {
          "output_type": "stream",
          "name": "stdout",
          "text": [
            "\n",
            "Question 16: Find the maximum value in each sublist of [[1, 5, 3], [9, 2, 7], [4, 8, 6]]\n",
            "[5, 9, 8]\n"
          ]
        }
      ]
    },
    {
      "cell_type": "code",
      "source": [
        "# Question 18: Find the sum of all elements in 3D list [[[1, 2], [3, 4]], [[5, 6], [7, 8]]]\n",
        "\n",
        "print(\"\\nQuestion 18: Find the sum of all elements in 3D list [[[1, 2], [3, 4]], [[5, 6], [7, 8]]]\")\n",
        "\n",
        "# Your code here\n",
        "s=[[[1, 2], [3, 4]], [[5, 6], [7, 8]]]\n",
        "y1=s[0]\n",
        "y2=s[1]\n",
        "z1=y1[0]\n",
        "z2=y1[1]\n",
        "x1=y2[0]\n",
        "x2=y2[1]\n",
        "print(sum(z1)+sum(z2)+sum(x1)+sum(x2))\n",
        "\n"
      ],
      "metadata": {
        "colab": {
          "base_uri": "https://localhost:8080/"
        },
        "id": "tV2M4ebbeM6z",
        "outputId": "a070fab9-bcfb-4c5b-9ce2-2543cc8d5091"
      },
      "execution_count": 12,
      "outputs": [
        {
          "output_type": "stream",
          "name": "stdout",
          "text": [
            "\n",
            "Question 18: Find the sum of all elements in 3D list [[[1, 2], [3, 4]], [[5, 6], [7, 8]]]\n",
            "36\n"
          ]
        }
      ]
    },
    {
      "cell_type": "code",
      "source": [
        "# Question 21: Find the length of each string in [\"apple\", \"banana\", \"cherry\", \"date\"]\n",
        "\n",
        "print(\"\\nQuestion 21: Find the length of each string in ['apple', 'banana', 'cherry', 'date']\")\n",
        "\n",
        "# Your code here\n",
        "x = [\"apple\", \"banana\", \"cherry\", \"date\"]\n",
        "print(len(x[0]), len(x[1]), len(x[2]), len(x[3]))\n",
        "\n"
      ],
      "metadata": {
        "colab": {
          "base_uri": "https://localhost:8080/"
        },
        "id": "IdxsmJ7ehR32",
        "outputId": "27d0beda-e59b-4143-a661-7fbae867d2c8"
      },
      "execution_count": 14,
      "outputs": [
        {
          "output_type": "stream",
          "name": "stdout",
          "text": [
            "\n",
            "Question 21: Find the length of each string in ['apple', 'banana', 'cherry', 'date']\n",
            "5 6 6 4\n"
          ]
        }
      ]
    }
  ]
}