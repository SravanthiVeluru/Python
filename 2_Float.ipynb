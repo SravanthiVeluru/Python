{
  "nbformat": 4,
  "nbformat_minor": 0,
  "metadata": {
    "colab": {
      "provenance": []
    },
    "kernelspec": {
      "name": "python3",
      "display_name": "Python 3"
    },
    "language_info": {
      "name": "python"
    }
  },
  "cells": [
    {
      "cell_type": "code",
      "source": [
        "# Question 1: Calculate the average of 3.14, 2.718, 1.618, 0.577\n",
        "print(\"Question 1: Calculate the average of 3.14, 2.718, 1.618, 0.577\")\n",
        "# Your code here\n",
        "n=[3.14, 2.718, 1.618, 0.577]\n",
        "x=sum(n)/len(n)\n",
        "x"
      ],
      "metadata": {
        "colab": {
          "base_uri": "https://localhost:8080/"
        },
        "id": "tCnzJNrTL51U",
        "outputId": "846928f7-508e-468f-9724-c33f1e8c5ef6"
      },
      "execution_count": 3,
      "outputs": [
        {
          "output_type": "stream",
          "name": "stdout",
          "text": [
            "Question 1: Calculate the average of 3.14, 2.718, 1.618, 0.577\n"
          ]
        },
        {
          "output_type": "execute_result",
          "data": {
            "text/plain": [
              "2.01325"
            ]
          },
          "metadata": {},
          "execution_count": 3
        }
      ]
    },
    {
      "cell_type": "code",
      "source": [
        "#Question 2: Convert 98.6 Fahrenheit to Celsius (F = C * 9/5 + 32)\n",
        "print(\"\\nQuestion 2: Convert 98.6 Fahrenheit to Celsius\")\n",
        "# Your code here\n",
        "n=98.6\n",
        "f=((n*9/5)+32)\n",
        "f"
      ],
      "metadata": {
        "colab": {
          "base_uri": "https://localhost:8080/"
        },
        "id": "1xdhs2NDNBp2",
        "outputId": "edfead54-5e43-4dd5-fcff-0e73c3b94c2d"
      },
      "execution_count": 7,
      "outputs": [
        {
          "output_type": "stream",
          "name": "stdout",
          "text": [
            "\n",
            "Question 2: Convert 98.6 Fahrenheit to Celsius\n"
          ]
        },
        {
          "output_type": "execute_result",
          "data": {
            "text/plain": [
              "209.48"
            ]
          },
          "metadata": {},
          "execution_count": 7
        }
      ]
    },
    {
      "cell_type": "code",
      "source": [
        "# Question 3: Calculate the compound interest on $1000 at 5.5% for 3 years\n",
        "print(\"\\nQuestion 3: Calculate compound interest on $1000 at 5.5% for 3 years\")\n",
        "# Your code here\n",
        "i = 1000\n",
        "n = i + (i * 5.5 / 100)\n",
        "m= n + (n * 5.5 / 100)\n",
        "o = m + (m * 5.5 / 100)\n",
        "t=o-i\n",
        "t"
      ],
      "metadata": {
        "colab": {
          "base_uri": "https://localhost:8080/"
        },
        "id": "wVckhHQoPYBO",
        "outputId": "4762ee58-c3e5-4b88-d4a0-1a7777ba1c93"
      },
      "execution_count": 22,
      "outputs": [
        {
          "output_type": "stream",
          "name": "stdout",
          "text": [
            "\n",
            "Question 3: Calculate compound interest on $1000 at 5.5% for 3 years\n"
          ]
        },
        {
          "output_type": "execute_result",
          "data": {
            "text/plain": [
              "174.24137500000006"
            ]
          },
          "metadata": {},
          "execution_count": 22
        }
      ]
    },
    {
      "cell_type": "code",
      "source": [
        "# Question 4: Find the hypotenuse of a right triangle with sides 3.5 and 4.2\n",
        "print(\"\\nQuestion 4: Find the hypotenuse of a right triangle with sides 3.5 and 4.2\")\n",
        "# Your code here\n",
        "a=3.5\n",
        "b=4.2\n",
        "c=(b**2)+(a**2)\n",
        "d=c**1/2\n",
        "d"
      ],
      "metadata": {
        "colab": {
          "base_uri": "https://localhost:8080/"
        },
        "id": "587uROaLZuSI",
        "outputId": "a49f7eed-c1f9-432d-d1df-2b991a474ba8"
      },
      "execution_count": 27,
      "outputs": [
        {
          "output_type": "stream",
          "name": "stdout",
          "text": [
            "\n",
            "Question 4: Find the hypotenuse of a right triangle with sides 3.5 and 4.2\n"
          ]
        },
        {
          "output_type": "execute_result",
          "data": {
            "text/plain": [
              "14.945"
            ]
          },
          "metadata": {},
          "execution_count": 27
        }
      ]
    },
    {
      "cell_type": "code",
      "source": [
        "# Question 5: Calculate the volume of a sphere with radius 7.8\n",
        "print(\"\\nQuestion 5: Calculate the volume of a sphere with radius 7.8\")\n",
        "# Your code here\n",
        "s=7.8\n",
        "b=s**2\n",
        "a=4*3.14*b\n",
        "a"
      ],
      "metadata": {
        "colab": {
          "base_uri": "https://localhost:8080/"
        },
        "id": "oSwMfRkqa9sv",
        "outputId": "2116fb0a-867f-4bea-a6f0-e9accf2cc6d4"
      },
      "execution_count": 29,
      "outputs": [
        {
          "output_type": "stream",
          "name": "stdout",
          "text": [
            "\n",
            "Question 5: Calculate the volume of a sphere with radius 7.8\n"
          ]
        },
        {
          "output_type": "execute_result",
          "data": {
            "text/plain": [
              "764.1504"
            ]
          },
          "metadata": {},
          "execution_count": 29
        }
      ]
    },
    {
      "cell_type": "code",
      "source": [
        "# Question 6: Round 3.14159 to 3 decimal places\n",
        "print(\"\\nQuestion 6: Round 3.14159 to 3 decimal places\")\n",
        "# Your code here\n",
        "a=3.14159\n",
        "r= round(3.14159, 3)\n",
        "r"
      ],
      "metadata": {
        "colab": {
          "base_uri": "https://localhost:8080/"
        },
        "id": "ZeWNTN2gbcvX",
        "outputId": "ffd262fd-3abc-41e3-ebb7-e49f4c0f6957"
      },
      "execution_count": 30,
      "outputs": [
        {
          "output_type": "stream",
          "name": "stdout",
          "text": [
            "\n",
            "Question 6: Round 3.14159 to 3 decimal places\n"
          ]
        },
        {
          "output_type": "execute_result",
          "data": {
            "text/plain": [
              "3.142"
            ]
          },
          "metadata": {},
          "execution_count": 30
        }
      ]
    },
    {
      "cell_type": "code",
      "source": [
        "# Question 7: Calculate the percentage: 45 out of 67\n",
        "print(\"\\nQuestion 7: Calculate the percentage: 45 out of 67\")\n",
        "# Your code here\n",
        "a=45\n",
        "b=67\n",
        "c=(a*1/a)*100\n",
        "d=(b*1/a)*100\n",
        "d\n",
        "e=(c/d)*100\n",
        "e"
      ],
      "metadata": {
        "colab": {
          "base_uri": "https://localhost:8080/"
        },
        "id": "uK-rFjw9byqG",
        "outputId": "9a33440c-bfb3-4c2e-a127-fa4c430213e2"
      },
      "execution_count": 36,
      "outputs": [
        {
          "output_type": "stream",
          "name": "stdout",
          "text": [
            "\n",
            "Question 7: Calculate the percentage: 45 out of 67\n"
          ]
        },
        {
          "output_type": "execute_result",
          "data": {
            "text/plain": [
              "67.16417910447761"
            ]
          },
          "metadata": {},
          "execution_count": 36
        }
      ]
    },
    {
      "cell_type": "code",
      "source": [
        "# Question 8: Find the square root of 23.456\n",
        "print(\"\\nQuestion 8: Find the square root of 23.456\")\n",
        "# Your code here\n",
        "a=23.456\n",
        "b=a**2\n",
        "b"
      ],
      "metadata": {
        "colab": {
          "base_uri": "https://localhost:8080/"
        },
        "id": "PFibx40CcnVp",
        "outputId": "bd85b74e-c0b4-47c8-90b2-2ea4c541683e"
      },
      "execution_count": 37,
      "outputs": [
        {
          "output_type": "stream",
          "name": "stdout",
          "text": [
            "\n",
            "Question 8: Find the square root of 23.456\n"
          ]
        },
        {
          "output_type": "execute_result",
          "data": {
            "text/plain": [
              "550.183936"
            ]
          },
          "metadata": {},
          "execution_count": 37
        }
      ]
    },
    {
      "cell_type": "code",
      "source": [
        "# Question 9: Calculate the simple interest: Principal=2500, Rate=6.5%, Time=2.5 years\n",
        "print(\"\\nQuestion 9: Calculate simple interest: Principal=2500, Rate=6.5%, Time=2.5 years\")\n",
        "# Your code here\n",
        "p=2500\n",
        "t=2.5\n",
        "r=6.5\n",
        "i=(2500*6.5*2.5)/100\n",
        "i"
      ],
      "metadata": {
        "colab": {
          "base_uri": "https://localhost:8080/"
        },
        "id": "KLOh_JTlcxFn",
        "outputId": "7e3121e6-2ffa-46ef-9e09-b8575eeef94c"
      },
      "execution_count": 38,
      "outputs": [
        {
          "output_type": "stream",
          "name": "stdout",
          "text": [
            "\n",
            "Question 9: Calculate simple interest: Principal=2500, Rate=6.5%, Time=2.5 years\n"
          ]
        },
        {
          "output_type": "execute_result",
          "data": {
            "text/plain": [
              "406.25"
            ]
          },
          "metadata": {},
          "execution_count": 38
        }
      ]
    },
    {
      "cell_type": "code",
      "source": [
        "# Question 10: Convert 45.7 degrees to radians\n",
        "print(\"\\nQuestion 10: Convert 45.7 degrees to radians\")\n",
        "# Your code here\n",
        "d=45.7\n",
        "r=(d*3.14)/180\n",
        "r"
      ],
      "metadata": {
        "colab": {
          "base_uri": "https://localhost:8080/"
        },
        "id": "bRLqh2mrdqze",
        "outputId": "a311d11b-aa23-4ddb-b2a9-6cf76636f6b2"
      },
      "execution_count": 39,
      "outputs": [
        {
          "output_type": "stream",
          "name": "stdout",
          "text": [
            "\n",
            "Question 10: Convert 45.7 degrees to radians\n"
          ]
        },
        {
          "output_type": "execute_result",
          "data": {
            "text/plain": [
              "0.7972111111111112"
            ]
          },
          "metadata": {},
          "execution_count": 39
        }
      ]
    }
  ]
}